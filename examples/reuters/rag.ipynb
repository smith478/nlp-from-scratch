{
 "cells": [
  {
   "cell_type": "markdown",
   "id": "73836c4a-12db-4f86-9310-09374621d3f2",
   "metadata": {},
   "source": [
    "# Retrieval Augmented Generation - RAG \n",
    "\n",
    "We will use the RAG technique to use language models to attempt to solve the multi-class, multi-label classification problem."
   ]
  },
  {
   "cell_type": "code",
   "execution_count": 2,
   "id": "b3abf0e8-8692-488f-a941-820ec6da5269",
   "metadata": {},
   "outputs": [],
   "source": [
    "from utils import parse_sgm_to_dataframe"
   ]
  },
  {
   "cell_type": "markdown",
   "id": "5e2d6b02-8f86-45c8-ac13-525484a6a2d2",
   "metadata": {},
   "source": [
    "## Data Exploration"
   ]
  },
  {
   "cell_type": "code",
   "execution_count": 3,
   "id": "35b65e32-f40c-4cd8-af48-170bf44de1a2",
   "metadata": {},
   "outputs": [],
   "source": [
    "df = parse_sgm_to_dataframe('../../data/reuters21578/reut2-000.sgm')"
   ]
  },
  {
   "cell_type": "code",
   "execution_count": 4,
   "id": "38adab50-2e10-4462-abd6-315214216f91",
   "metadata": {},
   "outputs": [],
   "source": [
    "def check_topics_in_file(topic_list, file_path):\n",
    "    # Read topics from the file\n",
    "    with open(file_path, 'r') as file:\n",
    "        file_topics = set(file.read().splitlines())\n",
    "    \n",
    "    # Check if all topics in topic_list are in file_topics\n",
    "    missing_topics = set(topic_list) - file_topics\n",
    "    \n",
    "    if not missing_topics:\n",
    "        return True, []\n",
    "    else:\n",
    "        return False, list(missing_topics)"
   ]
  },
  {
   "cell_type": "code",
   "execution_count": 5,
   "id": "d0f5320e-199f-4dc4-8b9c-cf20b72ace15",
   "metadata": {},
   "outputs": [],
   "source": [
    "topic_list = df['Topic'].unique()"
   ]
  },
  {
   "cell_type": "code",
   "execution_count": 7,
   "id": "3ca2a85f-bcaf-4d9a-92b7-fea744347a65",
   "metadata": {},
   "outputs": [
    {
     "data": {
      "text/plain": [
       "(False, ['', 'cotton'])"
      ]
     },
     "execution_count": 7,
     "metadata": {},
     "output_type": "execute_result"
    }
   ],
   "source": [
    "check_topics_in_file(topic_list, '../../data/reuters21578/all-topics-strings.lc.txt')"
   ]
  },
  {
   "cell_type": "code",
   "execution_count": 8,
   "id": "7d7b96ee-2639-488f-9892-8b6667d3eaa9",
   "metadata": {},
   "outputs": [],
   "source": [
    "topic_file = '../../data/reuters21578/all-topics-strings.lc.txt'\n",
    "with open(topic_file, 'r') as file:\n",
    "    file_topics = set(file.read().splitlines())"
   ]
  },
  {
   "cell_type": "code",
   "execution_count": 9,
   "id": "b0baca1b-902c-4396-a102-427482634609",
   "metadata": {},
   "outputs": [],
   "source": [
    "topics = list(file_topics)"
   ]
  },
  {
   "cell_type": "code",
   "execution_count": 10,
   "id": "502e62b4-f078-4892-a330-5a5431f6dacf",
   "metadata": {},
   "outputs": [],
   "source": [
    "topics = [s.strip() for s in topics]"
   ]
  },
  {
   "cell_type": "code",
   "execution_count": 11,
   "id": "92c1edb4-8488-4b1f-8c48-079a3ab5ac75",
   "metadata": {},
   "outputs": [],
   "source": [
    "topics.sort()"
   ]
  },
  {
   "cell_type": "code",
   "execution_count": 13,
   "id": "c6ac7156-9788-4a14-84ef-3d313000c2ea",
   "metadata": {},
   "outputs": [
    {
     "data": {
      "text/html": [
       "<div>\n",
       "<style scoped>\n",
       "    .dataframe tbody tr th:only-of-type {\n",
       "        vertical-align: middle;\n",
       "    }\n",
       "\n",
       "    .dataframe tbody tr th {\n",
       "        vertical-align: top;\n",
       "    }\n",
       "\n",
       "    .dataframe thead th {\n",
       "        text-align: right;\n",
       "    }\n",
       "</style>\n",
       "<table border=\"1\" class=\"dataframe\">\n",
       "  <thead>\n",
       "    <tr style=\"text-align: right;\">\n",
       "      <th></th>\n",
       "      <th>ID</th>\n",
       "      <th>Topic</th>\n",
       "      <th>Body</th>\n",
       "    </tr>\n",
       "  </thead>\n",
       "  <tbody>\n",
       "    <tr>\n",
       "      <th>0</th>\n",
       "      <td>1</td>\n",
       "      <td>cocoa</td>\n",
       "      <td>Showers continued throughout the week in\\nthe ...</td>\n",
       "    </tr>\n",
       "    <tr>\n",
       "      <th>1</th>\n",
       "      <td>2</td>\n",
       "      <td></td>\n",
       "      <td>Standard Oil Co and BP North America\\nInc said...</td>\n",
       "    </tr>\n",
       "    <tr>\n",
       "      <th>2</th>\n",
       "      <td>3</td>\n",
       "      <td></td>\n",
       "      <td>Texas Commerce Bancshares Inc's Texas\\nCommerc...</td>\n",
       "    </tr>\n",
       "    <tr>\n",
       "      <th>3</th>\n",
       "      <td>4</td>\n",
       "      <td></td>\n",
       "      <td>BankAmerica Corp is not under\\npressure to act...</td>\n",
       "    </tr>\n",
       "    <tr>\n",
       "      <th>4</th>\n",
       "      <td>5</td>\n",
       "      <td>grain</td>\n",
       "      <td>The U.S. Agriculture Department\\nreported the ...</td>\n",
       "    </tr>\n",
       "  </tbody>\n",
       "</table>\n",
       "</div>"
      ],
      "text/plain": [
       "  ID  Topic                                               Body\n",
       "0  1  cocoa  Showers continued throughout the week in\\nthe ...\n",
       "1  2         Standard Oil Co and BP North America\\nInc said...\n",
       "2  3         Texas Commerce Bancshares Inc's Texas\\nCommerc...\n",
       "3  4         BankAmerica Corp is not under\\npressure to act...\n",
       "4  5  grain  The U.S. Agriculture Department\\nreported the ..."
      ]
     },
     "execution_count": 13,
     "metadata": {},
     "output_type": "execute_result"
    }
   ],
   "source": [
    "df.head()"
   ]
  },
  {
   "cell_type": "markdown",
   "id": "08350ad8-769d-4245-a76f-423209c53869",
   "metadata": {},
   "source": [
    "## Find suitable pre-trained models"
   ]
  },
  {
   "cell_type": "markdown",
   "id": "d0c09167-a481-4fd3-9b49-4ccc5a80d9d6",
   "metadata": {},
   "source": [
    "## Explore the use of models pretrained on article data"
   ]
  },
  {
   "cell_type": "markdown",
   "id": "3c020182-2783-4969-bb28-ea8cd6d9bd6a",
   "metadata": {},
   "source": [
    "## Optimize our RAG pipeline"
   ]
  },
  {
   "cell_type": "markdown",
   "id": "a5a4f2f9-c47e-4a1b-be95-83e937ebc075",
   "metadata": {},
   "source": [
    "## Explore retrieval improvements\n",
    "\n",
    "Retrieval is in-expensive so it is in most cases a good tradeoff to do more on the retrieval side in order to ensure that we have a good list of candidate labels that includes the true labels.\n",
    "\n",
    "To explore:\n",
    "- Sentence splitting\n",
    "- Retrieval ensemble"
   ]
  },
  {
   "cell_type": "code",
   "execution_count": null,
   "id": "e3e2fd2c-2b38-4c43-ba9c-af2acb50247a",
   "metadata": {},
   "outputs": [],
   "source": []
  }
 ],
 "metadata": {
  "kernelspec": {
   "display_name": "Python 3 (ipykernel)",
   "language": "python",
   "name": "python3"
  },
  "language_info": {
   "codemirror_mode": {
    "name": "ipython",
    "version": 3
   },
   "file_extension": ".py",
   "mimetype": "text/x-python",
   "name": "python",
   "nbconvert_exporter": "python",
   "pygments_lexer": "ipython3",
   "version": "3.11.9"
  }
 },
 "nbformat": 4,
 "nbformat_minor": 5
}
