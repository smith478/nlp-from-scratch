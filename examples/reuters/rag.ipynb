{
 "cells": [
  {
   "cell_type": "markdown",
   "id": "73836c4a-12db-4f86-9310-09374621d3f2",
   "metadata": {},
   "source": [
    "# Retrieval Augmented Generation - RAG \n",
    "\n",
    "We will use the RAG technique to use language models to attempt to solve the multi-class, multi-label classification problem."
   ]
  },
  {
   "cell_type": "code",
   "execution_count": null,
   "id": "b3abf0e8-8692-488f-a941-820ec6da5269",
   "metadata": {},
   "outputs": [],
   "source": [
    "from utils import parse_sgm_to_dataframe"
   ]
  },
  {
   "cell_type": "markdown",
   "id": "5e2d6b02-8f86-45c8-ac13-525484a6a2d2",
   "metadata": {},
   "source": [
    "## Data Exploration"
   ]
  },
  {
   "cell_type": "code",
   "execution_count": null,
   "id": "35b65e32-f40c-4cd8-af48-170bf44de1a2",
   "metadata": {},
   "outputs": [],
   "source": [
    "df = parse_sgm_to_dataframe('../../data/reuters21578/reut2-000.sgm')"
   ]
  },
  {
   "cell_type": "markdown",
   "id": "08350ad8-769d-4245-a76f-423209c53869",
   "metadata": {},
   "source": [
    "## Find suitable pre-trained models"
   ]
  },
  {
   "cell_type": "markdown",
   "id": "d0c09167-a481-4fd3-9b49-4ccc5a80d9d6",
   "metadata": {},
   "source": [
    "## Explore the use of models pretrained on article data"
   ]
  },
  {
   "cell_type": "markdown",
   "id": "3c020182-2783-4969-bb28-ea8cd6d9bd6a",
   "metadata": {},
   "source": [
    "## Optimize our RAG pipeline"
   ]
  },
  {
   "cell_type": "markdown",
   "id": "a5a4f2f9-c47e-4a1b-be95-83e937ebc075",
   "metadata": {},
   "source": [
    "## Explore retrieval improvements\n",
    "\n",
    "Retrieval is in-expensive so it is in most cases a good tradeoff to do more on the retrieval side in order to ensure that we have a good list of candidate labels that includes the true labels.\n",
    "\n",
    "To explore:\n",
    "- Sentence splitting\n",
    "- Retrieval ensemble"
   ]
  },
  {
   "cell_type": "code",
   "execution_count": null,
   "id": "e3e2fd2c-2b38-4c43-ba9c-af2acb50247a",
   "metadata": {},
   "outputs": [],
   "source": []
  }
 ],
 "metadata": {
  "kernelspec": {
   "display_name": "Python 3 (ipykernel)",
   "language": "python",
   "name": "python3"
  },
  "language_info": {
   "codemirror_mode": {
    "name": "ipython",
    "version": 3
   },
   "file_extension": ".py",
   "mimetype": "text/x-python",
   "name": "python",
   "nbconvert_exporter": "python",
   "pygments_lexer": "ipython3",
   "version": "3.11.9"
  }
 },
 "nbformat": 4,
 "nbformat_minor": 5
}
