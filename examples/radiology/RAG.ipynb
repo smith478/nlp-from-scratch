{
 "cells": [
  {
   "cell_type": "code",
   "execution_count": null,
   "id": "13201b23-bfbf-448e-9598-f1fd42ef35ea",
   "metadata": {},
   "outputs": [],
   "source": [
    "import dspy\n",
    "from sentence_transformers import SentenceTransformer\n",
    "from sklearn.metrics.pairwise import cosine_similarity\n",
    "from typing import List, Dict, Union\n",
    "\n",
    "from utils import json_to_dataframe, json_to_string_list"
   ]
  },
  {
   "cell_type": "code",
   "execution_count": null,
   "id": "519c3c5a-fdfa-400f-b11f-6c1c4fddcd54",
   "metadata": {},
   "outputs": [],
   "source": [
    "filepath = '../../data/vector_veterinary_imaging_2.json'\n",
    "\n",
    "df = json_to_dataframe(filepath) \n",
    "rad_strings = json_to_string_list(filepath)"
   ]
  },
  {
   "cell_type": "code",
   "execution_count": null,
   "id": "c52b6f5e-9982-45e2-b7e3-b1363bd4c4da",
   "metadata": {},
   "outputs": [],
   "source": [
    "df"
   ]
  },
  {
   "cell_type": "markdown",
   "id": "7647ea8f-0fc8-459c-a97f-9808fb2c1fcc",
   "metadata": {},
   "source": [
    "## Retrieval"
   ]
  },
  {
   "cell_type": "code",
   "execution_count": null,
   "id": "5171c12d-74f2-4cc5-adf5-ad6627298d93",
   "metadata": {},
   "outputs": [],
   "source": [
    "class SentenceTransformerRetriever(dspy.Retrieve):\n",
    "    def __init__(self, model: str, findings: List[str], k: int):\n",
    "        self.model = model if isinstance(model, SentenceTransformer) else SentenceTransformer(model, trust_remote_code=True)\n",
    "        self.findings = findings\n",
    "        self.k = k\n",
    "        self.embeddings = None\n",
    "        self.init_embeddings()\n",
    "\n",
    "    def init_embeddings(self):\n",
    "        self.embeddings = self.model.encode(self.findings)\n",
    "\n",
    "    def forward(self, query: str, k: int) -> List[Dict[str, Union[str, float]]]:\n",
    "        query_embedding = self.model.encode([query])\n",
    "        similarities = cosine_similarity(query_embedding, self.embeddings)[0]\n",
    "        top_k_indicies = np.argsort(similarities)[-k:][::-1]\n",
    "\n",
    "        results = [\n",
    "            {'long_text': self.findings[idx], 'score': similarities[idx]} for idx in top_k_indicies\n",
    "        ]\n",
    "\n",
    "        return results"
   ]
  },
  {
   "cell_type": "code",
   "execution_count": null,
   "id": "9b99c231-1c02-4a25-bd49-0ea166144e65",
   "metadata": {},
   "outputs": [],
   "source": []
  }
 ],
 "metadata": {
  "kernelspec": {
   "display_name": "Python 3 (ipykernel)",
   "language": "python",
   "name": "python3"
  },
  "language_info": {
   "codemirror_mode": {
    "name": "ipython",
    "version": 3
   },
   "file_extension": ".py",
   "mimetype": "text/x-python",
   "name": "python",
   "nbconvert_exporter": "python",
   "pygments_lexer": "ipython3",
   "version": "3.11.0"
  }
 },
 "nbformat": 4,
 "nbformat_minor": 5
}
