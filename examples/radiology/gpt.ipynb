{
 "cells": [
  {
   "cell_type": "markdown",
   "id": "b3c83d75-8e21-4c49-ae23-004e8f14cc32",
   "metadata": {},
   "source": [
    "Note code is coming from Sebastian Raschka's [repo](https://github.com/rasbt/LLMs-from-scratch) covering LLMs from scratch with slight modifications"
   ]
  },
  {
   "cell_type": "code",
   "execution_count": 1,
   "id": "23037aab-769a-467c-b4c6-a689d3ab51ed",
   "metadata": {},
   "outputs": [],
   "source": [
    "import tiktoken\n",
    "import torch\n",
    "from torch.utils.data import DataLoader, Dataset\n",
    "from utils import json_to_dataframe, json_to_string_list"
   ]
  },
  {
   "cell_type": "markdown",
   "id": "38145ed6-c229-424f-a20b-b224be98667a",
   "metadata": {},
   "source": [
    "## Define dataloader"
   ]
  },
  {
   "cell_type": "code",
   "execution_count": 2,
   "id": "b5e4fa00-662c-44e3-9da1-62fc80ddae09",
   "metadata": {},
   "outputs": [],
   "source": [
    "def encode_and_decode_example(list_of_strings):\n",
    "    # Initialize the tokenizer\n",
    "    tokenizer = tiktoken.get_encoding(\"gpt2\")\n",
    "\n",
    "    # Get the token ID for <|endoftext|>\n",
    "    endoftext_token = tokenizer.encode(\"<|endoftext|>\", allowed_special={\"<|endoftext|>\"})[0]\n",
    "\n",
    "    all_tokens = []\n",
    "    for text in list_of_strings:\n",
    "        # Encode the text\n",
    "        encoded = tokenizer.encode(text, allowed_special={\"<|endoftext|>\"})\n",
    "        all_tokens.extend(encoded + [endoftext_token])\n",
    "\n",
    "    # Decode the tokens\n",
    "    decoded = tokenizer.decode(all_tokens)\n",
    "\n",
    "    return all_tokens, decoded"
   ]
  },
  {
   "cell_type": "code",
   "execution_count": 3,
   "id": "1a53cb81-7240-4cfd-9d45-dc3aa0fbe53c",
   "metadata": {},
   "outputs": [],
   "source": [
    "class GPTDatasetV1(Dataset):\n",
    "    def __init__(self, articles, tokenizer, max_length, stride):\n",
    "        self.input_ids = []\n",
    "        self.target_ids = []\n",
    "\n",
    "        # Get the token ID for <|endoftext|>\n",
    "        endoftext_token = tokenizer.encode(\"<|endoftext|>\", allowed_special={\"<|endoftext|>\"})[0]\n",
    "\n",
    "        # Tokenize all articles with end-of-text token\n",
    "        all_tokens = []\n",
    "        for article in articles:\n",
    "            article_tokens = tokenizer.encode(article, allowed_special={\"<|endoftext|>\"})\n",
    "            all_tokens.extend(article_tokens + [endoftext_token])\n",
    "\n",
    "        # Use a sliding window to chunk the tokens into overlapping sequences of max_length\n",
    "        for i in range(0, len(all_tokens) - max_length, stride):\n",
    "            input_chunk = all_tokens[i:i + max_length]\n",
    "            target_chunk = all_tokens[i + 1: i + max_length + 1]\n",
    "            self.input_ids.append(torch.tensor(input_chunk))\n",
    "            self.target_ids.append(torch.tensor(target_chunk))\n",
    "\n",
    "    def __len__(self):\n",
    "        return len(self.input_ids)\n",
    "\n",
    "    def __getitem__(self, idx):\n",
    "        return self.input_ids[idx], self.target_ids[idx]"
   ]
  },
  {
   "cell_type": "code",
   "execution_count": 4,
   "id": "3796d3da-d0c2-48e9-b141-da4277d40833",
   "metadata": {},
   "outputs": [],
   "source": [
    "def create_dataloader_v1(articles, batch_size=4, max_length=256, \n",
    "                         stride=128, shuffle=True, drop_last=True, num_workers=0):\n",
    "    # Initialize the tokenizer\n",
    "    tokenizer = tiktoken.get_encoding(\"gpt2\")\n",
    "\n",
    "    # Create dataset\n",
    "    dataset = GPTDatasetV1(articles, tokenizer, max_length, stride)\n",
    "\n",
    "    # Create dataloader\n",
    "    dataloader = DataLoader(\n",
    "        dataset, batch_size=batch_size, shuffle=shuffle, drop_last=drop_last, num_workers=num_workers)\n",
    "\n",
    "    return dataloader"
   ]
  },
  {
   "cell_type": "markdown",
   "id": "ab7e2d9a-fbbc-47b7-a8ee-efc5117dcfca",
   "metadata": {},
   "source": [
    "## Load radiology reports dataset"
   ]
  },
  {
   "cell_type": "code",
   "execution_count": 5,
   "id": "b10af37b-6b85-4e45-9601-34b612fb6ead",
   "metadata": {},
   "outputs": [],
   "source": [
    "filepath = '../../data/vector_veterinary_imaging_2.json'\n",
    "\n",
    "df = json_to_dataframe(filepath) \n",
    "rad_strings = json_to_string_list(filepath)"
   ]
  },
  {
   "cell_type": "code",
   "execution_count": 6,
   "id": "28ebf5d3-b68f-4864-b00e-6aaa73ac29c5",
   "metadata": {},
   "outputs": [
    {
     "data": {
      "text/html": [
       "<div>\n",
       "<style scoped>\n",
       "    .dataframe tbody tr th:only-of-type {\n",
       "        vertical-align: middle;\n",
       "    }\n",
       "\n",
       "    .dataframe tbody tr th {\n",
       "        vertical-align: top;\n",
       "    }\n",
       "\n",
       "    .dataframe thead th {\n",
       "        text-align: right;\n",
       "    }\n",
       "</style>\n",
       "<table border=\"1\" class=\"dataframe\">\n",
       "  <thead>\n",
       "    <tr style=\"text-align: right;\">\n",
       "      <th></th>\n",
       "      <th>case_identifier</th>\n",
       "      <th>findings</th>\n",
       "      <th>conclusions_and_recommendations</th>\n",
       "    </tr>\n",
       "  </thead>\n",
       "  <tbody>\n",
       "    <tr>\n",
       "      <th>0</th>\n",
       "      <td>181153</td>\n",
       "      <td>Orthogonal pelvis and orthogonal right shoulde...</td>\n",
       "      <td>1. Medial right mildly comminuted acetabular f...</td>\n",
       "    </tr>\n",
       "    <tr>\n",
       "      <th>1</th>\n",
       "      <td>181413</td>\n",
       "      <td>Three view whole body images dated April 14, 2...</td>\n",
       "      <td>The material within the stomach and small inte...</td>\n",
       "    </tr>\n",
       "    <tr>\n",
       "      <th>2</th>\n",
       "      <td>181821</td>\n",
       "      <td>Three view thoracic radiographs (total of 5 th...</td>\n",
       "      <td>No aggressive osseous changes are noted. The b...</td>\n",
       "    </tr>\n",
       "    <tr>\n",
       "      <th>3</th>\n",
       "      <td>181886</td>\n",
       "      <td>Orthogonal images of the right pelvic limb are...</td>\n",
       "      <td>1. Chronic right calcaneal tendonopathy, with ...</td>\n",
       "    </tr>\n",
       "    <tr>\n",
       "      <th>4</th>\n",
       "      <td>181911</td>\n",
       "      <td>Lateral abdomen and pelvis images are provided...</td>\n",
       "      <td>1. Numerous small urinary cystoliths, non-obst...</td>\n",
       "    </tr>\n",
       "    <tr>\n",
       "      <th>...</th>\n",
       "      <td>...</td>\n",
       "      <td>...</td>\n",
       "      <td>...</td>\n",
       "    </tr>\n",
       "    <tr>\n",
       "      <th>1756</th>\n",
       "      <td>274208</td>\n",
       "      <td>Three view thorax and three view abdomen image...</td>\n",
       "      <td>Aggressive osseous change of the L6 vertebral ...</td>\n",
       "    </tr>\n",
       "    <tr>\n",
       "      <th>1757</th>\n",
       "      <td>274229</td>\n",
       "      <td>Orthogonal thorax and three view abdomen image...</td>\n",
       "      <td>Right cranial pulmonary mass. This is most lik...</td>\n",
       "    </tr>\n",
       "    <tr>\n",
       "      <th>1758</th>\n",
       "      <td>274244</td>\n",
       "      <td>Liver: Diffusely homogenously hyperechoic, oth...</td>\n",
       "      <td>At least one gastric mural nodule extending in...</td>\n",
       "    </tr>\n",
       "    <tr>\n",
       "      <th>1759</th>\n",
       "      <td>274249</td>\n",
       "      <td>Ventrodorsal pelvis and orthogonal stifles ima...</td>\n",
       "      <td>Right coxofemoral subluxation, progressive fro...</td>\n",
       "    </tr>\n",
       "    <tr>\n",
       "      <th>1760</th>\n",
       "      <td>274264</td>\n",
       "      <td>Lateral left and right thoracic limbs, cranioc...</td>\n",
       "      <td>Normal pelvis and thoracic and pelvic limbs. A...</td>\n",
       "    </tr>\n",
       "  </tbody>\n",
       "</table>\n",
       "<p>1761 rows × 3 columns</p>\n",
       "</div>"
      ],
      "text/plain": [
       "      case_identifier                                           findings  \\\n",
       "0              181153  Orthogonal pelvis and orthogonal right shoulde...   \n",
       "1              181413  Three view whole body images dated April 14, 2...   \n",
       "2              181821  Three view thoracic radiographs (total of 5 th...   \n",
       "3              181886  Orthogonal images of the right pelvic limb are...   \n",
       "4              181911  Lateral abdomen and pelvis images are provided...   \n",
       "...               ...                                                ...   \n",
       "1756           274208  Three view thorax and three view abdomen image...   \n",
       "1757           274229  Orthogonal thorax and three view abdomen image...   \n",
       "1758           274244  Liver: Diffusely homogenously hyperechoic, oth...   \n",
       "1759           274249  Ventrodorsal pelvis and orthogonal stifles ima...   \n",
       "1760           274264  Lateral left and right thoracic limbs, cranioc...   \n",
       "\n",
       "                        conclusions_and_recommendations  \n",
       "0     1. Medial right mildly comminuted acetabular f...  \n",
       "1     The material within the stomach and small inte...  \n",
       "2     No aggressive osseous changes are noted. The b...  \n",
       "3     1. Chronic right calcaneal tendonopathy, with ...  \n",
       "4     1. Numerous small urinary cystoliths, non-obst...  \n",
       "...                                                 ...  \n",
       "1756  Aggressive osseous change of the L6 vertebral ...  \n",
       "1757  Right cranial pulmonary mass. This is most lik...  \n",
       "1758  At least one gastric mural nodule extending in...  \n",
       "1759  Right coxofemoral subluxation, progressive fro...  \n",
       "1760  Normal pelvis and thoracic and pelvic limbs. A...  \n",
       "\n",
       "[1761 rows x 3 columns]"
      ]
     },
     "execution_count": 6,
     "metadata": {},
     "output_type": "execute_result"
    }
   ],
   "source": [
    "df"
   ]
  },
  {
   "cell_type": "code",
   "execution_count": 7,
   "id": "0680ab3c-5529-47bf-ab21-a343548b6722",
   "metadata": {},
   "outputs": [
    {
     "data": {
      "text/plain": [
       "1761"
      ]
     },
     "execution_count": 7,
     "metadata": {},
     "output_type": "execute_result"
    }
   ],
   "source": [
    "len(rad_strings)"
   ]
  },
  {
   "cell_type": "code",
   "execution_count": 8,
   "id": "c662dd88-fcb6-4729-8678-499012d60e08",
   "metadata": {},
   "outputs": [
    {
     "data": {
      "text/plain": [
       "'Findings: Orthogonal pelvis and orthogonal right shoulder and lateral left shoulder images dated April 17, 2023 are provided for review (total of 5 images). Shoulders: A sagittal plane fracture is present through the right scapular body, where the spine meets the body, extending cranially through the cranial margin of the acromion. this fracture does not articulate with the glenoid rims or the scapulohumeral joint. This fracture is visualized on the craniocaudal image, not visualized on the lateral image, thought due to superimposition. The fracture is non-displaced. Small fissures are suspected extending into the scapular spine. The right first rib is fractured in the body. A non-displaced fracture is also suspected in the body of the right second rib. The visible scapula, scapulohumeral margins, and humerus of the left shoulder are normal. The included cervical and thoracic spine is normal. Pelvis: A mildly comminuted segment fracture is present through the medial and cranial third of the right acetabulum. This fracture is mildly medially displaced and overriding, causing widening of the coxofemoral joint space. A transverse fracture is present through the right pubis. The medial aspect of the right acetabulum is mildly heterogenous and poorly defined though no distinct fracture is identified. The left ischial apophysis is fractured and caudally displaced. The remainder of the pelvis is normal. The femoral heads remain smooth and rounded. The sacroiliac joints are normal. The included lumbar and caudal spine is normal. Conclusions and recommendations: 1. Medial right mildly comminuted acetabular fracture, affecting the weight-bearing surface of the acetabulum. Consultation with an orthopedist is warranted regarding surgical fixation. 2. Longitudinal right scapular fracture, affecting the spine where it inserts onto the body. Surgical fixation may also be warranted of this fracture. 3. Left ischial apophysis avulsion fracture, likely involving avulsion of the left quadriceps origin. 4. Right pubis fracture. 5. Possible right non-displaced ischial fracture. 6. Right first and probable second rib fractures.'"
      ]
     },
     "execution_count": 8,
     "metadata": {},
     "output_type": "execute_result"
    }
   ],
   "source": [
    "rad_strings[0]"
   ]
  },
  {
   "cell_type": "markdown",
   "id": "28363559-3f43-4eda-9105-d41e1fdc8acb",
   "metadata": {},
   "source": [
    "## Create data pipeline"
   ]
  },
  {
   "cell_type": "code",
   "execution_count": 9,
   "id": "738db129-e6c7-4682-9a14-6be51c9076c8",
   "metadata": {},
   "outputs": [],
   "source": [
    "vocab_size = 50257\n",
    "output_dim = 256\n",
    "max_len = 1024\n",
    "context_length = max_len"
   ]
  },
  {
   "cell_type": "code",
   "execution_count": 10,
   "id": "38e6bb14-7b1e-429d-b728-0e6115451c4e",
   "metadata": {},
   "outputs": [],
   "source": [
    "import torch\n",
    "import torch.nn as nn\n",
    "\n",
    "token_embedding_layer = nn.Embedding(vocab_size, output_dim)\n",
    "pos_embedding_layer = torch.nn.Embedding(context_length, output_dim)"
   ]
  },
  {
   "cell_type": "code",
   "execution_count": 11,
   "id": "fbc49c66-779f-4194-a21c-a9c838652d3e",
   "metadata": {},
   "outputs": [],
   "source": [
    "max_length = 4\n",
    "dataloader = create_dataloader_v1(rad_strings, batch_size=8, max_length=max_length, stride=max_length)"
   ]
  },
  {
   "cell_type": "code",
   "execution_count": 12,
   "id": "39d0c24a-88b4-4e52-b989-478c666685d3",
   "metadata": {},
   "outputs": [],
   "source": [
    "def inspect_batch(x, y, n_samples=2):\n",
    "    for i in range(min(n_samples, len(x))):\n",
    "        tokenizer = tiktoken.get_encoding(\"gpt2\")\n",
    "        \n",
    "        print(f\"\\nSample {i+1}:\")\n",
    "        \n",
    "        # Decode and print the input sequence\n",
    "        input_text = tokenizer.decode(x[i].tolist())\n",
    "        print(f\"Input text: {input_text}\")\n",
    "        print(f\"Input encoding: {x[i].tolist()}\")\n",
    "        \n",
    "        # Decode and print the target sequence\n",
    "        target_text = tokenizer.decode(y[i].tolist())\n",
    "        print(f\"Target text: {target_text}\")\n",
    "        print(f\"Target encoding: {y[i].tolist()}\")\n",
    "        \n",
    "        print(\"-\" * 50)"
   ]
  },
  {
   "cell_type": "code",
   "execution_count": 13,
   "id": "65e2634e-79b0-4bab-b53b-3d6aa9c584d4",
   "metadata": {},
   "outputs": [],
   "source": [
    "INSPECT = True"
   ]
  },
  {
   "cell_type": "code",
   "execution_count": 14,
   "id": "5a84c4a1-cfbd-4b73-a397-2a7f2929e8b9",
   "metadata": {},
   "outputs": [
    {
     "name": "stdout",
     "output_type": "stream",
     "text": [
      "\n",
      "Sample 1:\n",
      "Input text: ial carpal bones\n",
      "Input encoding: [498, 1097, 18596, 11945]\n",
      "Target text:  carpal bones and\n",
      "Target encoding: [1097, 18596, 11945, 290]\n",
      "--------------------------------------------------\n",
      "\n",
      "Sample 2:\n",
      "Input text:  well as along the\n",
      "Input encoding: [880, 355, 1863, 262]\n",
      "Target text:  as along the lateral\n",
      "Target encoding: [355, 1863, 262, 25653]\n",
      "--------------------------------------------------\n"
     ]
    }
   ],
   "source": [
    "for batch in dataloader:\n",
    "    x, y = batch\n",
    "\n",
    "    if INSPECT:\n",
    "        # Visual inspection\n",
    "        inspect_batch(x, y)\n",
    "\n",
    "    token_embeddings = token_embedding_layer(x)\n",
    "    pos_embeddings = pos_embedding_layer(torch.arange(max_length))\n",
    "\n",
    "    input_embeddings = token_embeddings + pos_embeddings\n",
    "\n",
    "    break"
   ]
  },
  {
   "cell_type": "code",
   "execution_count": 15,
   "id": "3c6d1d95-18b8-4c2f-85b9-4617dfc2c260",
   "metadata": {},
   "outputs": [
    {
     "name": "stdout",
     "output_type": "stream",
     "text": [
      "torch.Size([8, 4, 256])\n"
     ]
    }
   ],
   "source": [
    "print(input_embeddings.shape)"
   ]
  },
  {
   "cell_type": "markdown",
   "id": "ea5c2383-dc43-4f77-be49-560b3d7c5dcb",
   "metadata": {},
   "source": [
    "# Define GPT model"
   ]
  },
  {
   "cell_type": "code",
   "execution_count": 16,
   "id": "2069516d-cbea-4019-9d5f-b207b5d5f1be",
   "metadata": {},
   "outputs": [],
   "source": [
    "import torch.nn as nn"
   ]
  },
  {
   "cell_type": "code",
   "execution_count": 17,
   "id": "89bebd56-46e4-4c35-ab21-56587819f67c",
   "metadata": {},
   "outputs": [],
   "source": [
    "class MultiHeadAttention(nn.Module):\n",
    "    def __init__(self, d_in, d_out, context_length, dropout, num_heads, qkv_bias=False):\n",
    "        super().__init__()\n",
    "        assert d_out % num_heads == 0, \"d_out must be divisible by n_heads\"\n",
    "\n",
    "        self.d_out = d_out\n",
    "        self.num_heads = num_heads\n",
    "        self.head_dim = d_out // num_heads  # Reduce the projection dim to match desired output dim\n",
    "\n",
    "        self.W_query = nn.Linear(d_in, d_out, bias=qkv_bias)\n",
    "        self.W_key = nn.Linear(d_in, d_out, bias=qkv_bias)\n",
    "        self.W_value = nn.Linear(d_in, d_out, bias=qkv_bias)\n",
    "        self.out_proj = nn.Linear(d_out, d_out)  # Linear layer to combine head outputs\n",
    "        self.dropout = nn.Dropout(dropout)\n",
    "        self.register_buffer('mask', torch.triu(torch.ones(context_length, context_length), diagonal=1))\n",
    "\n",
    "    def forward(self, x):\n",
    "        b, num_tokens, d_in = x.shape\n",
    "\n",
    "        keys = self.W_key(x)  # Shape: (b, num_tokens, d_out)\n",
    "        queries = self.W_query(x)\n",
    "        values = self.W_value(x)\n",
    "\n",
    "        # We implicitly split the matrix by adding a `num_heads` dimension\n",
    "        # Unroll last dim: (b, num_tokens, d_out) -> (b, num_tokens, num_heads, head_dim)\n",
    "        keys = keys.view(b, num_tokens, self.num_heads, self.head_dim)\n",
    "        values = values.view(b, num_tokens, self.num_heads, self.head_dim)\n",
    "        queries = queries.view(b, num_tokens, self.num_heads, self.head_dim)\n",
    "\n",
    "        # Transpose: (b, num_tokens, num_heads, head_dim) -> (b, num_heads, num_tokens, head_dim)\n",
    "        keys = keys.transpose(1, 2)\n",
    "        queries = queries.transpose(1, 2)\n",
    "        values = values.transpose(1, 2)\n",
    "\n",
    "        # Compute scaled dot-product attention (aka self-attention) with a causal mask\n",
    "        attn_scores = queries @ keys.transpose(2, 3)  # Dot product for each head\n",
    "\n",
    "        # Original mask truncated to the number of tokens and converted to boolean\n",
    "        mask_bool = self.mask.bool()[:num_tokens, :num_tokens]\n",
    "\n",
    "        # Use the mask to fill attention scores\n",
    "        attn_scores.masked_fill_(mask_bool, -torch.inf)\n",
    "\n",
    "        attn_weights = torch.softmax(attn_scores / keys.shape[-1]**0.5, dim=-1)\n",
    "        attn_weights = self.dropout(attn_weights)\n",
    "\n",
    "        # Shape: (b, num_tokens, num_heads, head_dim)\n",
    "        context_vec = (attn_weights @ values).transpose(1, 2)\n",
    "\n",
    "        # Combine heads, where self.d_out = self.num_heads * self.head_dim\n",
    "        context_vec = context_vec.reshape(b, num_tokens, self.d_out)\n",
    "        context_vec = self.out_proj(context_vec)  # optional projection\n",
    "\n",
    "        return context_vec"
   ]
  },
  {
   "cell_type": "code",
   "execution_count": 18,
   "id": "9726f58c-6849-484e-a481-4ed97bb68bc0",
   "metadata": {},
   "outputs": [],
   "source": [
    "class LayerNorm(nn.Module):\n",
    "    def __init__(self, emb_dim):\n",
    "        super().__init__()\n",
    "        self.eps = 1e-5\n",
    "        self.scale = nn.Parameter(torch.ones(emb_dim))\n",
    "        self.shift = nn.Parameter(torch.zeros(emb_dim))\n",
    "\n",
    "    def forward(self, x):\n",
    "        mean = x.mean(dim=-1, keepdim=True)\n",
    "        var = x.var(dim=-1, keepdim=True, unbiased=False)\n",
    "        norm_x = (x - mean) / torch.sqrt(var + self.eps)\n",
    "        return self.scale * norm_x + self.shift\n",
    "\n",
    "\n",
    "class GELU(nn.Module):\n",
    "    def __init__(self):\n",
    "        super().__init__()\n",
    "\n",
    "    def forward(self, x):\n",
    "        return 0.5 * x * (1 + torch.tanh(\n",
    "            torch.sqrt(torch.tensor(2.0 / torch.pi)) *\n",
    "            (x + 0.044715 * torch.pow(x, 3))\n",
    "        ))\n",
    "\n",
    "\n",
    "class FeedForward(nn.Module):\n",
    "    def __init__(self, cfg):\n",
    "        super().__init__()\n",
    "        self.layers = nn.Sequential(\n",
    "            nn.Linear(cfg[\"emb_dim\"], 4 * cfg[\"emb_dim\"]),\n",
    "            GELU(),\n",
    "            nn.Linear(4 * cfg[\"emb_dim\"], cfg[\"emb_dim\"]),\n",
    "        )\n",
    "\n",
    "    def forward(self, x):\n",
    "        return self.layers(x)"
   ]
  },
  {
   "cell_type": "code",
   "execution_count": 19,
   "id": "eb076600-0858-4476-b2a7-81aa3a474225",
   "metadata": {},
   "outputs": [],
   "source": [
    "class TransformerBlock(nn.Module):\n",
    "    def __init__(self, cfg):\n",
    "        super().__init__()\n",
    "        self.att = MultiHeadAttention(\n",
    "            d_in=cfg[\"emb_dim\"],\n",
    "            d_out=cfg[\"emb_dim\"],\n",
    "            context_length=cfg[\"context_length\"],\n",
    "            num_heads=cfg[\"n_heads\"],\n",
    "            dropout=cfg[\"drop_rate\"],\n",
    "            qkv_bias=cfg[\"qkv_bias\"])\n",
    "        self.ff = FeedForward(cfg)\n",
    "        self.norm1 = LayerNorm(cfg[\"emb_dim\"])\n",
    "        self.norm2 = LayerNorm(cfg[\"emb_dim\"])\n",
    "        self.drop_shortcut = nn.Dropout(cfg[\"drop_rate\"])\n",
    "\n",
    "    def forward(self, x):\n",
    "        # Shortcut connection for attention block\n",
    "        shortcut = x\n",
    "        x = self.norm1(x)\n",
    "        x = self.att(x)   # Shape [batch_size, num_tokens, emb_size]\n",
    "        x = self.drop_shortcut(x)\n",
    "        x = x + shortcut  # Add the original input back\n",
    "\n",
    "        # Shortcut connection for feed-forward block\n",
    "        shortcut = x\n",
    "        x = self.norm2(x)\n",
    "        x = self.ff(x)\n",
    "        x = self.drop_shortcut(x)\n",
    "        x = x + shortcut  # Add the original input back\n",
    "\n",
    "        return x"
   ]
  },
  {
   "cell_type": "code",
   "execution_count": 20,
   "id": "5bceff59-276c-4501-bd01-c38d6a435579",
   "metadata": {},
   "outputs": [],
   "source": [
    "class GPTModel(nn.Module):\n",
    "    def __init__(self, cfg):\n",
    "        super().__init__()\n",
    "        self.tok_emb = nn.Embedding(cfg[\"vocab_size\"], cfg[\"emb_dim\"])\n",
    "        self.pos_emb = nn.Embedding(cfg[\"context_length\"], cfg[\"emb_dim\"])\n",
    "        self.drop_emb = nn.Dropout(cfg[\"drop_rate\"])\n",
    "\n",
    "        self.trf_blocks = nn.Sequential(\n",
    "            *[TransformerBlock(cfg) for _ in range(cfg[\"n_layers\"])])\n",
    "\n",
    "        self.final_norm = LayerNorm(cfg[\"emb_dim\"])\n",
    "        self.out_head = nn.Linear(cfg[\"emb_dim\"], cfg[\"vocab_size\"], bias=False)\n",
    "\n",
    "    def forward(self, in_idx):\n",
    "        batch_size, seq_len = in_idx.shape\n",
    "        tok_embeds = self.tok_emb(in_idx)\n",
    "        pos_embeds = self.pos_emb(torch.arange(seq_len, device=in_idx.device))\n",
    "        x = tok_embeds + pos_embeds  # Shape [batch_size, num_tokens, emb_size]\n",
    "        x = self.drop_emb(x)\n",
    "        x = self.trf_blocks(x)\n",
    "        x = self.final_norm(x)\n",
    "        logits = self.out_head(x)\n",
    "        return logits"
   ]
  },
  {
   "cell_type": "markdown",
   "id": "1cf0dca6-ba38-41f1-aa4c-e7029ac313e7",
   "metadata": {},
   "source": [
    "# Initialize GPT"
   ]
  },
  {
   "cell_type": "code",
   "execution_count": 21,
   "id": "f1a9ca52-ad89-4762-8d00-732dd1eece7f",
   "metadata": {},
   "outputs": [],
   "source": [
    "CONTEXT_LENGTH = 256 # default is 1024"
   ]
  },
  {
   "cell_type": "code",
   "execution_count": 22,
   "id": "80641b2c-e2f0-4d8a-8a6f-14fa93cf1219",
   "metadata": {},
   "outputs": [],
   "source": [
    "GPT2_CONFIG_124M = {\n",
    "    \"vocab_size\": 50257,\n",
    "    \"context_length\": CONTEXT_LENGTH,\n",
    "    \"emb_dim\": 768,\n",
    "    \"n_heads\": 12,\n",
    "    \"n_layers\": 12,\n",
    "    \"drop_rate\": 0.1,\n",
    "    \"qkv_bias\": False\n",
    "}\n",
    "\n",
    "GPT2_CONFIG_355M = {\n",
    "    \"vocab_size\": 50257,\n",
    "    \"context_length\": CONTEXT_LENGTH,\n",
    "    \"emb_dim\": 1024,\n",
    "    \"n_heads\": 16,\n",
    "    \"n_layers\": 24,\n",
    "    \"drop_rate\": 0.1,\n",
    "    \"qkv_bias\": False\n",
    "}\n",
    "\n",
    "GPT2_CONFIG_774M = {\n",
    "    \"vocab_size\": 50257,\n",
    "    \"context_length\": CONTEXT_LENGTH,\n",
    "    \"emb_dim\": 1280,\n",
    "    \"n_heads\": 20,\n",
    "    \"n_layers\": 36,\n",
    "    \"drop_rate\": 0.1,\n",
    "    \"qkv_bias\": False\n",
    "}\n",
    "\n",
    "GPT2_CONFIG_1558M = {\n",
    "    \"vocab_size\": 50257,\n",
    "    \"context_length\": CONTEXT_LENGTH,\n",
    "    \"emb_dim\": 1600,\n",
    "    \"n_heads\": 25,\n",
    "    \"n_layers\": 48,\n",
    "    \"drop_rate\": 0.1,\n",
    "    \"qkv_bias\": False\n",
    "}"
   ]
  },
  {
   "cell_type": "code",
   "execution_count": 74,
   "id": "d488eb2d-e5c7-406e-a2dc-828e5a32b65b",
   "metadata": {},
   "outputs": [],
   "source": [
    "MODEL_SIZE = '774M'\n",
    "\n",
    "if MODEL_SIZE == '124M':\n",
    "    CONFIG = GPT2_CONFIG_124M\n",
    "    training_batch_size = 8\n",
    "elif MODEL_SIZE == '355M':\n",
    "    CONFIG = GPT2_CONFIG_355M\n",
    "    training_batch_size = 4\n",
    "elif MODEL_SIZE == '774M':\n",
    "    CONFIG = GPT2_CONFIG_774M\n",
    "    training_batch_size = 2\n",
    "elif MODEL_SIZE == '1558M':\n",
    "    CONFIG = GPT2_CONFIG_1558M\n",
    "    training_batch_size = 1"
   ]
  },
  {
   "cell_type": "code",
   "execution_count": 75,
   "id": "99aca8ce-4745-4150-8f91-000e13b9a1a4",
   "metadata": {},
   "outputs": [],
   "source": [
    "torch.manual_seed(123)\n",
    "model = GPTModel(CONFIG)\n",
    "model.eval();  # Disable dropout during inference"
   ]
  },
  {
   "cell_type": "code",
   "execution_count": 76,
   "id": "07d5d5d1-7391-4207-95de-9d99768ef67c",
   "metadata": {},
   "outputs": [],
   "source": [
    "def generate_text_simple(model, idx, max_new_tokens, context_size):\n",
    "    # idx is (B, T) array of indices in the current context\n",
    "    for _ in range(max_new_tokens):\n",
    "\n",
    "        # Crop current context if it exceeds the supported context size\n",
    "        # E.g., if LLM supports only 5 tokens, and the context size is 10\n",
    "        # then only the last 5 tokens are used as context\n",
    "        idx_cond = idx[:, -context_size:]\n",
    "\n",
    "        # Get the predictions\n",
    "        with torch.no_grad():\n",
    "            logits = model(idx_cond)\n",
    "\n",
    "        # Focus only on the last time step\n",
    "        # (batch, n_token, vocab_size) becomes (batch, vocab_size)\n",
    "        logits = logits[:, -1, :]\n",
    "\n",
    "        # Get the idx of the vocab entry with the highest logits value\n",
    "        idx_next = torch.argmax(logits, dim=-1, keepdim=True)  # (batch, 1)\n",
    "\n",
    "        # Append sampled index to the running sequence\n",
    "        idx = torch.cat((idx, idx_next), dim=1)  # (batch, n_tokens+1)\n",
    "\n",
    "    return idx\n",
    "\n",
    "def text_to_token_ids(text, tokenizer):\n",
    "    encoded = tokenizer.encode(text, allowed_special={'<|endoftext|>'})\n",
    "    encoded_tensor = torch.tensor(encoded).unsqueeze(0) # add batch dimension\n",
    "    return encoded_tensor\n",
    "\n",
    "def token_ids_to_text(token_ids, tokenizer):\n",
    "    flat = token_ids.squeeze(0) # remove batch dimension\n",
    "    return tokenizer.decode(flat.tolist())"
   ]
  },
  {
   "cell_type": "code",
   "execution_count": 77,
   "id": "892aa126-3dc3-4602-8469-d9d540a1b74d",
   "metadata": {},
   "outputs": [],
   "source": [
    "start_context = \"The included lumbar and\"\n",
    "# start_context = \"extending cranially through\"\n",
    "tokenizer = tiktoken.get_encoding(\"gpt2\")"
   ]
  },
  {
   "cell_type": "code",
   "execution_count": 78,
   "id": "c8a7d217-ce44-48de-908e-25f27cdcb888",
   "metadata": {},
   "outputs": [],
   "source": [
    "token_ids = generate_text_simple(\n",
    "    model=model,\n",
    "    idx=text_to_token_ids(start_context, tokenizer),\n",
    "    max_new_tokens=10,\n",
    "    context_size=CONFIG[\"context_length\"]\n",
    ")"
   ]
  },
  {
   "cell_type": "markdown",
   "id": "ccfc5099-3068-4410-ab8c-87c7fbd0eefc",
   "metadata": {},
   "source": [
    "The model will generate random text prior to training"
   ]
  },
  {
   "cell_type": "code",
   "execution_count": 79,
   "id": "69ee08cc-6aa7-42b0-9c9b-4230018e39fc",
   "metadata": {},
   "outputs": [
    {
     "name": "stdout",
     "output_type": "stream",
     "text": [
      "Output text:\n",
      " The included lumbar and implementationspack girlfriends 560lishes WSFinding Evertonannawww\n"
     ]
    }
   ],
   "source": [
    "print(\"Output text:\\n\", token_ids_to_text(token_ids, tokenizer))"
   ]
  },
  {
   "cell_type": "markdown",
   "id": "76ed82de-54ce-4462-9084-f10a960dd175",
   "metadata": {},
   "source": [
    "## Explore dataset\n",
    "\n",
    "Look at distribution of token lengths of reports, also look at token length of the entire dataset."
   ]
  },
  {
   "cell_type": "code",
   "execution_count": 80,
   "id": "9d596963-2d66-4ede-8289-891bf578928e",
   "metadata": {},
   "outputs": [],
   "source": [
    "import numpy as np"
   ]
  },
  {
   "cell_type": "code",
   "execution_count": 81,
   "id": "c0cf8230-b5fd-4b0c-b368-478978a33db5",
   "metadata": {},
   "outputs": [
    {
     "name": "stdout",
     "output_type": "stream",
     "text": [
      "Total tokens in the entire dataset: 650960\n"
     ]
    }
   ],
   "source": [
    "# Calculate token length of entire dataset\n",
    "entire_text = \" \".join(rad_strings)\n",
    "total_tokens = len(tokenizer.encode(entire_text))\n",
    "\n",
    "print(f\"Total tokens in the entire dataset: {total_tokens}\")"
   ]
  },
  {
   "cell_type": "code",
   "execution_count": 82,
   "id": "5ca61c9f-97db-4d41-8c11-8d85ec39b6d2",
   "metadata": {},
   "outputs": [
    {
     "name": "stdout",
     "output_type": "stream",
     "text": [
      "\n",
      "Token length statistics for individual strings:\n",
      "Mean: 369.65\n",
      "Median: 336.00\n",
      "Minimum: 114\n",
      "Maximum: 1554\n",
      "Standard Deviation: 167.03\n",
      "\n",
      "Percentiles:\n",
      "25th: 255.00\n",
      "50th: 336.00\n",
      "75th: 441.00\n",
      "90th: 565.00\n",
      "95th: 682.00\n",
      "99th: 979.60\n"
     ]
    },
    {
     "data": {
      "image/png": "[encoded data removed]",
      "text/plain": [
       "<Figure size 1000x600 with 1 Axes>"
      ]
     },
     "metadata": {},
     "output_type": "display_data"
    }
   ],
   "source": [
    "# Calculate token lengths for individual strings\n",
    "token_lengths = [len(tokenizer.encode(s)) for s in rad_strings]\n",
    "\n",
    "# Calculate statistics\n",
    "mean_length = np.mean(token_lengths)\n",
    "median_length = np.median(token_lengths)\n",
    "min_length = np.min(token_lengths)\n",
    "max_length = np.max(token_lengths)\n",
    "std_dev = np.std(token_lengths)\n",
    "\n",
    "# Calculate percentiles\n",
    "percentiles = np.percentile(token_lengths, [25, 50, 75, 90, 95, 99])\n",
    "\n",
    "print(\"\\nToken length statistics for individual strings:\")\n",
    "print(f\"Mean: {mean_length:.2f}\")\n",
    "print(f\"Median: {median_length:.2f}\")\n",
    "print(f\"Minimum: {min_length}\")\n",
    "print(f\"Maximum: {max_length}\")\n",
    "print(f\"Standard Deviation: {std_dev:.2f}\")\n",
    "print(\"\\nPercentiles:\")\n",
    "print(f\"25th: {percentiles[0]:.2f}\")\n",
    "print(f\"50th: {percentiles[1]:.2f}\")\n",
    "print(f\"75th: {percentiles[2]:.2f}\")\n",
    "print(f\"90th: {percentiles[3]:.2f}\")\n",
    "print(f\"95th: {percentiles[4]:.2f}\")\n",
    "print(f\"99th: {percentiles[5]:.2f}\")\n",
    "\n",
    "# Optionally, you can create a histogram of token lengths\n",
    "import matplotlib.pyplot as plt\n",
    "\n",
    "plt.figure(figsize=(10, 6))\n",
    "plt.hist(token_lengths, bins=50, edgecolor='black')\n",
    "plt.title('Distribution of Token Lengths')\n",
    "plt.xlabel('Token Length')\n",
    "plt.ylabel('Frequency')\n",
    "plt.show()"
   ]
  },
  {
   "cell_type": "markdown",
   "id": "6d80830e-3399-4600-b85d-a86858a50ece",
   "metadata": {},
   "source": [
    "# Calculating metrics\n",
    "\n",
    "We will use cross-entropy and perplexity"
   ]
  },
  {
   "cell_type": "code",
   "execution_count": 83,
   "id": "268da083-34fa-4318-a918-2e400457b8f3",
   "metadata": {},
   "outputs": [],
   "source": [
    "# A couple examples of inputs and targets\n",
    "inputs = torch.tensor([[16833, 3626, 6100],   # [\"every effort moves\",\n",
    "                       [40,    1107, 588]])   #  \"I really like\"]\n",
    "\n",
    "targets = torch.tensor([[3626, 6100, 345  ],  # [\" effort moves you\",\n",
    "                        [1107,  588, 11311]]) #  \" really like chocolate\"]"
   ]
  },
  {
   "cell_type": "markdown",
   "id": "4a01657c-dd17-4538-b753-331d3cca3625",
   "metadata": {},
   "source": [
    "Feeding the `inputs` to the model, we obtain the logits vector for the 2 input examples that consist of 3 tokens each"
   ]
  },
  {
   "cell_type": "code",
   "execution_count": 84,
   "id": "d96a0021-024a-4992-b12c-65b084b1fc3d",
   "metadata": {},
   "outputs": [
    {
     "name": "stdout",
     "output_type": "stream",
     "text": [
      "torch.Size([2, 3, 50257])\n"
     ]
    }
   ],
   "source": [
    "with torch.no_grad():\n",
    "    logits = model(inputs)\n",
    "\n",
    "probas = torch.softmax(logits, dim=-1) # Probability of each token in vocabulary\n",
    "print(probas.shape) # Shape: (batch_size, num_tokens, vocab_size)"
   ]
  },
  {
   "cell_type": "markdown",
   "id": "e55bd0bf-4472-4662-83ca-95a09d789e85",
   "metadata": {},
   "source": [
    "Since we have 2 input batches with 3 tokens each, we obtain 2 by 3 predicted token IDs"
   ]
  },
  {
   "cell_type": "code",
   "execution_count": 85,
   "id": "ffef7fa9-f62c-4516-a07b-c70e9c582525",
   "metadata": {},
   "outputs": [
    {
     "name": "stdout",
     "output_type": "stream",
     "text": [
      "Token IDs:\n",
      " tensor([[[39172],\n",
      "         [46382],\n",
      "         [44404]],\n",
      "\n",
      "        [[  839],\n",
      "         [38524],\n",
      "         [44668]]])\n"
     ]
    }
   ],
   "source": [
    "token_ids = torch.argmax(probas, dim=-1, keepdim=True)\n",
    "print(\"Token IDs:\\n\", token_ids)"
   ]
  },
  {
   "cell_type": "markdown",
   "id": "611ca6c7-a4e9-4882-976b-13a166839c0f",
   "metadata": {},
   "source": [
    "If we decode these tokens, we find that these are quite different from the tokens we want the model to predict, namely the target tokens. This reflects that the model hasn't been trained yet"
   ]
  },
  {
   "cell_type": "code",
   "execution_count": 86,
   "id": "e2c3c6ad-2b54-4f6b-95c3-8925821a965c",
   "metadata": {},
   "outputs": [
    {
     "name": "stdout",
     "output_type": "stream",
     "text": [
      "Targets batch 1:  effort moves you\n",
      "Outputs batch 1:                  shaming motel\n"
     ]
    }
   ],
   "source": [
    "print(f\"Targets batch 1: {token_ids_to_text(targets[0], tokenizer)}\")\n",
    "print(f\"Outputs batch 1: {token_ids_to_text(token_ids[0].flatten(), tokenizer)}\")"
   ]
  },
  {
   "cell_type": "markdown",
   "id": "6229df5c-86b6-4cab-8570-6567c1f3e50b",
   "metadata": {},
   "source": [
    "The token probabilities corresponding to the target indices are as follows:"
   ]
  },
  {
   "cell_type": "code",
   "execution_count": 87,
   "id": "4f83d452-5626-4432-ab07-507a7dde9133",
   "metadata": {},
   "outputs": [
    {
     "name": "stdout",
     "output_type": "stream",
     "text": [
      "Text 1: tensor([1.1897e-05, 9.4235e-06, 1.3234e-05])\n",
      "Text 2: tensor([2.3844e-05, 1.2956e-05, 2.6180e-05])\n"
     ]
    }
   ],
   "source": [
    "text_idx = 0\n",
    "target_probas_1 = probas[text_idx, [0, 1, 2], targets[text_idx]]\n",
    "print(\"Text 1:\", target_probas_1)\n",
    "\n",
    "text_idx = 1\n",
    "target_probas_2 = probas[text_idx, [0, 1, 2], targets[text_idx]]\n",
    "print(\"Text 2:\", target_probas_2)"
   ]
  },
  {
   "cell_type": "markdown",
   "id": "b5bb007f-d921-41ca-a1bf-728ec222fa00",
   "metadata": {},
   "source": [
    "We want to maximize all these values, bringing them close to a probability of 1"
   ]
  },
  {
   "cell_type": "code",
   "execution_count": 88,
   "id": "bda3aad9-2f61-4ea4-a8d4-de09c82e0a56",
   "metadata": {},
   "outputs": [
    {
     "name": "stdout",
     "output_type": "stream",
     "text": [
      "tensor([-11.3392, -11.5723, -11.2327, -10.6440, -11.2539, -10.5505])\n"
     ]
    }
   ],
   "source": [
    "# Compute logarithm of all token probabilities\n",
    "log_probas = torch.log(torch.cat((target_probas_1, target_probas_2)))\n",
    "print(log_probas)"
   ]
  },
  {
   "cell_type": "code",
   "execution_count": 89,
   "id": "2f08825b-af8d-49ca-a4e8-2f7406b8db0c",
   "metadata": {},
   "outputs": [
    {
     "name": "stdout",
     "output_type": "stream",
     "text": [
      "tensor(-11.0988)\n"
     ]
    }
   ],
   "source": [
    "# Calculate the average probability for each token\n",
    "avg_log_probas = torch.mean(log_probas)\n",
    "print(avg_log_probas)"
   ]
  },
  {
   "cell_type": "code",
   "execution_count": 90,
   "id": "3f5a0f2f-314d-4c13-937c-10160ca33785",
   "metadata": {},
   "outputs": [
    {
     "name": "stdout",
     "output_type": "stream",
     "text": [
      "tensor(11.0988)\n"
     ]
    }
   ],
   "source": [
    "neg_avg_log_probas = avg_log_probas * -1\n",
    "print(neg_avg_log_probas)"
   ]
  },
  {
   "cell_type": "code",
   "execution_count": 91,
   "id": "be339ccd-44a2-4e62-b9f5-4e5d8eda4870",
   "metadata": {},
   "outputs": [
    {
     "name": "stdout",
     "output_type": "stream",
     "text": [
      "Logits shape: torch.Size([2, 3, 50257])\n",
      "Targets shape: torch.Size([2, 3])\n"
     ]
    }
   ],
   "source": [
    "# Logits have shape (batch_size, num_tokens, vocab_size)\n",
    "print(\"Logits shape:\", logits.shape)\n",
    "\n",
    "# Targets have shape (batch_size, num_tokens)\n",
    "print(\"Targets shape:\", targets.shape)"
   ]
  },
  {
   "cell_type": "markdown",
   "id": "db571088-59d0-4a87-8605-f20ebbbff971",
   "metadata": {},
   "source": [
    "For the `cross_entropy` function in PyTorch, we want to flatten these tensors by combining them over the batch dimension:"
   ]
  },
  {
   "cell_type": "code",
   "execution_count": 92,
   "id": "ae19354f-8c40-4362-8c3c-cfcbbe6b0420",
   "metadata": {},
   "outputs": [
    {
     "name": "stdout",
     "output_type": "stream",
     "text": [
      "Flattened logits: torch.Size([6, 50257])\n",
      "Flattened targets: torch.Size([6])\n"
     ]
    }
   ],
   "source": [
    "logits_flat = logits.flatten(0, 1)\n",
    "targets_flat = targets.flatten()\n",
    "\n",
    "print(\"Flattened logits:\", logits_flat.shape)\n",
    "print(\"Flattened targets:\", targets_flat.shape)"
   ]
  },
  {
   "cell_type": "code",
   "execution_count": 93,
   "id": "8688f85d-bebc-48fa-9759-f6904e9b7da7",
   "metadata": {},
   "outputs": [
    {
     "name": "stdout",
     "output_type": "stream",
     "text": [
      "tensor(11.0988)\n"
     ]
    }
   ],
   "source": [
    "loss = torch.nn.functional.cross_entropy(logits_flat, targets_flat)\n",
    "print(loss)"
   ]
  },
  {
   "cell_type": "markdown",
   "id": "2fed6b10-6f2f-4a09-808c-3661fce69e9f",
   "metadata": {},
   "source": [
    "- A concept related to the cross-entropy loss is the perplexity of an LLM\n",
    "- The perplexity is simply the exponential of the cross-entropy loss\n",
    "- The perplexity is often considered more interpretable because it can be understood as the effective vocabulary size that the model is uncertain about at each step (in the example above, that'd be 48,725 words or tokens)\n",
    "- In other words, perplexity provides a measure of how well the probability distribution predicted by the model matches the actual distribution of the words in the dataset\n",
    "- Similar to the loss, a lower perplexity indicates that the model predictions are closer to the actual distribution"
   ]
  },
  {
   "cell_type": "code",
   "execution_count": 94,
   "id": "96059422-6ba1-410e-9375-aab98da1ff2e",
   "metadata": {},
   "outputs": [
    {
     "name": "stdout",
     "output_type": "stream",
     "text": [
      "tensor(66090.0781)\n"
     ]
    }
   ],
   "source": [
    "perplexity = torch.exp(loss)\n",
    "print(perplexity)"
   ]
  },
  {
   "cell_type": "markdown",
   "id": "78162dc4-c5e9-472b-8ef2-1a56831179a4",
   "metadata": {},
   "source": [
    "## Calculating the training and validation set losses"
   ]
  },
  {
   "cell_type": "code",
   "execution_count": 95,
   "id": "5af2868c-07f7-4855-964f-e312a3d4c1c9",
   "metadata": {},
   "outputs": [],
   "source": [
    "tokens, text_data = encode_and_decode_example(rad_strings)"
   ]
  },
  {
   "cell_type": "code",
   "execution_count": 96,
   "id": "d88ce3b2-cdba-472a-a184-54dce5522d49",
   "metadata": {},
   "outputs": [
    {
     "data": {
      "text/plain": [
       "3027781"
      ]
     },
     "execution_count": 96,
     "metadata": {},
     "output_type": "execute_result"
    }
   ],
   "source": [
    "len(text_data)"
   ]
  },
  {
   "cell_type": "code",
   "execution_count": 97,
   "id": "315ceaf5-00b4-4862-b2c0-0da67487cf5a",
   "metadata": {},
   "outputs": [
    {
     "data": {
      "text/plain": [
       "652721"
      ]
     },
     "execution_count": 97,
     "metadata": {},
     "output_type": "execute_result"
    }
   ],
   "source": [
    "len(tokens)"
   ]
  },
  {
   "cell_type": "code",
   "execution_count": 98,
   "id": "c0df3695-86bf-4629-8fd0-57170c27a8dd",
   "metadata": {},
   "outputs": [
    {
     "name": "stdout",
     "output_type": "stream",
     "text": [
      "Findings: Orthogonal pelvis and orthogonal right shoulder and lateral left shoulder images dated Apr\n"
     ]
    }
   ],
   "source": [
    "# First 100 characters\n",
    "print(text_data[:100])"
   ]
  },
  {
   "cell_type": "code",
   "execution_count": 99,
   "id": "c559b5f1-f97e-4dc3-9486-0c769012dc2e",
   "metadata": {},
   "outputs": [
    {
     "name": "stdout",
     "output_type": "stream",
     "text": [
      " is not appreciated on imaging due to manipulation of the limbs for proper positioning.<|endoftext|>\n"
     ]
    }
   ],
   "source": [
    "# Last 100 characters\n",
    "print(text_data[-100:])"
   ]
  },
  {
   "cell_type": "code",
   "execution_count": 100,
   "id": "fb773da0-b1f8-473b-b15e-40aaaa99e86c",
   "metadata": {},
   "outputs": [
    {
     "name": "stdout",
     "output_type": "stream",
     "text": [
      "Characters: 3027781\n",
      "Tokens: 652721\n"
     ]
    }
   ],
   "source": [
    "total_characters = len(text_data)\n",
    "total_tokens = len(tokens)\n",
    "\n",
    "print(\"Characters:\", total_characters)\n",
    "print(\"Tokens:\", total_tokens)"
   ]
  },
  {
   "cell_type": "markdown",
   "id": "1c0feabc-52f2-43bd-b7a3-39c06b7d0c68",
   "metadata": {},
   "source": [
    "Create the training and validation data loader"
   ]
  },
  {
   "cell_type": "code",
   "execution_count": 101,
   "id": "9bd266ec-bac6-46f1-9cb0-64e83ed1b0f1",
   "metadata": {},
   "outputs": [],
   "source": [
    "# Train/validation ratio\n",
    "train_ratio = 0.90\n",
    "split_idx = int(train_ratio * len(rad_strings))\n",
    "train_data = rad_strings[:split_idx]\n",
    "val_data = rad_strings[split_idx:]\n",
    "\n",
    "# split_idx = int(train_ratio * len(text_data))\n",
    "# train_data = text_data[:split_idx]\n",
    "# val_data = text_data[split_idx:]"
   ]
  },
  {
   "cell_type": "code",
   "execution_count": 102,
   "id": "96eaa226-ebd5-4f4a-b6db-754750ffe22e",
   "metadata": {},
   "outputs": [],
   "source": [
    "train_loader = create_dataloader_v1(\n",
    "    train_data,\n",
    "    batch_size=training_batch_size,\n",
    "    max_length=CONFIG[\"context_length\"],\n",
    "    stride=CONFIG[\"context_length\"],\n",
    "    drop_last=True,\n",
    "    shuffle=True,\n",
    "    num_workers=0\n",
    ")\n",
    "\n",
    "val_loader = create_dataloader_v1(\n",
    "    val_data,\n",
    "    batch_size=training_batch_size,\n",
    "    max_length=CONFIG[\"context_length\"],\n",
    "    stride=CONFIG[\"context_length\"],\n",
    "    drop_last=False,\n",
    "    shuffle=False,\n",
    "    num_workers=0\n",
    ")"
   ]
  },
  {
   "cell_type": "code",
   "execution_count": 103,
   "id": "4a1245aa-1027-4e11-9ce9-c046856272e7",
   "metadata": {},
   "outputs": [],
   "source": [
    "# Sanity check\n",
    "\n",
    "if total_tokens * (train_ratio) < CONFIG[\"context_length\"]:\n",
    "    print(\"Not enough tokens for the training loader. \"\n",
    "          \"Try to lower the `CONFIG['context_length']` or \"\n",
    "          \"increase the `training_ratio`\")\n",
    "\n",
    "if total_tokens * (1-train_ratio) < CONFIG[\"context_length\"]:\n",
    "    print(\"Not enough tokens for the validation loader. \"\n",
    "          \"Try to lower the `CONFIG['context_length']` or \"\n",
    "          \"decrease the `training_ratio`\")"
   ]
  },
  {
   "cell_type": "markdown",
   "id": "f748726e-b95c-4d06-bb6b-c0c32b13ea79",
   "metadata": {},
   "source": [
    "An optional check that the data was loaded correctly:"
   ]
  },
  {
   "cell_type": "code",
   "execution_count": 104,
   "id": "fdb8b93a-8694-493c-9b79-8d74ce031cd8",
   "metadata": {},
   "outputs": [],
   "source": [
    "# print(\"Train loader:\")\n",
    "# for x, y in train_loader:\n",
    "#     print(x.shape, y.shape)\n",
    "\n",
    "# print(\"\\nValidation loader:\")\n",
    "# for x, y in val_loader:\n",
    "#     print(x.shape, y.shape)"
   ]
  },
  {
   "cell_type": "markdown",
   "id": "acce26fe-b73f-4681-95d3-e75139fd5fcd",
   "metadata": {},
   "source": [
    "Another optional check that the token sizes are in the expected ballpark:"
   ]
  },
  {
   "cell_type": "code",
   "execution_count": 105,
   "id": "1ac57645-f908-4b28-930a-53d403df378c",
   "metadata": {},
   "outputs": [
    {
     "name": "stdout",
     "output_type": "stream",
     "text": [
      "Training tokens: 587264\n",
      "Validation tokens: 65024\n",
      "All tokens: 652288\n"
     ]
    }
   ],
   "source": [
    "train_tokens = 0\n",
    "for input_batch, target_batch in train_loader:\n",
    "    train_tokens += input_batch.numel()\n",
    "\n",
    "val_tokens = 0\n",
    "for input_batch, target_batch in val_loader:\n",
    "    val_tokens += input_batch.numel()\n",
    "\n",
    "print(\"Training tokens:\", train_tokens)\n",
    "print(\"Validation tokens:\", val_tokens)\n",
    "print(\"All tokens:\", train_tokens + val_tokens)"
   ]
  },
  {
   "cell_type": "markdown",
   "id": "2c95558a-21a1-438e-962c-40c277b1237d",
   "metadata": {},
   "source": [
    "- Next, we implement a utility function to calculate the cross-entropy loss of a given batch\n",
    "- In addition, we implement a second utility function to compute the loss for a user-specified number of batches in a data loader"
   ]
  },
  {
   "cell_type": "code",
   "execution_count": 106,
   "id": "f8c1d344-4278-486f-b8d4-dfee81606dce",
   "metadata": {},
   "outputs": [],
   "source": [
    "def calc_loss_batch(input_batch, target_batch, model, device):\n",
    "    input_batch, target_batch = input_batch.to(device), target_batch.to(device)\n",
    "    logits = model(input_batch)\n",
    "    loss = torch.nn.functional.cross_entropy(logits.flatten(0, 1), target_batch.flatten())\n",
    "    return loss\n",
    "\n",
    "\n",
    "def calc_loss_loader(data_loader, model, device, num_batches=None):\n",
    "    total_loss = 0.\n",
    "    if len(data_loader) == 0:\n",
    "        return float(\"nan\")\n",
    "    elif num_batches is None:\n",
    "        num_batches = len(data_loader)\n",
    "    else:\n",
    "        # Reduce the number of batches to match the total number of batches in the data loader\n",
    "        # if num_batches exceeds the number of batches in the data loader\n",
    "        num_batches = min(num_batches, len(data_loader))\n",
    "    for i, (input_batch, target_batch) in enumerate(data_loader):\n",
    "        if i < num_batches:\n",
    "            loss = calc_loss_batch(input_batch, target_batch, model, device)\n",
    "            total_loss += loss.item()\n",
    "        else:\n",
    "            break\n",
    "    return total_loss / num_batches"
   ]
  },
  {
   "cell_type": "code",
   "execution_count": 107,
   "id": "c8b872e1-f3d5-42ba-9ab4-dd3cf91a2307",
   "metadata": {},
   "outputs": [
    {
     "name": "stdout",
     "output_type": "stream",
     "text": [
      "Training loss: 10.997928215299572\n",
      "Validation loss: 10.994832436869464\n"
     ]
    }
   ],
   "source": [
    "device = torch.device(\"cuda\" if torch.cuda.is_available() else \"cpu\")\n",
    "model.to(device) # no assignment model = model.to(device) necessary for nn.Module classes\n",
    "\n",
    "\n",
    "torch.manual_seed(123) # For reproducibility due to the shuffling in the data loader\n",
    "\n",
    "with torch.no_grad(): # Disable gradient tracking for efficiency because we are not training, yet\n",
    "    train_loss = calc_loss_loader(train_loader, model, device)\n",
    "    val_loss = calc_loss_loader(val_loader, model, device)\n",
    "\n",
    "print(\"Training loss:\", train_loss)\n",
    "print(\"Validation loss:\", val_loss)"
   ]
  },
  {
   "cell_type": "markdown",
   "id": "c6866283-dc19-42a2-8d36-da8ce0370677",
   "metadata": {},
   "source": [
    "# LLM Training"
   ]
  },
  {
   "cell_type": "code",
   "execution_count": 108,
   "id": "04f58dbb-c3a3-41c1-a354-aedf456e07c6",
   "metadata": {},
   "outputs": [],
   "source": [
    "def train_model_simple(model, train_loader, val_loader, optimizer, device, num_epochs,\n",
    "                       eval_freq, eval_iter, start_context, tokenizer):\n",
    "    # Initialize lists to track losses and tokens seen\n",
    "    train_losses, val_losses, track_tokens_seen = [], [], []\n",
    "    tokens_seen, global_step = 0, -1\n",
    "\n",
    "    # Main training loop\n",
    "    for epoch in range(num_epochs):\n",
    "        model.train()  # Set model to training mode\n",
    "        \n",
    "        for input_batch, target_batch in train_loader:\n",
    "            optimizer.zero_grad() # Reset loss gradients from previous batch iteration\n",
    "            loss = calc_loss_batch(input_batch, target_batch, model, device)\n",
    "            loss.backward() # Calculate loss gradients\n",
    "            optimizer.step() # Update model weights using loss gradients\n",
    "            tokens_seen += input_batch.numel()\n",
    "            global_step += 1\n",
    "\n",
    "            # Optional evaluation step\n",
    "            if global_step % eval_freq == 0:\n",
    "                train_loss, val_loss = evaluate_model(\n",
    "                    model, train_loader, val_loader, device, eval_iter)\n",
    "                train_losses.append(train_loss)\n",
    "                val_losses.append(val_loss)\n",
    "                track_tokens_seen.append(tokens_seen)\n",
    "                print(f\"Ep {epoch+1} (Step {global_step:06d}): \"\n",
    "                      f\"Train loss {train_loss:.3f}, Val loss {val_loss:.3f}\")\n",
    "\n",
    "        # Print a sample text after each epoch\n",
    "        generate_and_print_sample(\n",
    "            model, tokenizer, device, start_context\n",
    "        )\n",
    "\n",
    "    return train_losses, val_losses, track_tokens_seen\n",
    "\n",
    "\n",
    "def evaluate_model(model, train_loader, val_loader, device, eval_iter):\n",
    "    model.eval()\n",
    "    with torch.no_grad():\n",
    "        train_loss = calc_loss_loader(train_loader, model, device, num_batches=eval_iter)\n",
    "        val_loss = calc_loss_loader(val_loader, model, device, num_batches=eval_iter)\n",
    "    model.train()\n",
    "    return train_loss, val_loss\n",
    "\n",
    "\n",
    "def generate_and_print_sample(model, tokenizer, device, start_context):\n",
    "    model.eval()\n",
    "    context_size = model.pos_emb.weight.shape[0]\n",
    "    encoded = text_to_token_ids(start_context, tokenizer).to(device)\n",
    "    with torch.no_grad():\n",
    "        token_ids = generate_text_simple(\n",
    "            model=model, idx=encoded,\n",
    "            max_new_tokens=50, context_size=context_size\n",
    "        )\n",
    "        decoded_text = token_ids_to_text(token_ids, tokenizer)\n",
    "        print(decoded_text.replace(\"\\n\", \" \"))  # Compact print format\n",
    "    model.train()"
   ]
  },
  {
   "cell_type": "markdown",
   "id": "e223f4aa-5337-4a91-8711-2aadf17e6006",
   "metadata": {},
   "source": [
    "With the current dataset and settings there are ~350 steps per epoch"
   ]
  },
  {
   "cell_type": "code",
   "execution_count": 109,
   "id": "a33ed61c-9f61-4cf9-b8e8-b02cd6aaf383",
   "metadata": {},
   "outputs": [
    {
     "name": "stdout",
     "output_type": "stream",
     "text": [
      "Ep 1 (Step 000000): Train loss 9.889, Val loss 9.873\n",
      "Ep 1 (Step 000010): Train loss 7.441, Val loss 7.265\n",
      "Ep 1 (Step 000020): Train loss 17.099, Val loss 16.537\n",
      "Ep 1 (Step 000030): Train loss 6.906, Val loss 6.867\n",
      "Ep 1 (Step 000040): Train loss 6.738, Val loss 6.727\n",
      "Ep 1 (Step 000050): Train loss 6.505, Val loss 6.662\n",
      "Ep 1 (Step 000060): Train loss 6.406, Val loss 6.518\n",
      "Ep 1 (Step 000070): Train loss 6.270, Val loss 6.413\n",
      "Ep 1 (Step 000080): Train loss 6.288, Val loss 6.384\n",
      "Ep 1 (Step 000090): Train loss 6.166, Val loss 6.308\n",
      "Ep 1 (Step 000100): Train loss 6.009, Val loss 6.185\n",
      "Ep 1 (Step 000110): Train loss 6.084, Val loss 6.107\n",
      "Ep 1 (Step 000120): Train loss 5.858, Val loss 5.981\n",
      "Ep 1 (Step 000130): Train loss 5.654, Val loss 5.925\n",
      "Ep 1 (Step 000140): Train loss 5.682, Val loss 5.802\n",
      "Ep 1 (Step 000150): Train loss 5.518, Val loss 5.658\n",
      "Ep 1 (Step 000160): Train loss 5.170, Val loss 5.563\n",
      "Ep 1 (Step 000170): Train loss 5.077, Val loss 5.446\n",
      "Ep 1 (Step 000180): Train loss 5.072, Val loss 5.375\n",
      "Ep 1 (Step 000190): Train loss 5.250, Val loss 5.278\n",
      "Ep 1 (Step 000200): Train loss 4.918, Val loss 5.163\n",
      "Ep 1 (Step 000210): Train loss 4.722, Val loss 5.138\n",
      "Ep 1 (Step 000220): Train loss 4.505, Val loss 4.989\n",
      "Ep 1 (Step 000230): Train loss 4.644, Val loss 4.931\n",
      "Ep 1 (Step 000240): Train loss 4.591, Val loss 4.812\n",
      "Ep 1 (Step 000250): Train loss 4.625, Val loss 4.685\n",
      "Ep 1 (Step 000260): Train loss 4.330, Val loss 4.619\n",
      "Ep 1 (Step 000270): Train loss 4.336, Val loss 4.551\n",
      "Ep 1 (Step 000280): Train loss 4.276, Val loss 4.446\n",
      "Ep 1 (Step 000290): Train loss 4.067, Val loss 4.437\n",
      "Ep 1 (Step 000300): Train loss 3.877, Val loss 4.329\n",
      "Ep 1 (Step 000310): Train loss 4.080, Val loss 4.268\n",
      "Ep 1 (Step 000320): Train loss 3.953, Val loss 4.238\n",
      "Ep 1 (Step 000330): Train loss 3.880, Val loss 4.219\n",
      "Ep 1 (Step 000340): Train loss 3.738, Val loss 4.126\n",
      "Ep 1 (Step 000350): Train loss 3.889, Val loss 4.117\n",
      "Ep 1 (Step 000360): Train loss 3.822, Val loss 4.074\n",
      "Ep 1 (Step 000370): Train loss 3.965, Val loss 3.992\n",
      "Ep 1 (Step 000380): Train loss 3.500, Val loss 3.960\n",
      "Ep 1 (Step 000390): Train loss 3.669, Val loss 3.963\n",
      "Ep 1 (Step 000400): Train loss 3.513, Val loss 3.879\n",
      "Ep 1 (Step 000410): Train loss 3.521, Val loss 3.846\n",
      "Ep 1 (Step 000420): Train loss 3.322, Val loss 3.784\n",
      "Ep 1 (Step 000430): Train loss 3.820, Val loss 3.763\n",
      "Ep 1 (Step 000440): Train loss 3.413, Val loss 3.699\n",
      "Ep 1 (Step 000450): Train loss 3.358, Val loss 3.604\n",
      "Ep 1 (Step 000460): Train loss 3.583, Val loss 3.616\n",
      "Ep 1 (Step 000470): Train loss 3.513, Val loss 3.641\n",
      "Ep 1 (Step 000480): Train loss 3.192, Val loss 3.568\n",
      "Ep 1 (Step 000490): Train loss 3.436, Val loss 3.584\n",
      "Ep 1 (Step 000500): Train loss 3.495, Val loss 3.637\n",
      "Ep 1 (Step 000510): Train loss 3.330, Val loss 3.554\n",
      "Ep 1 (Step 000520): Train loss 3.103, Val loss 3.509\n",
      "Ep 1 (Step 000530): Train loss 3.490, Val loss 3.464\n",
      "Ep 1 (Step 000540): Train loss 3.335, Val loss 3.440\n",
      "Ep 1 (Step 000550): Train loss 3.092, Val loss 3.480\n",
      "Ep 1 (Step 000560): Train loss 3.326, Val loss 3.430\n",
      "Ep 1 (Step 000570): Train loss 3.154, Val loss 3.434\n",
      "Ep 1 (Step 000580): Train loss 3.321, Val loss 3.434\n",
      "Ep 1 (Step 000590): Train loss 3.315, Val loss 3.421\n",
      "Ep 1 (Step 000600): Train loss 3.083, Val loss 3.372\n",
      "Ep 1 (Step 000610): Train loss 3.141, Val loss 3.357\n",
      "Ep 1 (Step 000620): Train loss 3.249, Val loss 3.374\n",
      "Ep 1 (Step 000630): Train loss 3.372, Val loss 3.343\n",
      "Ep 1 (Step 000640): Train loss 3.109, Val loss 3.358\n",
      "Ep 1 (Step 000650): Train loss 3.113, Val loss 3.342\n",
      "Ep 1 (Step 000660): Train loss 2.983, Val loss 3.295\n",
      "Ep 1 (Step 000670): Train loss 3.456, Val loss 3.335\n",
      "Ep 1 (Step 000680): Train loss 3.032, Val loss 3.306\n",
      "Ep 1 (Step 000690): Train loss 2.962, Val loss 3.252\n",
      "Ep 1 (Step 000700): Train loss 2.867, Val loss 3.284\n",
      "Ep 1 (Step 000710): Train loss 3.184, Val loss 3.226\n",
      "Ep 1 (Step 000720): Train loss 2.944, Val loss 3.216\n",
      "Ep 1 (Step 000730): Train loss 3.162, Val loss 3.233\n",
      "Ep 1 (Step 000740): Train loss 2.827, Val loss 3.240\n",
      "Ep 1 (Step 000750): Train loss 2.899, Val loss 3.200\n",
      "Ep 1 (Step 000760): Train loss 3.068, Val loss 3.182\n",
      "Ep 1 (Step 000770): Train loss 2.982, Val loss 3.154\n",
      "Ep 1 (Step 000780): Train loss 2.632, Val loss 3.131\n",
      "Ep 1 (Step 000790): Train loss 3.241, Val loss 3.132\n",
      "Ep 1 (Step 000800): Train loss 2.962, Val loss 3.171\n",
      "Ep 1 (Step 000810): Train loss 2.924, Val loss 3.124\n",
      "Ep 1 (Step 000820): Train loss 2.852, Val loss 3.142\n",
      "Ep 1 (Step 000830): Train loss 2.972, Val loss 3.206\n",
      "Ep 1 (Step 000840): Train loss 2.790, Val loss 3.181\n",
      "Ep 1 (Step 000850): Train loss 2.794, Val loss 3.152\n",
      "Ep 1 (Step 000860): Train loss 2.750, Val loss 3.134\n",
      "Ep 1 (Step 000870): Train loss 2.993, Val loss 3.113\n",
      "Ep 1 (Step 000880): Train loss 3.076, Val loss 3.091\n",
      "Ep 1 (Step 000890): Train loss 2.997, Val loss 3.143\n",
      "Ep 1 (Step 000900): Train loss 2.935, Val loss 3.108\n",
      "Ep 1 (Step 000910): Train loss 2.983, Val loss 3.093\n",
      "Ep 1 (Step 000920): Train loss 2.756, Val loss 3.095\n",
      "Ep 1 (Step 000930): Train loss 2.801, Val loss 3.099\n",
      "Ep 1 (Step 000940): Train loss 2.812, Val loss 3.052\n",
      "Ep 1 (Step 000950): Train loss 3.051, Val loss 3.091\n",
      "Ep 1 (Step 000960): Train loss 2.799, Val loss 3.121\n",
      "Ep 1 (Step 000970): Train loss 2.896, Val loss 3.130\n",
      "Ep 1 (Step 000980): Train loss 2.821, Val loss 3.140\n",
      "Ep 1 (Step 000990): Train loss 2.997, Val loss 3.121\n",
      "Ep 1 (Step 001000): Train loss 3.046, Val loss 3.192\n",
      "Ep 1 (Step 001010): Train loss 2.971, Val loss 3.108\n",
      "Ep 1 (Step 001020): Train loss 2.902, Val loss 3.127\n",
      "Ep 1 (Step 001030): Train loss 2.858, Val loss 3.089\n",
      "Ep 1 (Step 001040): Train loss 2.861, Val loss 3.067\n",
      "Ep 1 (Step 001050): Train loss 2.934, Val loss 3.144\n",
      "Ep 1 (Step 001060): Train loss 3.137, Val loss 3.116\n",
      "Ep 1 (Step 001070): Train loss 2.637, Val loss 3.085\n",
      "Ep 1 (Step 001080): Train loss 2.863, Val loss 3.074\n",
      "Ep 1 (Step 001090): Train loss 2.715, Val loss 3.031\n",
      "Ep 1 (Step 001100): Train loss 2.937, Val loss 3.009\n",
      "Ep 1 (Step 001110): Train loss 2.947, Val loss 3.060\n",
      "Ep 1 (Step 001120): Train loss 3.048, Val loss 3.079\n",
      "Ep 1 (Step 001130): Train loss 2.971, Val loss 3.121\n",
      "Ep 1 (Step 001140): Train loss 2.990, Val loss 3.096\n",
      "The included lumbar and car displacement of the left and carpal instability. The cardiac silhouette and pulmonary vasculature is normal in size and pulmonary vasculature are normal in size and mediastinum are normal in size and pulmonary vasculature are normal in size of\n",
      "Ep 2 (Step 001150): Train loss 2.741, Val loss 3.044\n",
      "Ep 2 (Step 001160): Train loss 2.989, Val loss 3.037\n",
      "Ep 2 (Step 001170): Train loss 2.744, Val loss 3.118\n",
      "Ep 2 (Step 001180): Train loss 2.770, Val loss 3.047\n",
      "Ep 2 (Step 001190): Train loss 2.812, Val loss 3.019\n",
      "Ep 2 (Step 001200): Train loss 2.800, Val loss 3.021\n",
      "Ep 2 (Step 001210): Train loss 2.930, Val loss 3.047\n",
      "Ep 2 (Step 001220): Train loss 3.035, Val loss 3.063\n",
      "Ep 2 (Step 001230): Train loss 2.805, Val loss 3.069\n",
      "Ep 2 (Step 001240): Train loss 2.683, Val loss 3.059\n",
      "Ep 2 (Step 001250): Train loss 2.838, Val loss 3.065\n",
      "Ep 2 (Step 001260): Train loss 2.881, Val loss 3.045\n",
      "Ep 2 (Step 001270): Train loss 2.904, Val loss 3.073\n",
      "Ep 2 (Step 001280): Train loss 2.696, Val loss 3.102\n",
      "Ep 2 (Step 001290): Train loss 2.850, Val loss 3.146\n",
      "Ep 2 (Step 001300): Train loss 2.876, Val loss 3.119\n",
      "Ep 2 (Step 001310): Train loss 3.022, Val loss 3.108\n",
      "Ep 2 (Step 001320): Train loss 2.980, Val loss 3.159\n",
      "Ep 2 (Step 001330): Train loss 3.126, Val loss 3.089\n",
      "Ep 2 (Step 001340): Train loss 3.076, Val loss 3.133\n",
      "Ep 2 (Step 001350): Train loss 2.633, Val loss 3.154\n",
      "Ep 2 (Step 001360): Train loss 2.947, Val loss 3.256\n",
      "Ep 2 (Step 001370): Train loss 3.123, Val loss 3.272\n",
      "Ep 2 (Step 001380): Train loss 2.925, Val loss 3.267\n",
      "Ep 2 (Step 001390): Train loss 3.058, Val loss 3.252\n",
      "Ep 2 (Step 001400): Train loss 2.949, Val loss 3.249\n",
      "Ep 2 (Step 001410): Train loss 3.125, Val loss 3.202\n",
      "Ep 2 (Step 001420): Train loss 3.168, Val loss 3.278\n",
      "Ep 2 (Step 001430): Train loss 3.028, Val loss 3.289\n",
      "Ep 2 (Step 001440): Train loss 2.912, Val loss 3.287\n",
      "Ep 2 (Step 001450): Train loss 3.213, Val loss 3.311\n",
      "Ep 2 (Step 001460): Train loss 2.896, Val loss 3.311\n",
      "Ep 2 (Step 001470): Train loss 3.041, Val loss 3.339\n",
      "Ep 2 (Step 001480): Train loss 2.948, Val loss 3.305\n",
      "Ep 2 (Step 001490): Train loss 3.248, Val loss 3.344\n",
      "Ep 2 (Step 001500): Train loss 3.069, Val loss 3.290\n",
      "Ep 2 (Step 001510): Train loss 3.297, Val loss 3.370\n",
      "Ep 2 (Step 001520): Train loss 3.336, Val loss 3.405\n",
      "Ep 2 (Step 001530): Train loss 2.937, Val loss 3.323\n",
      "Ep 2 (Step 001540): Train loss 3.158, Val loss 3.297\n",
      "Ep 2 (Step 001550): Train loss 3.056, Val loss 3.387\n",
      "Ep 2 (Step 001560): Train loss 3.130, Val loss 3.453\n",
      "Ep 2 (Step 001570): Train loss 3.139, Val loss 3.475\n",
      "Ep 2 (Step 001580): Train loss 3.222, Val loss 3.488\n",
      "Ep 2 (Step 001590): Train loss 3.167, Val loss 3.509\n",
      "Ep 2 (Step 001600): Train loss 3.278, Val loss 3.509\n",
      "Ep 2 (Step 001610): Train loss 3.125, Val loss 3.415\n",
      "Ep 2 (Step 001620): Train loss 3.222, Val loss 3.389\n",
      "Ep 2 (Step 001630): Train loss 3.141, Val loss 3.436\n",
      "Ep 2 (Step 001640): Train loss 2.990, Val loss 3.388\n",
      "Ep 2 (Step 001650): Train loss 3.122, Val loss 3.351\n",
      "Ep 2 (Step 001660): Train loss 3.161, Val loss 3.380\n",
      "Ep 2 (Step 001670): Train loss 2.998, Val loss 3.374\n",
      "Ep 2 (Step 001680): Train loss 3.283, Val loss 3.307\n",
      "Ep 2 (Step 001690): Train loss 3.259, Val loss 3.383\n",
      "Ep 2 (Step 001700): Train loss 3.557, Val loss 3.481\n",
      "Ep 2 (Step 001710): Train loss 3.281, Val loss 3.531\n",
      "Ep 2 (Step 001720): Train loss 3.262, Val loss 3.505\n",
      "Ep 2 (Step 001730): Train loss 3.117, Val loss 3.468\n",
      "Ep 2 (Step 001740): Train loss 3.189, Val loss 3.385\n",
      "Ep 2 (Step 001750): Train loss 3.206, Val loss 3.380\n",
      "Ep 2 (Step 001760): Train loss 3.204, Val loss 3.486\n",
      "Ep 2 (Step 001770): Train loss 3.321, Val loss 3.532\n",
      "Ep 2 (Step 001780): Train loss 3.291, Val loss 3.470\n",
      "Ep 2 (Step 001790): Train loss 3.236, Val loss 3.545\n",
      "Ep 2 (Step 001800): Train loss 3.452, Val loss 3.557\n",
      "Ep 2 (Step 001810): Train loss 3.358, Val loss 3.520\n",
      "Ep 2 (Step 001820): Train loss 3.393, Val loss 3.654\n",
      "Ep 2 (Step 001830): Train loss 3.412, Val loss 3.646\n",
      "Ep 2 (Step 001840): Train loss 3.323, Val loss 3.603\n",
      "Ep 2 (Step 001850): Train loss 3.444, Val loss 3.726\n",
      "Ep 2 (Step 001860): Train loss 3.461, Val loss 3.566\n",
      "Ep 2 (Step 001870): Train loss 3.387, Val loss 3.556\n",
      "Ep 2 (Step 001880): Train loss 3.277, Val loss 3.511\n",
      "Ep 2 (Step 001890): Train loss 3.238, Val loss 3.535\n",
      "Ep 2 (Step 001900): Train loss 3.432, Val loss 3.557\n",
      "Ep 2 (Step 001910): Train loss 3.290, Val loss 3.610\n",
      "Ep 2 (Step 001920): Train loss 3.343, Val loss 3.599\n",
      "Ep 2 (Step 001930): Train loss 3.371, Val loss 3.593\n",
      "Ep 2 (Step 001940): Train loss 3.025, Val loss 3.518\n",
      "Ep 2 (Step 001950): Train loss 3.405, Val loss 3.488\n",
      "Ep 2 (Step 001960): Train loss 3.322, Val loss 3.544\n",
      "Ep 2 (Step 001970): Train loss 3.477, Val loss 3.578\n",
      "Ep 2 (Step 001980): Train loss 3.270, Val loss 3.479\n",
      "Ep 2 (Step 001990): Train loss 3.386, Val loss 3.508\n",
      "Ep 2 (Step 002000): Train loss 3.215, Val loss 3.515\n",
      "Ep 2 (Step 002010): Train loss 2.987, Val loss 3.549\n",
      "Ep 2 (Step 002020): Train loss 3.486, Val loss 3.531\n",
      "Ep 2 (Step 002030): Train loss 3.041, Val loss 3.486\n",
      "Ep 2 (Step 002040): Train loss 3.196, Val loss 3.428\n",
      "Ep 2 (Step 002050): Train loss 3.279, Val loss 3.426\n",
      "Ep 2 (Step 002060): Train loss 3.283, Val loss 3.511\n",
      "Ep 2 (Step 002070): Train loss 3.251, Val loss 3.451\n",
      "Ep 2 (Step 002080): Train loss 3.302, Val loss 3.496\n",
      "Ep 2 (Step 002090): Train loss 3.058, Val loss 3.395\n",
      "Ep 2 (Step 002100): Train loss 3.272, Val loss 3.388\n",
      "Ep 2 (Step 002110): Train loss 3.253, Val loss 3.371\n",
      "Ep 2 (Step 002120): Train loss 3.111, Val loss 3.402\n",
      "Ep 2 (Step 002130): Train loss 3.035, Val loss 3.329\n",
      "Ep 2 (Step 002140): Train loss 3.160, Val loss 3.348\n",
      "Ep 2 (Step 002150): Train loss 2.753, Val loss 3.378\n",
      "Ep 2 (Step 002160): Train loss 3.036, Val loss 3.363\n",
      "Ep 2 (Step 002170): Train loss 3.186, Val loss 3.425\n",
      "Ep 2 (Step 002180): Train loss 3.084, Val loss 3.456\n",
      "Ep 2 (Step 002190): Train loss 3.071, Val loss 3.399\n",
      "Ep 2 (Step 002200): Train loss 3.279, Val loss 3.423\n",
      "Ep 2 (Step 002210): Train loss 3.188, Val loss 3.423\n",
      "Ep 2 (Step 002220): Train loss 3.095, Val loss 3.534\n",
      "Ep 2 (Step 002230): Train loss 3.229, Val loss 3.479\n",
      "Ep 2 (Step 002240): Train loss 3.374, Val loss 3.457\n",
      "Ep 2 (Step 002250): Train loss 3.065, Val loss 3.474\n",
      "Ep 2 (Step 002260): Train loss 3.553, Val loss 3.503\n",
      "Ep 2 (Step 002270): Train loss 3.723, Val loss 3.982\n",
      "Ep 2 (Step 002280): Train loss 3.519, Val loss 3.838\n",
      "Ep 2 (Step 002290): Train loss 3.233, Val loss 3.670\n",
      "The included lumbar and., and recommendations: Normal and/orive is. The appearance is normal. The small intestine is likely benign lessasia. The small intestinelyrechoic. The material is likely to the small intestine. The small intestine is likely. The\n",
      "Ep 3 (Step 002300): Train loss 3.343, Val loss 3.636\n",
      "Ep 3 (Step 002310): Train loss 3.562, Val loss 3.787\n",
      "Ep 3 (Step 002320): Train loss 3.409, Val loss 3.744\n",
      "Ep 3 (Step 002330): Train loss 3.533, Val loss 3.739\n",
      "Ep 3 (Step 002340): Train loss 3.715, Val loss 3.840\n",
      "Ep 3 (Step 002350): Train loss 3.458, Val loss 3.712\n",
      "Ep 3 (Step 002360): Train loss 3.438, Val loss 3.621\n",
      "Ep 3 (Step 002370): Train loss 3.379, Val loss 3.533\n",
      "Ep 3 (Step 002380): Train loss 3.420, Val loss 3.556\n",
      "Ep 3 (Step 002390): Train loss 3.335, Val loss 3.602\n",
      "Ep 3 (Step 002400): Train loss 3.217, Val loss 3.570\n",
      "Ep 3 (Step 002410): Train loss 3.490, Val loss 3.633\n",
      "Ep 3 (Step 002420): Train loss 3.361, Val loss 3.590\n",
      "Ep 3 (Step 002430): Train loss 3.202, Val loss 3.585\n",
      "Ep 3 (Step 002440): Train loss 3.450, Val loss 3.635\n",
      "Ep 3 (Step 002450): Train loss 3.560, Val loss 3.815\n",
      "Ep 3 (Step 002460): Train loss 3.617, Val loss 3.784\n",
      "Ep 3 (Step 002470): Train loss 3.641, Val loss 3.679\n",
      "Ep 3 (Step 002480): Train loss 3.513, Val loss 3.624\n",
      "Ep 3 (Step 002490): Train loss 3.457, Val loss 3.618\n",
      "Ep 3 (Step 002500): Train loss 3.435, Val loss 3.626\n",
      "Ep 3 (Step 002510): Train loss 3.315, Val loss 3.738\n",
      "Ep 3 (Step 002520): Train loss 3.565, Val loss 3.845\n",
      "Ep 3 (Step 002530): Train loss 3.252, Val loss 3.777\n",
      "Ep 3 (Step 002540): Train loss 3.676, Val loss 3.800\n",
      "Ep 3 (Step 002550): Train loss 3.615, Val loss 3.848\n",
      "Ep 3 (Step 002560): Train loss 3.847, Val loss 4.015\n",
      "Ep 3 (Step 002570): Train loss 3.621, Val loss 3.784\n",
      "Ep 3 (Step 002580): Train loss 3.713, Val loss 3.659\n",
      "Ep 3 (Step 002590): Train loss 3.473, Val loss 3.596\n",
      "Ep 3 (Step 002600): Train loss 3.089, Val loss 3.537\n",
      "Ep 3 (Step 002610): Train loss 3.155, Val loss 3.604\n",
      "Ep 3 (Step 002620): Train loss 3.384, Val loss 3.643\n",
      "Ep 3 (Step 002630): Train loss 3.252, Val loss 3.702\n",
      "Ep 3 (Step 002640): Train loss 3.397, Val loss 3.744\n",
      "Ep 3 (Step 002650): Train loss 3.271, Val loss 3.699\n",
      "Ep 3 (Step 002660): Train loss 3.414, Val loss 3.714\n",
      "Ep 3 (Step 002670): Train loss 3.132, Val loss 3.629\n",
      "Ep 3 (Step 002680): Train loss 3.360, Val loss 3.557\n",
      "Ep 3 (Step 002690): Train loss 3.364, Val loss 3.522\n",
      "Ep 3 (Step 002700): Train loss 3.359, Val loss 3.456\n",
      "Ep 3 (Step 002710): Train loss 3.287, Val loss 3.444\n",
      "Ep 3 (Step 002720): Train loss 3.131, Val loss 3.465\n",
      "Ep 3 (Step 002730): Train loss 3.375, Val loss 3.475\n",
      "Ep 3 (Step 002740): Train loss 3.345, Val loss 3.440\n",
      "Ep 3 (Step 002750): Train loss 3.201, Val loss 3.431\n",
      "Ep 3 (Step 002760): Train loss 3.331, Val loss 3.480\n",
      "Ep 3 (Step 002770): Train loss 3.081, Val loss 3.419\n",
      "Ep 3 (Step 002780): Train loss 3.286, Val loss 3.368\n",
      "Ep 3 (Step 002790): Train loss 3.243, Val loss 3.451\n",
      "Ep 3 (Step 002800): Train loss 3.165, Val loss 3.421\n",
      "Ep 3 (Step 002810): Train loss 3.059, Val loss 3.424\n",
      "Ep 3 (Step 002820): Train loss 3.061, Val loss 3.433\n",
      "Ep 3 (Step 002830): Train loss 3.188, Val loss 3.477\n",
      "Ep 3 (Step 002840): Train loss 3.513, Val loss 3.417\n",
      "Ep 3 (Step 002850): Train loss 3.225, Val loss 3.429\n",
      "Ep 3 (Step 002860): Train loss 3.384, Val loss 3.498\n",
      "Ep 3 (Step 002870): Train loss 3.310, Val loss 3.455\n",
      "Ep 3 (Step 002880): Train loss 3.376, Val loss 3.447\n",
      "Ep 3 (Step 002890): Train loss 3.147, Val loss 3.456\n",
      "Ep 3 (Step 002900): Train loss 3.441, Val loss 3.497\n",
      "Ep 3 (Step 002910): Train loss 3.243, Val loss 3.516\n",
      "Ep 3 (Step 002920): Train loss 3.567, Val loss 3.447\n",
      "Ep 3 (Step 002930): Train loss 3.191, Val loss 3.477\n",
      "Ep 3 (Step 002940): Train loss 3.306, Val loss 3.475\n",
      "Ep 3 (Step 002950): Train loss 3.353, Val loss 3.478\n",
      "Ep 3 (Step 002960): Train loss 3.212, Val loss 3.472\n",
      "Ep 3 (Step 002970): Train loss 3.319, Val loss 3.551\n",
      "Ep 3 (Step 002980): Train loss 3.201, Val loss 3.461\n",
      "Ep 3 (Step 002990): Train loss 3.172, Val loss 3.474\n",
      "Ep 3 (Step 003000): Train loss 3.281, Val loss 3.491\n",
      "Ep 3 (Step 003010): Train loss 3.318, Val loss 3.557\n",
      "Ep 3 (Step 003020): Train loss 3.125, Val loss 3.497\n",
      "Ep 3 (Step 003030): Train loss 3.150, Val loss 3.542\n",
      "Ep 3 (Step 003040): Train loss 3.262, Val loss 3.449\n",
      "Ep 3 (Step 003050): Train loss 3.097, Val loss 3.456\n",
      "Ep 3 (Step 003060): Train loss 3.159, Val loss 3.524\n",
      "Ep 3 (Step 003070): Train loss 3.345, Val loss 3.556\n",
      "Ep 3 (Step 003080): Train loss 3.266, Val loss 3.545\n",
      "Ep 3 (Step 003090): Train loss 3.292, Val loss 3.647\n",
      "Ep 3 (Step 003100): Train loss 3.461, Val loss 3.629\n",
      "Ep 3 (Step 003110): Train loss 3.247, Val loss 3.576\n",
      "Ep 3 (Step 003120): Train loss 3.136, Val loss 3.530\n",
      "Ep 3 (Step 003130): Train loss 3.220, Val loss 3.481\n",
      "Ep 3 (Step 003140): Train loss 3.201, Val loss 3.500\n",
      "Ep 3 (Step 003150): Train loss 3.182, Val loss 3.541\n",
      "Ep 3 (Step 003160): Train loss 3.307, Val loss 3.467\n",
      "Ep 3 (Step 003170): Train loss 3.179, Val loss 3.488\n",
      "Ep 3 (Step 003180): Train loss 3.419, Val loss 3.621\n",
      "Ep 3 (Step 003190): Train loss 3.139, Val loss 3.537\n",
      "Ep 3 (Step 003200): Train loss 3.428, Val loss 3.509\n",
      "Ep 3 (Step 003210): Train loss 2.981, Val loss 3.454\n",
      "Ep 3 (Step 003220): Train loss 2.883, Val loss 3.376\n",
      "Ep 3 (Step 003230): Train loss 3.124, Val loss 3.411\n",
      "Ep 3 (Step 003240): Train loss 3.124, Val loss 3.404\n",
      "Ep 3 (Step 003250): Train loss 3.067, Val loss 3.358\n",
      "Ep 3 (Step 003260): Train loss 3.118, Val loss 3.428\n",
      "Ep 3 (Step 003270): Train loss 3.291, Val loss 3.435\n",
      "Ep 3 (Step 003280): Train loss 2.929, Val loss 3.525\n",
      "Ep 3 (Step 003290): Train loss 3.250, Val loss 3.493\n",
      "Ep 3 (Step 003300): Train loss 3.088, Val loss 3.456\n",
      "Ep 3 (Step 003310): Train loss 3.421, Val loss 3.462\n",
      "Ep 3 (Step 003320): Train loss 3.207, Val loss 3.537\n",
      "Ep 3 (Step 003330): Train loss 3.246, Val loss 3.478\n",
      "Ep 3 (Step 003340): Train loss 3.106, Val loss 3.566\n",
      "Ep 3 (Step 003350): Train loss 3.218, Val loss 3.527\n",
      "Ep 3 (Step 003360): Train loss 3.309, Val loss 3.462\n",
      "Ep 3 (Step 003370): Train loss 3.262, Val loss 3.435\n",
      "Ep 3 (Step 003380): Train loss 2.881, Val loss 3.443\n",
      "Ep 3 (Step 003390): Train loss 3.101, Val loss 3.388\n",
      "Ep 3 (Step 003400): Train loss 3.090, Val loss 3.414\n",
      "Ep 3 (Step 003410): Train loss 2.999, Val loss 3.420\n",
      "Ep 3 (Step 003420): Train loss 3.058, Val loss 3.319\n",
      "Ep 3 (Step 003430): Train loss 2.958, Val loss 3.343\n",
      "Ep 3 (Step 003440): Train loss 2.947, Val loss 3.340\n",
      "The included lumbar and the images dated 06/2024 are provided. The lungs are well-filled with rounded of the of the right of the of the right lateral image. The cardiac silhouette is normal. The trachea is normal. The trachea is normal\n",
      "Ep 4 (Step 003450): Train loss 3.095, Val loss 3.290\n",
      "Ep 4 (Step 003460): Train loss 2.969, Val loss 3.251\n",
      "Ep 4 (Step 003470): Train loss 3.037, Val loss 3.272\n",
      "Ep 4 (Step 003480): Train loss 2.816, Val loss 3.277\n",
      "Ep 4 (Step 003490): Train loss 3.230, Val loss 3.286\n",
      "Ep 4 (Step 003500): Train loss 2.714, Val loss 3.263\n",
      "Ep 4 (Step 003510): Train loss 3.119, Val loss 3.292\n",
      "Ep 4 (Step 003520): Train loss 3.124, Val loss 3.230\n",
      "Ep 4 (Step 003530): Train loss 2.992, Val loss 3.259\n",
      "Ep 4 (Step 003540): Train loss 3.114, Val loss 3.285\n",
      "Ep 4 (Step 003550): Train loss 3.032, Val loss 3.216\n",
      "Ep 4 (Step 003560): Train loss 3.084, Val loss 3.249\n",
      "Ep 4 (Step 003570): Train loss 2.907, Val loss 3.292\n",
      "Ep 4 (Step 003580): Train loss 3.021, Val loss 3.248\n",
      "Ep 4 (Step 003590): Train loss 2.819, Val loss 3.259\n",
      "Ep 4 (Step 003600): Train loss 3.184, Val loss 3.323\n",
      "Ep 4 (Step 003610): Train loss 2.872, Val loss 3.225\n",
      "Ep 4 (Step 003620): Train loss 3.053, Val loss 3.246\n",
      "Ep 4 (Step 003630): Train loss 2.917, Val loss 3.190\n",
      "Ep 4 (Step 003640): Train loss 3.092, Val loss 3.214\n",
      "Ep 4 (Step 003650): Train loss 3.017, Val loss 3.291\n",
      "Ep 4 (Step 003660): Train loss 2.718, Val loss 3.323\n",
      "Ep 4 (Step 003670): Train loss 3.081, Val loss 3.268\n",
      "Ep 4 (Step 003680): Train loss 2.903, Val loss 3.233\n",
      "Ep 4 (Step 003690): Train loss 2.952, Val loss 3.192\n",
      "Ep 4 (Step 003700): Train loss 3.083, Val loss 3.211\n",
      "Ep 4 (Step 003710): Train loss 2.819, Val loss 3.198\n",
      "Ep 4 (Step 003720): Train loss 3.053, Val loss 3.195\n",
      "Ep 4 (Step 003730): Train loss 2.944, Val loss 3.182\n",
      "Ep 4 (Step 003740): Train loss 3.131, Val loss 3.191\n",
      "Ep 4 (Step 003750): Train loss 2.850, Val loss 3.209\n",
      "Ep 4 (Step 003760): Train loss 3.240, Val loss 3.187\n",
      "Ep 4 (Step 003770): Train loss 3.120, Val loss 3.163\n",
      "Ep 4 (Step 003780): Train loss 2.839, Val loss 3.196\n",
      "Ep 4 (Step 003790): Train loss 2.898, Val loss 3.187\n",
      "Ep 4 (Step 003800): Train loss 2.836, Val loss 3.173\n",
      "Ep 4 (Step 003810): Train loss 2.991, Val loss 3.179\n",
      "Ep 4 (Step 003820): Train loss 2.967, Val loss 3.204\n",
      "Ep 4 (Step 003830): Train loss 2.990, Val loss 3.160\n",
      "Ep 4 (Step 003840): Train loss 3.019, Val loss 3.154\n",
      "Ep 4 (Step 003850): Train loss 2.958, Val loss 3.128\n",
      "Ep 4 (Step 003860): Train loss 2.860, Val loss 3.127\n",
      "Ep 4 (Step 003870): Train loss 2.799, Val loss 3.095\n",
      "Ep 4 (Step 003880): Train loss 2.780, Val loss 3.105\n",
      "Ep 4 (Step 003890): Train loss 2.627, Val loss 3.086\n",
      "Ep 4 (Step 003900): Train loss 2.792, Val loss 3.061\n",
      "Ep 4 (Step 003910): Train loss 2.778, Val loss 3.073\n",
      "Ep 4 (Step 003920): Train loss 2.981, Val loss 3.077\n",
      "Ep 4 (Step 003930): Train loss 2.787, Val loss 3.049\n",
      "Ep 4 (Step 003940): Train loss 2.990, Val loss 3.059\n",
      "Ep 4 (Step 003950): Train loss 2.802, Val loss 3.050\n",
      "Ep 4 (Step 003960): Train loss 2.870, Val loss 3.043\n",
      "Ep 4 (Step 003970): Train loss 2.795, Val loss 3.032\n",
      "Ep 4 (Step 003980): Train loss 2.736, Val loss 3.057\n",
      "Ep 4 (Step 003990): Train loss 2.572, Val loss 3.066\n",
      "Ep 4 (Step 004000): Train loss 2.774, Val loss 3.000\n",
      "Ep 4 (Step 004010): Train loss 2.865, Val loss 3.034\n",
      "Ep 4 (Step 004020): Train loss 2.862, Val loss 3.017\n",
      "Ep 4 (Step 004030): Train loss 2.931, Val loss 3.048\n",
      "Ep 4 (Step 004040): Train loss 2.767, Val loss 3.037\n",
      "Ep 4 (Step 004050): Train loss 2.655, Val loss 3.092\n",
      "Ep 4 (Step 004060): Train loss 2.697, Val loss 3.074\n",
      "Ep 4 (Step 004070): Train loss 2.637, Val loss 3.059\n",
      "Ep 4 (Step 004080): Train loss 2.702, Val loss 3.068\n",
      "Ep 4 (Step 004090): Train loss 2.763, Val loss 3.106\n",
      "Ep 4 (Step 004100): Train loss 2.890, Val loss 3.092\n",
      "Ep 4 (Step 004110): Train loss 2.821, Val loss 3.309\n",
      "Ep 4 (Step 004120): Train loss 2.762, Val loss 3.197\n",
      "Ep 4 (Step 004130): Train loss 2.780, Val loss 3.149\n",
      "Ep 4 (Step 004140): Train loss 2.695, Val loss 3.114\n",
      "Ep 4 (Step 004150): Train loss 2.837, Val loss 3.128\n",
      "Ep 4 (Step 004160): Train loss 2.792, Val loss 3.097\n",
      "Ep 4 (Step 004170): Train loss 2.875, Val loss 3.066\n",
      "Ep 4 (Step 004180): Train loss 2.941, Val loss 3.115\n",
      "Ep 4 (Step 004190): Train loss 2.805, Val loss 3.063\n",
      "Ep 4 (Step 004200): Train loss 2.811, Val loss 3.039\n",
      "Ep 4 (Step 004210): Train loss 2.623, Val loss 3.072\n",
      "Ep 4 (Step 004220): Train loss 2.791, Val loss 3.116\n",
      "Ep 4 (Step 004230): Train loss 2.827, Val loss 3.114\n",
      "Ep 4 (Step 004240): Train loss 2.911, Val loss 3.167\n",
      "Ep 4 (Step 004250): Train loss 2.730, Val loss 3.129\n",
      "Ep 4 (Step 004260): Train loss 2.957, Val loss 3.129\n",
      "Ep 4 (Step 004270): Train loss 2.772, Val loss 3.110\n",
      "Ep 4 (Step 004280): Train loss 2.815, Val loss 3.130\n",
      "Ep 4 (Step 004290): Train loss 3.034, Val loss 3.120\n",
      "Ep 4 (Step 004300): Train loss 2.711, Val loss 3.104\n",
      "Ep 4 (Step 004310): Train loss 2.768, Val loss 3.108\n",
      "Ep 4 (Step 004320): Train loss 2.886, Val loss 3.119\n",
      "Ep 4 (Step 004330): Train loss 2.787, Val loss 3.114\n",
      "Ep 4 (Step 004340): Train loss 2.896, Val loss 3.114\n",
      "Ep 4 (Step 004350): Train loss 2.642, Val loss 3.109\n",
      "Ep 4 (Step 004360): Train loss 2.915, Val loss 3.086\n",
      "Ep 4 (Step 004370): Train loss 2.656, Val loss 3.145\n",
      "Ep 4 (Step 004380): Train loss 2.758, Val loss 3.143\n",
      "Ep 4 (Step 004390): Train loss 2.757, Val loss 3.144\n",
      "Ep 4 (Step 004400): Train loss 3.085, Val loss 3.123\n",
      "Ep 4 (Step 004410): Train loss 2.738, Val loss 3.148\n",
      "Ep 4 (Step 004420): Train loss 2.940, Val loss 3.147\n",
      "Ep 4 (Step 004430): Train loss 2.853, Val loss 3.103\n",
      "Ep 4 (Step 004440): Train loss 2.842, Val loss 3.157\n",
      "Ep 4 (Step 004450): Train loss 2.820, Val loss 3.075\n",
      "Ep 4 (Step 004460): Train loss 2.949, Val loss 3.091\n",
      "Ep 4 (Step 004470): Train loss 2.644, Val loss 3.080\n",
      "Ep 4 (Step 004480): Train loss 2.916, Val loss 3.062\n",
      "Ep 4 (Step 004490): Train loss 2.900, Val loss 3.049\n",
      "Ep 4 (Step 004500): Train loss 2.726, Val loss 3.038\n",
      "Ep 4 (Step 004510): Train loss 2.649, Val loss 3.044\n",
      "Ep 4 (Step 004520): Train loss 2.732, Val loss 3.028\n",
      "Ep 4 (Step 004530): Train loss 2.724, Val loss 3.060\n",
      "Ep 4 (Step 004540): Train loss 2.853, Val loss 3.049\n",
      "Ep 4 (Step 004550): Train loss 2.925, Val loss 3.164\n",
      "Ep 4 (Step 004560): Train loss 2.759, Val loss 3.104\n",
      "Ep 4 (Step 004570): Train loss 2.785, Val loss 3.077\n",
      "Ep 4 (Step 004580): Train loss 2.952, Val loss 3.069\n",
      "The included lumbar and the left lung imagesclusions and recommendations the right lateral. The cardiac silhouette margins of the right lateral margin of the right lateral to the right lateral to the right lateral to the right lateral to the right lateral images. The right lateralofgeal lymph node\n",
      "Ep 5 (Step 004590): Train loss 2.959, Val loss 3.046\n",
      "Ep 5 (Step 004600): Train loss 2.836, Val loss 3.063\n",
      "Ep 5 (Step 004610): Train loss 2.719, Val loss 3.073\n",
      "Ep 5 (Step 004620): Train loss 2.690, Val loss 3.073\n",
      "Ep 5 (Step 004630): Train loss 2.645, Val loss 3.057\n",
      "Ep 5 (Step 004640): Train loss 3.012, Val loss 3.069\n",
      "Ep 5 (Step 004650): Train loss 2.540, Val loss 3.090\n",
      "Ep 5 (Step 004660): Train loss 2.939, Val loss 3.131\n",
      "Ep 5 (Step 004670): Train loss 2.749, Val loss 3.083\n",
      "Ep 5 (Step 004680): Train loss 2.710, Val loss 3.064\n",
      "Ep 5 (Step 004690): Train loss 2.746, Val loss 3.086\n",
      "Ep 5 (Step 004700): Train loss 2.815, Val loss 3.150\n",
      "Ep 5 (Step 004710): Train loss 2.803, Val loss 3.132\n",
      "Ep 5 (Step 004720): Train loss 2.742, Val loss 3.095\n",
      "Ep 5 (Step 004730): Train loss 2.784, Val loss 3.072\n",
      "Ep 5 (Step 004740): Train loss 2.756, Val loss 3.087\n",
      "Ep 5 (Step 004750): Train loss 2.945, Val loss 3.021\n",
      "Ep 5 (Step 004760): Train loss 2.866, Val loss 3.019\n",
      "Ep 5 (Step 004770): Train loss 2.943, Val loss 3.093\n",
      "Ep 5 (Step 004780): Train loss 3.256, Val loss 3.115\n",
      "Ep 5 (Step 004790): Train loss 2.906, Val loss 3.217\n",
      "Ep 5 (Step 004800): Train loss 3.060, Val loss 3.373\n",
      "Ep 5 (Step 004810): Train loss 2.784, Val loss 3.301\n",
      "Ep 5 (Step 004820): Train loss 3.091, Val loss 3.259\n",
      "Ep 5 (Step 004830): Train loss 3.239, Val loss 3.341\n",
      "Ep 5 (Step 004840): Train loss 3.075, Val loss 3.294\n",
      "Ep 5 (Step 004850): Train loss 3.078, Val loss 3.345\n",
      "Ep 5 (Step 004860): Train loss 3.185, Val loss 3.308\n",
      "Ep 5 (Step 004870): Train loss 2.932, Val loss 3.345\n",
      "Ep 5 (Step 004880): Train loss 2.900, Val loss 3.241\n",
      "Ep 5 (Step 004890): Train loss 2.948, Val loss 3.225\n",
      "Ep 5 (Step 004900): Train loss 3.067, Val loss 3.226\n",
      "Ep 5 (Step 004910): Train loss 3.081, Val loss 3.169\n",
      "Ep 5 (Step 004920): Train loss 3.045, Val loss 3.161\n",
      "Ep 5 (Step 004930): Train loss 2.848, Val loss 3.284\n",
      "Ep 5 (Step 004940): Train loss 3.095, Val loss 3.250\n",
      "Ep 5 (Step 004950): Train loss 2.992, Val loss 3.274\n",
      "Ep 5 (Step 004960): Train loss 2.989, Val loss 3.223\n",
      "Ep 5 (Step 004970): Train loss 2.979, Val loss 3.163\n",
      "Ep 5 (Step 004980): Train loss 3.015, Val loss 3.168\n",
      "Ep 5 (Step 004990): Train loss 2.675, Val loss 3.183\n",
      "Ep 5 (Step 005000): Train loss 2.825, Val loss 3.165\n",
      "Ep 5 (Step 005010): Train loss 3.006, Val loss 3.195\n",
      "Ep 5 (Step 005020): Train loss 2.733, Val loss 3.160\n",
      "Ep 5 (Step 005030): Train loss 2.563, Val loss 3.171\n",
      "Ep 5 (Step 005040): Train loss 3.020, Val loss 3.197\n",
      "Ep 5 (Step 005050): Train loss 3.012, Val loss 3.231\n",
      "Ep 5 (Step 005060): Train loss 3.047, Val loss 3.196\n",
      "Ep 5 (Step 005070): Train loss 2.911, Val loss 3.205\n",
      "Ep 5 (Step 005080): Train loss 2.877, Val loss 3.170\n",
      "Ep 5 (Step 005090): Train loss 2.966, Val loss 3.122\n",
      "Ep 5 (Step 005100): Train loss 2.839, Val loss 3.163\n",
      "Ep 5 (Step 005110): Train loss 2.798, Val loss 3.124\n",
      "Ep 5 (Step 005120): Train loss 2.904, Val loss 3.129\n",
      "Ep 5 (Step 005130): Train loss 2.932, Val loss 3.170\n",
      "Ep 5 (Step 005140): Train loss 2.797, Val loss 3.147\n",
      "Ep 5 (Step 005150): Train loss 3.045, Val loss 3.122\n",
      "Ep 5 (Step 005160): Train loss 2.849, Val loss 3.166\n",
      "Ep 5 (Step 005170): Train loss 2.807, Val loss 3.164\n",
      "Ep 5 (Step 005180): Train loss 2.655, Val loss 3.198\n",
      "Ep 5 (Step 005190): Train loss 3.033, Val loss 3.255\n",
      "Ep 5 (Step 005200): Train loss 3.219, Val loss 3.248\n",
      "Ep 5 (Step 005210): Train loss 3.091, Val loss 3.227\n",
      "Ep 5 (Step 005220): Train loss 2.903, Val loss 3.362\n",
      "Ep 5 (Step 005230): Train loss 3.108, Val loss 3.372\n",
      "Ep 5 (Step 005240): Train loss 2.944, Val loss 3.382\n",
      "Ep 5 (Step 005250): Train loss 2.765, Val loss 3.329\n",
      "Ep 5 (Step 005260): Train loss 2.880, Val loss 3.345\n",
      "Ep 5 (Step 005270): Train loss 3.071, Val loss 3.346\n",
      "Ep 5 (Step 005280): Train loss 2.753, Val loss 3.244\n",
      "Ep 5 (Step 005290): Train loss 3.127, Val loss 3.186\n",
      "Ep 5 (Step 005300): Train loss 2.989, Val loss 3.182\n",
      "Ep 5 (Step 005310): Train loss 2.957, Val loss 3.213\n",
      "Ep 5 (Step 005320): Train loss 2.835, Val loss 3.246\n",
      "Ep 5 (Step 005330): Train loss 3.335, Val loss 3.318\n",
      "Ep 5 (Step 005340): Train loss 3.009, Val loss 3.287\n",
      "Ep 5 (Step 005350): Train loss 3.048, Val loss 3.207\n",
      "Ep 5 (Step 005360): Train loss 3.000, Val loss 3.275\n",
      "Ep 5 (Step 005370): Train loss 2.778, Val loss 3.313\n",
      "Ep 5 (Step 005380): Train loss 2.812, Val loss 3.206\n",
      "Ep 5 (Step 005390): Train loss 2.777, Val loss 3.238\n",
      "Ep 5 (Step 005400): Train loss 3.049, Val loss 3.250\n",
      "Ep 5 (Step 005410): Train loss 3.027, Val loss 3.226\n",
      "Ep 5 (Step 005420): Train loss 2.931, Val loss 3.197\n",
      "Ep 5 (Step 005430): Train loss 2.863, Val loss 3.217\n",
      "Ep 5 (Step 005440): Train loss 3.178, Val loss 3.273\n",
      "Ep 5 (Step 005450): Train loss 3.142, Val loss 3.205\n",
      "Ep 5 (Step 005460): Train loss 2.555, Val loss 3.209\n",
      "Ep 5 (Step 005470): Train loss 2.783, Val loss 3.174\n",
      "Ep 5 (Step 005480): Train loss 2.895, Val loss 3.143\n",
      "Ep 5 (Step 005490): Train loss 2.947, Val loss 3.134\n",
      "Ep 5 (Step 005500): Train loss 2.783, Val loss 3.097\n",
      "Ep 5 (Step 005510): Train loss 2.713, Val loss 3.076\n",
      "Ep 5 (Step 005520): Train loss 3.022, Val loss 3.099\n",
      "Ep 5 (Step 005530): Train loss 2.867, Val loss 3.083\n",
      "Ep 5 (Step 005540): Train loss 2.654, Val loss 3.072\n",
      "Ep 5 (Step 005550): Train loss 2.773, Val loss 3.076\n",
      "Ep 5 (Step 005560): Train loss 2.718, Val loss 3.103\n",
      "Ep 5 (Step 005570): Train loss 2.621, Val loss 3.119\n",
      "Ep 5 (Step 005580): Train loss 2.852, Val loss 3.069\n",
      "Ep 5 (Step 005590): Train loss 2.867, Val loss 3.055\n",
      "Ep 5 (Step 005600): Train loss 2.665, Val loss 3.041\n",
      "Ep 5 (Step 005610): Train loss 2.621, Val loss 3.024\n",
      "Ep 5 (Step 005620): Train loss 2.797, Val loss 3.152\n",
      "Ep 5 (Step 005630): Train loss 2.986, Val loss 3.191\n",
      "Ep 5 (Step 005640): Train loss 2.918, Val loss 3.198\n",
      "Ep 5 (Step 005650): Train loss 2.795, Val loss 3.279\n",
      "Ep 5 (Step 005660): Train loss 3.055, Val loss 3.362\n",
      "Ep 5 (Step 005670): Train loss 3.137, Val loss 3.414\n",
      "Ep 5 (Step 005680): Train loss 3.052, Val loss 3.302\n",
      "Ep 5 (Step 005690): Train loss 2.977, Val loss 3.279\n",
      "Ep 5 (Step 005700): Train loss 2.869, Val loss 3.302\n",
      "Ep 5 (Step 005710): Train loss 3.078, Val loss 3.188\n",
      "Ep 5 (Step 005720): Train loss 2.873, Val loss 3.181\n",
      "Ep 5 (Step 005730): Train loss 2.708, Val loss 3.115\n",
      "The included lumbar and normal. The remainder of the right and normal. The remainder is normal. The remainder is normal. The remainder of the right caud musculature is normal. The remainder of the right cervical spine is normal. The remainder of the right caud\n",
      "Ep 6 (Step 005740): Train loss 2.734, Val loss 3.101\n",
      "Ep 6 (Step 005750): Train loss 2.740, Val loss 3.071\n",
      "Ep 6 (Step 005760): Train loss 2.827, Val loss 3.089\n",
      "Ep 6 (Step 005770): Train loss 3.004, Val loss 3.082\n",
      "Ep 6 (Step 005780): Train loss 2.927, Val loss 3.070\n",
      "Ep 6 (Step 005790): Train loss 2.864, Val loss 3.082\n",
      "Ep 6 (Step 005800): Train loss 2.931, Val loss 3.140\n",
      "Ep 6 (Step 005810): Train loss 3.186, Val loss 3.198\n",
      "Ep 6 (Step 005820): Train loss 3.491, Val loss 3.601\n",
      "Ep 6 (Step 005830): Train loss 3.198, Val loss 3.457\n",
      "Ep 6 (Step 005840): Train loss 3.063, Val loss 3.323\n",
      "Ep 6 (Step 005850): Train loss 2.920, Val loss 3.305\n",
      "Ep 6 (Step 005860): Train loss 3.117, Val loss 3.273\n",
      "Ep 6 (Step 005870): Train loss 3.014, Val loss 3.254\n",
      "Ep 6 (Step 005880): Train loss 2.933, Val loss 3.233\n",
      "Ep 6 (Step 005890): Train loss 3.075, Val loss 3.181\n",
      "Ep 6 (Step 005900): Train loss 3.082, Val loss 3.195\n",
      "Ep 6 (Step 005910): Train loss 3.066, Val loss 3.156\n",
      "Ep 6 (Step 005920): Train loss 3.015, Val loss 3.237\n",
      "Ep 6 (Step 005930): Train loss 3.153, Val loss 3.338\n",
      "Ep 6 (Step 005940): Train loss 2.901, Val loss 3.287\n",
      "Ep 6 (Step 005950): Train loss 2.745, Val loss 3.232\n",
      "Ep 6 (Step 005960): Train loss 2.956, Val loss 3.234\n",
      "Ep 6 (Step 005970): Train loss 2.941, Val loss 3.176\n",
      "Ep 6 (Step 005980): Train loss 2.851, Val loss 3.161\n",
      "Ep 6 (Step 005990): Train loss 2.993, Val loss 3.168\n",
      "Ep 6 (Step 006000): Train loss 2.960, Val loss 3.130\n",
      "Ep 6 (Step 006010): Train loss 2.985, Val loss 3.225\n",
      "Ep 6 (Step 006020): Train loss 3.008, Val loss 3.223\n",
      "Ep 6 (Step 006030): Train loss 3.035, Val loss 3.197\n",
      "Ep 6 (Step 006040): Train loss 3.003, Val loss 3.299\n",
      "Ep 6 (Step 006050): Train loss 3.184, Val loss 3.378\n",
      "Ep 6 (Step 006060): Train loss 3.216, Val loss 3.342\n",
      "Ep 6 (Step 006070): Train loss 3.063, Val loss 3.245\n",
      "Ep 6 (Step 006080): Train loss 2.910, Val loss 3.182\n",
      "Ep 6 (Step 006090): Train loss 3.159, Val loss 3.248\n",
      "Ep 6 (Step 006100): Train loss 3.083, Val loss 3.171\n",
      "Ep 6 (Step 006110): Train loss 2.915, Val loss 3.198\n",
      "Ep 6 (Step 006120): Train loss 2.895, Val loss 3.209\n",
      "Ep 6 (Step 006130): Train loss 2.880, Val loss 3.152\n",
      "Ep 6 (Step 006140): Train loss 2.846, Val loss 3.123\n",
      "Ep 6 (Step 006150): Train loss 2.975, Val loss 3.190\n",
      "Ep 6 (Step 006160): Train loss 3.104, Val loss 3.206\n",
      "Ep 6 (Step 006170): Train loss 2.880, Val loss 3.171\n",
      "Ep 6 (Step 006180): Train loss 2.648, Val loss 3.207\n",
      "Ep 6 (Step 006190): Train loss 2.953, Val loss 3.178\n",
      "Ep 6 (Step 006200): Train loss 2.896, Val loss 3.208\n",
      "Ep 6 (Step 006210): Train loss 2.882, Val loss 3.244\n",
      "Ep 6 (Step 006220): Train loss 2.804, Val loss 3.259\n",
      "Ep 6 (Step 006230): Train loss 3.137, Val loss 3.226\n",
      "Ep 6 (Step 006240): Train loss 3.086, Val loss 3.231\n",
      "Ep 6 (Step 006250): Train loss 2.844, Val loss 3.281\n",
      "Ep 6 (Step 006260): Train loss 2.851, Val loss 3.219\n",
      "Ep 6 (Step 006270): Train loss 2.822, Val loss 3.215\n",
      "Ep 6 (Step 006280): Train loss 3.081, Val loss 3.135\n",
      "Ep 6 (Step 006290): Train loss 2.952, Val loss 3.171\n",
      "Ep 6 (Step 006300): Train loss 2.948, Val loss 3.128\n",
      "Ep 6 (Step 006310): Train loss 2.997, Val loss 3.161\n",
      "Ep 6 (Step 006320): Train loss 2.899, Val loss 3.193\n",
      "Ep 6 (Step 006330): Train loss 2.926, Val loss 3.169\n",
      "Ep 6 (Step 006340): Train loss 2.935, Val loss 3.129\n",
      "Ep 6 (Step 006350): Train loss 2.613, Val loss 3.156\n",
      "Ep 6 (Step 006360): Train loss 2.910, Val loss 3.073\n",
      "Ep 6 (Step 006370): Train loss 3.002, Val loss 3.083\n",
      "Ep 6 (Step 006380): Train loss 2.947, Val loss 3.132\n",
      "Ep 6 (Step 006390): Train loss 2.787, Val loss 3.133\n",
      "Ep 6 (Step 006400): Train loss 2.991, Val loss 3.091\n",
      "Ep 6 (Step 006410): Train loss 2.682, Val loss 3.113\n",
      "Ep 6 (Step 006420): Train loss 2.716, Val loss 3.096\n",
      "Ep 6 (Step 006430): Train loss 2.913, Val loss 3.061\n",
      "Ep 6 (Step 006440): Train loss 2.737, Val loss 3.051\n",
      "Ep 6 (Step 006450): Train loss 2.685, Val loss 3.023\n",
      "Ep 6 (Step 006460): Train loss 2.641, Val loss 3.068\n",
      "Ep 6 (Step 006470): Train loss 2.826, Val loss 3.059\n",
      "Ep 6 (Step 006480): Train loss 2.727, Val loss 3.030\n",
      "Ep 6 (Step 006490): Train loss 2.682, Val loss 3.058\n",
      "Ep 6 (Step 006500): Train loss 2.830, Val loss 3.029\n",
      "Ep 6 (Step 006510): Train loss 2.745, Val loss 3.051\n",
      "Ep 6 (Step 006520): Train loss 3.012, Val loss 3.062\n",
      "Ep 6 (Step 006530): Train loss 2.626, Val loss 3.038\n",
      "Ep 6 (Step 006540): Train loss 2.758, Val loss 3.030\n",
      "Ep 6 (Step 006550): Train loss 2.828, Val loss 3.038\n",
      "Ep 6 (Step 006560): Train loss 2.866, Val loss 3.049\n",
      "Ep 6 (Step 006570): Train loss 2.922, Val loss 3.073\n",
      "Ep 6 (Step 006580): Train loss 2.797, Val loss 2.996\n",
      "Ep 6 (Step 006590): Train loss 2.622, Val loss 2.984\n",
      "Ep 6 (Step 006600): Train loss 2.542, Val loss 2.988\n",
      "Ep 6 (Step 006610): Train loss 2.915, Val loss 3.023\n",
      "Ep 6 (Step 006620): Train loss 2.680, Val loss 3.029\n",
      "Ep 6 (Step 006630): Train loss 2.790, Val loss 2.998\n",
      "Ep 6 (Step 006640): Train loss 2.906, Val loss 2.999\n",
      "Ep 6 (Step 006650): Train loss 2.749, Val loss 2.990\n",
      "Ep 6 (Step 006660): Train loss 2.845, Val loss 3.001\n",
      "Ep 6 (Step 006670): Train loss 2.906, Val loss 2.978\n",
      "Ep 6 (Step 006680): Train loss 2.838, Val loss 2.949\n",
      "Ep 6 (Step 006690): Train loss 2.749, Val loss 2.987\n",
      "Ep 6 (Step 006700): Train loss 2.674, Val loss 3.022\n",
      "Ep 6 (Step 006710): Train loss 2.716, Val loss 3.047\n",
      "Ep 6 (Step 006720): Train loss 2.667, Val loss 3.003\n",
      "Ep 6 (Step 006730): Train loss 2.732, Val loss 3.016\n",
      "Ep 6 (Step 006740): Train loss 2.533, Val loss 3.037\n",
      "Ep 6 (Step 006750): Train loss 2.741, Val loss 3.038\n",
      "Ep 6 (Step 006760): Train loss 2.650, Val loss 3.010\n",
      "Ep 6 (Step 006770): Train loss 2.778, Val loss 3.050\n",
      "Ep 6 (Step 006780): Train loss 2.940, Val loss 3.046\n",
      "Ep 6 (Step 006790): Train loss 2.754, Val loss 3.066\n",
      "Ep 6 (Step 006800): Train loss 2.790, Val loss 3.032\n",
      "Ep 6 (Step 006810): Train loss 2.592, Val loss 3.051\n",
      "Ep 6 (Step 006820): Train loss 2.609, Val loss 3.033\n",
      "Ep 6 (Step 006830): Train loss 2.821, Val loss 3.030\n",
      "Ep 6 (Step 006840): Train loss 2.691, Val loss 3.039\n",
      "Ep 6 (Step 006850): Train loss 2.626, Val loss 3.074\n",
      "Ep 6 (Step 006860): Train loss 2.707, Val loss 3.099\n",
      "Ep 6 (Step 006870): Train loss 2.818, Val loss 3.138\n",
      "Ep 6 (Step 006880): Train loss 2.922, Val loss 3.174\n",
      "The included lumbar and is present in the caudal lung spine. The remainder of the caudal thorax areacheal and the caudal spine is normal. The tracheal abdomen is normal in position. The tracheal abdomen and principal bronchi\n",
      "Ep 7 (Step 006890): Train loss 2.778, Val loss 3.148\n",
      "Ep 7 (Step 006900): Train loss 2.748, Val loss 3.109\n",
      "Ep 7 (Step 006910): Train loss 2.714, Val loss 3.141\n",
      "Ep 7 (Step 006920): Train loss 2.904, Val loss 3.124\n",
      "Ep 7 (Step 006930): Train loss 2.678, Val loss 3.083\n",
      "Ep 7 (Step 006940): Train loss 2.740, Val loss 3.091\n",
      "Ep 7 (Step 006950): Train loss 2.828, Val loss 3.026\n",
      "Ep 7 (Step 006960): Train loss 2.757, Val loss 3.031\n",
      "Ep 7 (Step 006970): Train loss 2.633, Val loss 3.022\n",
      "Ep 7 (Step 006980): Train loss 2.511, Val loss 3.068\n",
      "Ep 7 (Step 006990): Train loss 2.917, Val loss 3.010\n",
      "Ep 7 (Step 007000): Train loss 2.937, Val loss 2.960\n",
      "Ep 7 (Step 007010): Train loss 2.960, Val loss 3.202\n",
      "Ep 7 (Step 007020): Train loss 2.799, Val loss 3.204\n",
      "Ep 7 (Step 007030): Train loss 3.006, Val loss 3.157\n",
      "Ep 7 (Step 007040): Train loss 2.949, Val loss 3.114\n",
      "Ep 7 (Step 007050): Train loss 2.700, Val loss 3.071\n",
      "Ep 7 (Step 007060): Train loss 2.589, Val loss 3.045\n",
      "Ep 7 (Step 007070): Train loss 2.654, Val loss 3.005\n",
      "Ep 7 (Step 007080): Train loss 2.660, Val loss 3.020\n",
      "Ep 7 (Step 007090): Train loss 2.784, Val loss 3.054\n",
      "Ep 7 (Step 007100): Train loss 2.671, Val loss 3.008\n",
      "Ep 7 (Step 007110): Train loss 2.659, Val loss 2.998\n",
      "Ep 7 (Step 007120): Train loss 2.751, Val loss 2.935\n",
      "Ep 7 (Step 007130): Train loss 2.698, Val loss 2.948\n",
      "Ep 7 (Step 007140): Train loss 2.759, Val loss 2.957\n",
      "Ep 7 (Step 007150): Train loss 2.731, Val loss 2.951\n",
      "Ep 7 (Step 007160): Train loss 2.771, Val loss 2.959\n",
      "Ep 7 (Step 007170): Train loss 2.578, Val loss 2.921\n",
      "Ep 7 (Step 007180): Train loss 2.675, Val loss 2.928\n",
      "Ep 7 (Step 007190): Train loss 2.697, Val loss 2.952\n",
      "Ep 7 (Step 007200): Train loss 2.564, Val loss 2.983\n",
      "Ep 7 (Step 007210): Train loss 2.601, Val loss 2.952\n",
      "Ep 7 (Step 007220): Train loss 2.503, Val loss 2.978\n",
      "Ep 7 (Step 007230): Train loss 2.726, Val loss 2.932\n",
      "Ep 7 (Step 007240): Train loss 2.681, Val loss 2.937\n",
      "Ep 7 (Step 007250): Train loss 2.660, Val loss 2.908\n",
      "Ep 7 (Step 007260): Train loss 2.611, Val loss 2.867\n",
      "Ep 7 (Step 007270): Train loss 2.614, Val loss 2.878\n",
      "Ep 7 (Step 007280): Train loss 2.674, Val loss 2.929\n",
      "Ep 7 (Step 007290): Train loss 2.612, Val loss 2.949\n",
      "Ep 7 (Step 007300): Train loss 2.740, Val loss 3.036\n",
      "Ep 7 (Step 007310): Train loss 2.748, Val loss 3.044\n",
      "Ep 7 (Step 007320): Train loss 2.696, Val loss 3.015\n",
      "Ep 7 (Step 007330): Train loss 2.787, Val loss 3.006\n",
      "Ep 7 (Step 007340): Train loss 2.644, Val loss 3.019\n",
      "Ep 7 (Step 007350): Train loss 2.597, Val loss 2.999\n",
      "Ep 7 (Step 007360): Train loss 2.635, Val loss 2.988\n",
      "Ep 7 (Step 007370): Train loss 2.562, Val loss 2.994\n",
      "Ep 7 (Step 007380): Train loss 2.515, Val loss 3.036\n",
      "Ep 7 (Step 007390): Train loss 2.567, Val loss 3.042\n",
      "Ep 7 (Step 007400): Train loss 2.529, Val loss 3.060\n",
      "Ep 7 (Step 007410): Train loss 2.704, Val loss 2.972\n",
      "Ep 7 (Step 007420): Train loss 2.425, Val loss 2.953\n",
      "Ep 7 (Step 007430): Train loss 2.646, Val loss 2.932\n",
      "Ep 7 (Step 007440): Train loss 2.479, Val loss 2.930\n",
      "Ep 7 (Step 007450): Train loss 2.530, Val loss 2.957\n",
      "Ep 7 (Step 007460): Train loss 2.700, Val loss 2.952\n",
      "Ep 7 (Step 007470): Train loss 2.559, Val loss 2.947\n",
      "Ep 7 (Step 007480): Train loss 2.753, Val loss 2.963\n",
      "Ep 7 (Step 007490): Train loss 2.713, Val loss 2.893\n",
      "Ep 7 (Step 007500): Train loss 2.518, Val loss 2.880\n",
      "Ep 7 (Step 007510): Train loss 2.516, Val loss 2.890\n",
      "Ep 7 (Step 007520): Train loss 2.654, Val loss 2.881\n",
      "Ep 7 (Step 007530): Train loss 2.578, Val loss 2.888\n",
      "Ep 7 (Step 007540): Train loss 2.601, Val loss 2.852\n",
      "Ep 7 (Step 007550): Train loss 2.637, Val loss 2.823\n",
      "Ep 7 (Step 007560): Train loss 2.589, Val loss 2.808\n",
      "Ep 7 (Step 007570): Train loss 2.507, Val loss 2.779\n",
      "Ep 7 (Step 007580): Train loss 2.644, Val loss 2.785\n",
      "Ep 7 (Step 007590): Train loss 2.433, Val loss 2.832\n",
      "Ep 7 (Step 007600): Train loss 2.607, Val loss 2.850\n",
      "Ep 7 (Step 007610): Train loss 2.428, Val loss 2.864\n",
      "Ep 7 (Step 007620): Train loss 2.619, Val loss 2.857\n",
      "Ep 7 (Step 007630): Train loss 2.607, Val loss 2.869\n",
      "Ep 7 (Step 007640): Train loss 2.678, Val loss 2.881\n",
      "Ep 7 (Step 007650): Train loss 2.599, Val loss 2.834\n",
      "Ep 7 (Step 007660): Train loss 2.675, Val loss 2.815\n",
      "Ep 7 (Step 007670): Train loss 2.412, Val loss 2.852\n",
      "Ep 7 (Step 007680): Train loss 2.723, Val loss 2.832\n",
      "Ep 7 (Step 007690): Train loss 2.606, Val loss 2.839\n",
      "Ep 7 (Step 007700): Train loss 2.412, Val loss 2.855\n",
      "Ep 7 (Step 007710): Train loss 2.473, Val loss 2.813\n",
      "Ep 7 (Step 007720): Train loss 2.554, Val loss 2.839\n",
      "Ep 7 (Step 007730): Train loss 2.496, Val loss 2.851\n",
      "Ep 7 (Step 007740): Train loss 2.776, Val loss 2.867\n",
      "Ep 7 (Step 007750): Train loss 2.672, Val loss 2.941\n",
      "Ep 7 (Step 007760): Train loss 2.664, Val loss 2.896\n",
      "Ep 7 (Step 007770): Train loss 2.829, Val loss 2.899\n",
      "Ep 7 (Step 007780): Train loss 2.521, Val loss 2.979\n",
      "Ep 7 (Step 007790): Train loss 2.658, Val loss 2.880\n",
      "Ep 7 (Step 007800): Train loss 2.440, Val loss 2.894\n",
      "Ep 7 (Step 007810): Train loss 2.563, Val loss 2.861\n",
      "Ep 7 (Step 007820): Train loss 2.611, Val loss 2.874\n",
      "Ep 7 (Step 007830): Train loss 2.448, Val loss 2.876\n",
      "Ep 7 (Step 007840): Train loss 2.662, Val loss 2.864\n",
      "Ep 7 (Step 007850): Train loss 2.580, Val loss 2.852\n",
      "Ep 7 (Step 007860): Train loss 2.470, Val loss 2.827\n",
      "Ep 7 (Step 007870): Train loss 2.546, Val loss 2.808\n",
      "Ep 7 (Step 007880): Train loss 2.690, Val loss 2.849\n",
      "Ep 7 (Step 007890): Train loss 2.453, Val loss 2.805\n",
      "Ep 7 (Step 007900): Train loss 2.512, Val loss 2.775\n",
      "Ep 7 (Step 007910): Train loss 2.666, Val loss 2.743\n",
      "Ep 7 (Step 007920): Train loss 2.464, Val loss 2.783\n",
      "Ep 7 (Step 007930): Train loss 2.364, Val loss 2.785\n",
      "Ep 7 (Step 007940): Train loss 2.634, Val loss 2.838\n",
      "Ep 7 (Step 007950): Train loss 2.518, Val loss 2.858\n",
      "Ep 7 (Step 007960): Train loss 2.774, Val loss 2.868\n",
      "Ep 7 (Step 007970): Train loss 2.599, Val loss 2.796\n",
      "Ep 7 (Step 007980): Train loss 2.592, Val loss 2.779\n",
      "Ep 7 (Step 007990): Train loss 2.377, Val loss 2.759\n",
      "Ep 7 (Step 008000): Train loss 2.576, Val loss 2.779\n",
      "Ep 7 (Step 008010): Train loss 2.598, Val loss 2.769\n",
      "Ep 7 (Step 008020): Train loss 2.388, Val loss 2.812\n",
      "The included lumbar and ifusion. The right coxofemoral joints are normal. The right coxofemoral is normal. The right coxofemoral joints are normal. The right coxofemoral joints are normal. The right cox\n",
      "Ep 8 (Step 008030): Train loss 2.362, Val loss 2.771\n",
      "Ep 8 (Step 008040): Train loss 2.402, Val loss 2.749\n",
      "Ep 8 (Step 008050): Train loss 2.609, Val loss 2.735\n",
      "Ep 8 (Step 008060): Train loss 2.507, Val loss 2.742\n",
      "Ep 8 (Step 008070): Train loss 2.634, Val loss 2.800\n",
      "Ep 8 (Step 008080): Train loss 2.644, Val loss 2.846\n",
      "Ep 8 (Step 008090): Train loss 2.581, Val loss 2.888\n",
      "Ep 8 (Step 008100): Train loss 2.487, Val loss 2.796\n",
      "Ep 8 (Step 008110): Train loss 2.321, Val loss 2.776\n",
      "Ep 8 (Step 008120): Train loss 2.497, Val loss 2.788\n",
      "Ep 8 (Step 008130): Train loss 2.358, Val loss 2.792\n",
      "Ep 8 (Step 008140): Train loss 2.598, Val loss 2.808\n",
      "Ep 8 (Step 008150): Train loss 2.844, Val loss 2.971\n",
      "Ep 8 (Step 008160): Train loss 2.680, Val loss 3.003\n",
      "Ep 8 (Step 008170): Train loss 2.668, Val loss 3.035\n",
      "Ep 8 (Step 008180): Train loss 2.688, Val loss 2.971\n",
      "Ep 8 (Step 008190): Train loss 2.660, Val loss 2.992\n",
      "Ep 8 (Step 008200): Train loss 2.730, Val loss 2.972\n",
      "Ep 8 (Step 008210): Train loss 2.677, Val loss 2.957\n",
      "Ep 8 (Step 008220): Train loss 2.718, Val loss 2.931\n",
      "Ep 8 (Step 008230): Train loss 2.745, Val loss 2.949\n",
      "Ep 8 (Step 008240): Train loss 2.563, Val loss 2.945\n",
      "Ep 8 (Step 008250): Train loss 2.496, Val loss 2.937\n",
      "Ep 8 (Step 008260): Train loss 2.674, Val loss 2.991\n",
      "Ep 8 (Step 008270): Train loss 2.961, Val loss 2.994\n",
      "Ep 8 (Step 008280): Train loss 2.679, Val loss 2.957\n",
      "Ep 8 (Step 008290): Train loss 2.633, Val loss 2.932\n",
      "Ep 8 (Step 008300): Train loss 2.731, Val loss 2.892\n",
      "Ep 8 (Step 008310): Train loss 2.477, Val loss 2.895\n",
      "Ep 8 (Step 008320): Train loss 2.460, Val loss 2.878\n",
      "Ep 8 (Step 008330): Train loss 2.444, Val loss 2.836\n",
      "Ep 8 (Step 008340): Train loss 2.563, Val loss 2.871\n",
      "Ep 8 (Step 008350): Train loss 2.609, Val loss 2.808\n",
      "Ep 8 (Step 008360): Train loss 2.515, Val loss 2.827\n",
      "Ep 8 (Step 008370): Train loss 2.593, Val loss 2.799\n",
      "Ep 8 (Step 008380): Train loss 2.846, Val loss 2.850\n",
      "Ep 8 (Step 008390): Train loss 2.676, Val loss 2.908\n",
      "Ep 8 (Step 008400): Train loss 2.543, Val loss 2.862\n",
      "Ep 8 (Step 008410): Train loss 2.688, Val loss 2.859\n",
      "Ep 8 (Step 008420): Train loss 2.694, Val loss 2.838\n",
      "Ep 8 (Step 008430): Train loss 2.368, Val loss 2.854\n",
      "Ep 8 (Step 008440): Train loss 2.305, Val loss 2.858\n",
      "Ep 8 (Step 008450): Train loss 2.429, Val loss 2.841\n",
      "Ep 8 (Step 008460): Train loss 2.483, Val loss 2.866\n",
      "Ep 8 (Step 008470): Train loss 2.594, Val loss 2.879\n",
      "Ep 8 (Step 008480): Train loss 2.650, Val loss 2.826\n",
      "Ep 8 (Step 008490): Train loss 2.680, Val loss 2.788\n",
      "Ep 8 (Step 008500): Train loss 2.536, Val loss 2.875\n",
      "Ep 8 (Step 008510): Train loss 2.647, Val loss 2.850\n",
      "Ep 8 (Step 008520): Train loss 2.709, Val loss 2.846\n",
      "Ep 8 (Step 008530): Train loss 2.608, Val loss 2.863\n",
      "Ep 8 (Step 008540): Train loss 2.537, Val loss 2.840\n",
      "Ep 8 (Step 008550): Train loss 2.511, Val loss 2.835\n",
      "Ep 8 (Step 008560): Train loss 2.569, Val loss 2.818\n",
      "Ep 8 (Step 008570): Train loss 2.473, Val loss 2.829\n",
      "Ep 8 (Step 008580): Train loss 2.444, Val loss 2.785\n",
      "Ep 8 (Step 008590): Train loss 2.364, Val loss 2.799\n",
      "Ep 8 (Step 008600): Train loss 2.592, Val loss 2.791\n",
      "Ep 8 (Step 008610): Train loss 2.397, Val loss 2.815\n",
      "Ep 8 (Step 008620): Train loss 2.451, Val loss 2.808\n",
      "Ep 8 (Step 008630): Train loss 2.400, Val loss 2.756\n",
      "Ep 8 (Step 008640): Train loss 2.673, Val loss 2.790\n",
      "Ep 8 (Step 008650): Train loss 2.463, Val loss 2.769\n",
      "Ep 8 (Step 008660): Train loss 2.460, Val loss 2.737\n",
      "Ep 8 (Step 008670): Train loss 2.393, Val loss 2.769\n",
      "Ep 8 (Step 008680): Train loss 2.304, Val loss 2.750\n",
      "Ep 8 (Step 008690): Train loss 2.346, Val loss 2.753\n",
      "Ep 8 (Step 008700): Train loss 2.516, Val loss 2.767\n",
      "Ep 8 (Step 008710): Train loss 2.402, Val loss 2.748\n",
      "Ep 8 (Step 008720): Train loss 2.269, Val loss 2.755\n",
      "Ep 8 (Step 008730): Train loss 2.459, Val loss 2.719\n",
      "Ep 8 (Step 008740): Train loss 2.351, Val loss 2.722\n",
      "Ep 8 (Step 008750): Train loss 2.403, Val loss 2.683\n",
      "Ep 8 (Step 008760): Train loss 2.361, Val loss 2.681\n",
      "Ep 8 (Step 008770): Train loss 2.271, Val loss 2.685\n",
      "Ep 8 (Step 008780): Train loss 2.345, Val loss 2.681\n",
      "Ep 8 (Step 008790): Train loss 2.202, Val loss 2.674\n",
      "Ep 8 (Step 008800): Train loss 2.450, Val loss 2.618\n",
      "Ep 8 (Step 008810): Train loss 2.268, Val loss 2.631\n",
      "Ep 8 (Step 008820): Train loss 2.257, Val loss 2.628\n",
      "Ep 8 (Step 008830): Train loss 2.386, Val loss 2.638\n",
      "Ep 8 (Step 008840): Train loss 2.312, Val loss 2.659\n",
      "Ep 8 (Step 008850): Train loss 2.340, Val loss 2.674\n",
      "Ep 8 (Step 008860): Train loss 2.301, Val loss 2.700\n",
      "Ep 8 (Step 008870): Train loss 2.443, Val loss 2.728\n",
      "Ep 8 (Step 008880): Train loss 2.351, Val loss 2.686\n",
      "Ep 8 (Step 008890): Train loss 2.392, Val loss 2.690\n",
      "Ep 8 (Step 008900): Train loss 2.437, Val loss 2.693\n",
      "Ep 8 (Step 008910): Train loss 2.524, Val loss 2.727\n",
      "Ep 8 (Step 008920): Train loss 2.385, Val loss 2.696\n",
      "Ep 8 (Step 008930): Train loss 2.452, Val loss 2.697\n",
      "Ep 8 (Step 008940): Train loss 2.350, Val loss 2.683\n",
      "Ep 8 (Step 008950): Train loss 2.506, Val loss 2.729\n",
      "Ep 8 (Step 008960): Train loss 2.327, Val loss 2.701\n",
      "Ep 8 (Step 008970): Train loss 2.390, Val loss 2.683\n",
      "Ep 8 (Step 008980): Train loss 2.496, Val loss 2.688\n",
      "Ep 8 (Step 008990): Train loss 2.416, Val loss 2.782\n",
      "Ep 8 (Step 009000): Train loss 2.340, Val loss 2.771\n",
      "Ep 8 (Step 009010): Train loss 2.504, Val loss 2.776\n",
      "Ep 8 (Step 009020): Train loss 2.462, Val loss 2.762\n",
      "Ep 8 (Step 009030): Train loss 2.440, Val loss 2.783\n",
      "Ep 8 (Step 009040): Train loss 2.504, Val loss 2.796\n",
      "Ep 8 (Step 009050): Train loss 2.487, Val loss 2.765\n",
      "Ep 8 (Step 009060): Train loss 2.418, Val loss 2.785\n",
      "Ep 8 (Step 009070): Train loss 2.417, Val loss 2.780\n",
      "Ep 8 (Step 009080): Train loss 2.530, Val loss 2.756\n",
      "Ep 8 (Step 009090): Train loss 2.663, Val loss 2.716\n",
      "Ep 8 (Step 009100): Train loss 2.220, Val loss 2.737\n",
      "Ep 8 (Step 009110): Train loss 2.188, Val loss 2.784\n",
      "Ep 8 (Step 009120): Train loss 2.408, Val loss 2.810\n",
      "Ep 8 (Step 009130): Train loss 2.572, Val loss 2.777\n",
      "Ep 8 (Step 009140): Train loss 2.319, Val loss 2.753\n",
      "Ep 8 (Step 009150): Train loss 2.418, Val loss 2.725\n",
      "Ep 8 (Step 009160): Train loss 2.374, Val loss 2.715\n",
      "Ep 8 (Step 009170): Train loss 2.264, Val loss 2.698\n",
      "The included lumbar and pel spine. The right stifle space is normal. The popliteal articular margins are normal. The popliteal lymph node and rounded and rounded and rounded and rounded and rounded. The long bones are normal. The tibial tuberosity\n",
      "Ep 9 (Step 009180): Train loss 2.211, Val loss 2.699\n",
      "Ep 9 (Step 009190): Train loss 2.497, Val loss 2.720\n",
      "Ep 9 (Step 009200): Train loss 2.490, Val loss 2.690\n",
      "Ep 9 (Step 009210): Train loss 2.596, Val loss 2.716\n",
      "Ep 9 (Step 009220): Train loss 2.341, Val loss 2.743\n",
      "Ep 9 (Step 009230): Train loss 2.437, Val loss 2.728\n",
      "Ep 9 (Step 009240): Train loss 2.388, Val loss 2.695\n",
      "Ep 9 (Step 009250): Train loss 2.028, Val loss 2.692\n",
      "Ep 9 (Step 009260): Train loss 2.396, Val loss 2.668\n",
      "Ep 9 (Step 009270): Train loss 2.287, Val loss 2.644\n",
      "Ep 9 (Step 009280): Train loss 2.370, Val loss 2.623\n",
      "Ep 9 (Step 009290): Train loss 2.477, Val loss 2.629\n",
      "Ep 9 (Step 009300): Train loss 2.247, Val loss 2.654\n",
      "Ep 9 (Step 009310): Train loss 2.609, Val loss 2.660\n",
      "Ep 9 (Step 009320): Train loss 2.423, Val loss 2.642\n",
      "Ep 9 (Step 009330): Train loss 2.176, Val loss 2.666\n",
      "Ep 9 (Step 009340): Train loss 2.338, Val loss 2.766\n",
      "Ep 9 (Step 009350): Train loss 2.434, Val loss 2.790\n",
      "Ep 9 (Step 009360): Train loss 2.534, Val loss 2.775\n",
      "Ep 9 (Step 009370): Train loss 2.732, Val loss 2.788\n",
      "Ep 9 (Step 009380): Train loss 2.479, Val loss 2.763\n",
      "Ep 9 (Step 009390): Train loss 2.393, Val loss 2.804\n",
      "Ep 9 (Step 009400): Train loss 2.353, Val loss 2.797\n",
      "Ep 9 (Step 009410): Train loss 2.177, Val loss 2.732\n",
      "Ep 9 (Step 009420): Train loss 2.379, Val loss 2.710\n",
      "Ep 9 (Step 009430): Train loss 2.374, Val loss 2.748\n",
      "Ep 9 (Step 009440): Train loss 2.447, Val loss 2.756\n",
      "Ep 9 (Step 009450): Train loss 2.410, Val loss 2.710\n",
      "Ep 9 (Step 009460): Train loss 2.480, Val loss 2.740\n",
      "Ep 9 (Step 009470): Train loss 2.421, Val loss 2.696\n",
      "Ep 9 (Step 009480): Train loss 2.393, Val loss 2.672\n",
      "Ep 9 (Step 009490): Train loss 2.204, Val loss 2.651\n",
      "Ep 9 (Step 009500): Train loss 2.216, Val loss 2.659\n",
      "Ep 9 (Step 009510): Train loss 2.324, Val loss 2.626\n",
      "Ep 9 (Step 009520): Train loss 2.425, Val loss 2.591\n",
      "Ep 9 (Step 009530): Train loss 2.437, Val loss 2.635\n",
      "Ep 9 (Step 009540): Train loss 2.488, Val loss 2.641\n",
      "Ep 9 (Step 009550): Train loss 2.169, Val loss 2.651\n",
      "Ep 9 (Step 009560): Train loss 2.456, Val loss 2.651\n",
      "Ep 9 (Step 009570): Train loss 2.260, Val loss 2.702\n",
      "Ep 9 (Step 009580): Train loss 2.342, Val loss 2.666\n",
      "Ep 9 (Step 009590): Train loss 2.557, Val loss 2.706\n",
      "Ep 9 (Step 009600): Train loss 2.482, Val loss 2.687\n",
      "Ep 9 (Step 009610): Train loss 2.494, Val loss 2.694\n",
      "Ep 9 (Step 009620): Train loss 2.182, Val loss 2.707\n",
      "Ep 9 (Step 009630): Train loss 2.378, Val loss 2.673\n",
      "Ep 9 (Step 009640): Train loss 2.369, Val loss 2.658\n",
      "Ep 9 (Step 009650): Train loss 2.475, Val loss 2.640\n",
      "Ep 9 (Step 009660): Train loss 2.460, Val loss 2.684\n",
      "Ep 9 (Step 009670): Train loss 2.454, Val loss 2.720\n",
      "Ep 9 (Step 009680): Train loss 2.414, Val loss 2.710\n",
      "Ep 9 (Step 009690): Train loss 2.489, Val loss 2.723\n",
      "Ep 9 (Step 009700): Train loss 2.350, Val loss 2.707\n",
      "Ep 9 (Step 009710): Train loss 2.438, Val loss 2.683\n",
      "Ep 9 (Step 009720): Train loss 2.533, Val loss 2.700\n",
      "Ep 9 (Step 009730): Train loss 2.248, Val loss 2.675\n",
      "Ep 9 (Step 009740): Train loss 2.417, Val loss 2.641\n",
      "Ep 9 (Step 009750): Train loss 2.283, Val loss 2.626\n",
      "Ep 9 (Step 009760): Train loss 2.321, Val loss 2.656\n",
      "Ep 9 (Step 009770): Train loss 2.345, Val loss 2.641\n",
      "Ep 9 (Step 009780): Train loss 2.463, Val loss 2.666\n",
      "Ep 9 (Step 009790): Train loss 2.393, Val loss 2.694\n",
      "Ep 9 (Step 009800): Train loss 2.213, Val loss 2.646\n",
      "Ep 9 (Step 009810): Train loss 2.307, Val loss 2.622\n",
      "Ep 9 (Step 009820): Train loss 2.478, Val loss 2.590\n",
      "Ep 9 (Step 009830): Train loss 2.179, Val loss 2.598\n",
      "Ep 9 (Step 009840): Train loss 2.233, Val loss 2.575\n",
      "Ep 9 (Step 009850): Train loss 2.302, Val loss 2.602\n",
      "Ep 9 (Step 009860): Train loss 2.244, Val loss 2.587\n",
      "Ep 9 (Step 009870): Train loss 2.070, Val loss 2.627\n",
      "Ep 9 (Step 009880): Train loss 2.304, Val loss 2.644\n",
      "Ep 9 (Step 009890): Train loss 2.188, Val loss 2.648\n",
      "Ep 9 (Step 009900): Train loss 2.545, Val loss 2.719\n",
      "Ep 9 (Step 009910): Train loss 2.173, Val loss 2.658\n",
      "Ep 9 (Step 009920): Train loss 2.374, Val loss 2.627\n",
      "Ep 9 (Step 009930): Train loss 2.409, Val loss 2.599\n",
      "Ep 9 (Step 009940): Train loss 2.482, Val loss 2.562\n",
      "Ep 9 (Step 009950): Train loss 2.308, Val loss 2.561\n",
      "Ep 9 (Step 009960): Train loss 2.426, Val loss 2.577\n",
      "Ep 9 (Step 009970): Train loss 2.454, Val loss 2.593\n",
      "Ep 9 (Step 009980): Train loss 2.297, Val loss 2.559\n",
      "Ep 9 (Step 009990): Train loss 2.308, Val loss 2.571\n",
      "Ep 9 (Step 010000): Train loss 2.322, Val loss 2.591\n",
      "Ep 9 (Step 010010): Train loss 2.418, Val loss 2.600\n",
      "Ep 9 (Step 010020): Train loss 2.097, Val loss 2.592\n",
      "Ep 9 (Step 010030): Train loss 2.376, Val loss 2.603\n",
      "Ep 9 (Step 010040): Train loss 2.388, Val loss 2.577\n",
      "Ep 9 (Step 010050): Train loss 2.217, Val loss 2.574\n",
      "Ep 9 (Step 010060): Train loss 2.123, Val loss 2.558\n",
      "Ep 9 (Step 010070): Train loss 2.288, Val loss 2.564\n",
      "Ep 9 (Step 010080): Train loss 2.331, Val loss 2.582\n",
      "Ep 9 (Step 010090): Train loss 2.379, Val loss 2.577\n",
      "Ep 9 (Step 010100): Train loss 2.181, Val loss 2.587\n",
      "Ep 9 (Step 010110): Train loss 2.513, Val loss 2.611\n",
      "Ep 9 (Step 010120): Train loss 2.392, Val loss 2.616\n",
      "Ep 9 (Step 010130): Train loss 2.337, Val loss 2.582\n",
      "Ep 9 (Step 010140): Train loss 2.428, Val loss 2.594\n",
      "Ep 9 (Step 010150): Train loss 2.299, Val loss 2.578\n",
      "Ep 9 (Step 010160): Train loss 2.347, Val loss 2.580\n",
      "Ep 9 (Step 010170): Train loss 2.300, Val loss 2.594\n",
      "Ep 9 (Step 010180): Train loss 2.234, Val loss 2.574\n",
      "Ep 9 (Step 010190): Train loss 2.242, Val loss 2.614\n",
      "Ep 9 (Step 010200): Train loss 2.177, Val loss 2.626\n",
      "Ep 9 (Step 010210): Train loss 2.347, Val loss 2.622\n",
      "Ep 9 (Step 010220): Train loss 2.326, Val loss 2.604\n",
      "Ep 9 (Step 010230): Train loss 2.326, Val loss 2.632\n",
      "Ep 9 (Step 010240): Train loss 2.471, Val loss 2.613\n",
      "Ep 9 (Step 010250): Train loss 2.389, Val loss 2.626\n",
      "Ep 9 (Step 010260): Train loss 2.356, Val loss 2.604\n",
      "Ep 9 (Step 010270): Train loss 2.271, Val loss 2.588\n",
      "Ep 9 (Step 010280): Train loss 2.385, Val loss 2.585\n",
      "Ep 9 (Step 010290): Train loss 2.263, Val loss 2.580\n",
      "Ep 9 (Step 010300): Train loss 2.132, Val loss 2.603\n",
      "Ep 9 (Step 010310): Train loss 2.393, Val loss 2.578\n",
      "Ep 9 (Step 010320): Train loss 2.241, Val loss 2.594\n",
      "The included lumbar and the spine. The remainder of the abdomen is normal. The included abdomen is normal. The included small intestine is normal in diameter. The colon contains a moderate volume of the colon contains a moderate volume of fecal material. The peritoneal serosal\n"
     ]
    }
   ],
   "source": [
    "torch.manual_seed(123)\n",
    "model = GPTModel(CONFIG)\n",
    "model.to(device)\n",
    "optimizer = torch.optim.AdamW(model.parameters(), lr=0.0004, weight_decay=0.1)"
   ]
  },
  {
   "cell_type": "code",
   "execution_count": 126,
   "id": "1810fcfc-920a-4126-aba7-2de68b05fd86",
   "metadata": {},
   "outputs": [
    {
     "ename": "RuntimeError",
     "evalue": "Expected all tensors to be on the same device, but found at least two devices, cpu and cuda:0! (when checking argument for argument index in method wrapper_CUDA__index_select)",
     "output_type": "error",
     "traceback": [
      "\u001b[0;31m---------------------------------------------------------------------------\u001b[0m",
      "\u001b[0;31mRuntimeError\u001b[0m                              Traceback (most recent call last)",
      "Cell \u001b[0;32mIn[126], line 2\u001b[0m\n\u001b[1;32m      1\u001b[0m num_epochs \u001b[38;5;241m=\u001b[39m \u001b[38;5;241m4\u001b[39m\n\u001b[0;32m----> 2\u001b[0m train_losses, val_losses, tokens_seen \u001b[38;5;241m=\u001b[39m \u001b[43mtrain_model_simple\u001b[49m\u001b[43m(\u001b[49m\n\u001b[1;32m      3\u001b[0m \u001b[43m    \u001b[49m\u001b[43mmodel\u001b[49m\u001b[43m,\u001b[49m\u001b[43m \u001b[49m\u001b[43mtrain_loader\u001b[49m\u001b[43m,\u001b[49m\u001b[43m \u001b[49m\u001b[43mval_loader\u001b[49m\u001b[43m,\u001b[49m\u001b[43m \u001b[49m\u001b[43moptimizer\u001b[49m\u001b[43m,\u001b[49m\u001b[43m \u001b[49m\u001b[43mdevice\u001b[49m\u001b[43m,\u001b[49m\n\u001b[1;32m      4\u001b[0m \u001b[43m    \u001b[49m\u001b[43mnum_epochs\u001b[49m\u001b[38;5;241;43m=\u001b[39;49m\u001b[43mnum_epochs\u001b[49m\u001b[43m,\u001b[49m\u001b[43m \u001b[49m\u001b[43meval_freq\u001b[49m\u001b[38;5;241;43m=\u001b[39;49m\u001b[38;5;241;43m10\u001b[39;49m\u001b[43m,\u001b[49m\u001b[43m \u001b[49m\u001b[43meval_iter\u001b[49m\u001b[38;5;241;43m=\u001b[39;49m\u001b[38;5;241;43m10\u001b[39;49m\u001b[43m,\u001b[49m\n\u001b[1;32m      5\u001b[0m \u001b[43m    \u001b[49m\u001b[43mstart_context\u001b[49m\u001b[38;5;241;43m=\u001b[39;49m\u001b[38;5;124;43m\"\u001b[39;49m\u001b[38;5;124;43mThe included lumbar and\u001b[39;49m\u001b[38;5;124;43m\"\u001b[39;49m\u001b[43m,\u001b[49m\u001b[43m \u001b[49m\u001b[43mtokenizer\u001b[49m\u001b[38;5;241;43m=\u001b[39;49m\u001b[43mtokenizer\u001b[49m\n\u001b[1;32m      6\u001b[0m \u001b[43m)\u001b[49m\n",
      "Cell \u001b[0;32mIn[108], line 13\u001b[0m, in \u001b[0;36mtrain_model_simple\u001b[0;34m(model, train_loader, val_loader, optimizer, device, num_epochs, eval_freq, eval_iter, start_context, tokenizer)\u001b[0m\n\u001b[1;32m     11\u001b[0m \u001b[38;5;28;01mfor\u001b[39;00m input_batch, target_batch \u001b[38;5;129;01min\u001b[39;00m train_loader:\n\u001b[1;32m     12\u001b[0m     optimizer\u001b[38;5;241m.\u001b[39mzero_grad() \u001b[38;5;66;03m# Reset loss gradients from previous batch iteration\u001b[39;00m\n\u001b[0;32m---> 13\u001b[0m     loss \u001b[38;5;241m=\u001b[39m \u001b[43mcalc_loss_batch\u001b[49m\u001b[43m(\u001b[49m\u001b[43minput_batch\u001b[49m\u001b[43m,\u001b[49m\u001b[43m \u001b[49m\u001b[43mtarget_batch\u001b[49m\u001b[43m,\u001b[49m\u001b[43m \u001b[49m\u001b[43mmodel\u001b[49m\u001b[43m,\u001b[49m\u001b[43m \u001b[49m\u001b[43mdevice\u001b[49m\u001b[43m)\u001b[49m\n\u001b[1;32m     14\u001b[0m     loss\u001b[38;5;241m.\u001b[39mbackward() \u001b[38;5;66;03m# Calculate loss gradients\u001b[39;00m\n\u001b[1;32m     15\u001b[0m     optimizer\u001b[38;5;241m.\u001b[39mstep() \u001b[38;5;66;03m# Update model weights using loss gradients\u001b[39;00m\n",
      "Cell \u001b[0;32mIn[106], line 3\u001b[0m, in \u001b[0;36mcalc_loss_batch\u001b[0;34m(input_batch, target_batch, model, device)\u001b[0m\n\u001b[1;32m      1\u001b[0m \u001b[38;5;28;01mdef\u001b[39;00m \u001b[38;5;21mcalc_loss_batch\u001b[39m(input_batch, target_batch, model, device):\n\u001b[1;32m      2\u001b[0m     input_batch, target_batch \u001b[38;5;241m=\u001b[39m input_batch\u001b[38;5;241m.\u001b[39mto(device), target_batch\u001b[38;5;241m.\u001b[39mto(device)\n\u001b[0;32m----> 3\u001b[0m     logits \u001b[38;5;241m=\u001b[39m \u001b[43mmodel\u001b[49m\u001b[43m(\u001b[49m\u001b[43minput_batch\u001b[49m\u001b[43m)\u001b[49m\n\u001b[1;32m      4\u001b[0m     loss \u001b[38;5;241m=\u001b[39m torch\u001b[38;5;241m.\u001b[39mnn\u001b[38;5;241m.\u001b[39mfunctional\u001b[38;5;241m.\u001b[39mcross_entropy(logits\u001b[38;5;241m.\u001b[39mflatten(\u001b[38;5;241m0\u001b[39m, \u001b[38;5;241m1\u001b[39m), target_batch\u001b[38;5;241m.\u001b[39mflatten())\n\u001b[1;32m      5\u001b[0m     \u001b[38;5;28;01mreturn\u001b[39;00m loss\n",
      "File \u001b[0;32m/opt/conda/lib/python3.10/site-packages/torch/nn/modules/module.py:1518\u001b[0m, in \u001b[0;36mModule._wrapped_call_impl\u001b[0;34m(self, *args, **kwargs)\u001b[0m\n\u001b[1;32m   1516\u001b[0m     \u001b[38;5;28;01mreturn\u001b[39;00m \u001b[38;5;28mself\u001b[39m\u001b[38;5;241m.\u001b[39m_compiled_call_impl(\u001b[38;5;241m*\u001b[39margs, \u001b[38;5;241m*\u001b[39m\u001b[38;5;241m*\u001b[39mkwargs)  \u001b[38;5;66;03m# type: ignore[misc]\u001b[39;00m\n\u001b[1;32m   1517\u001b[0m \u001b[38;5;28;01melse\u001b[39;00m:\n\u001b[0;32m-> 1518\u001b[0m     \u001b[38;5;28;01mreturn\u001b[39;00m \u001b[38;5;28;43mself\u001b[39;49m\u001b[38;5;241;43m.\u001b[39;49m\u001b[43m_call_impl\u001b[49m\u001b[43m(\u001b[49m\u001b[38;5;241;43m*\u001b[39;49m\u001b[43margs\u001b[49m\u001b[43m,\u001b[49m\u001b[43m \u001b[49m\u001b[38;5;241;43m*\u001b[39;49m\u001b[38;5;241;43m*\u001b[39;49m\u001b[43mkwargs\u001b[49m\u001b[43m)\u001b[49m\n",
      "File \u001b[0;32m/opt/conda/lib/python3.10/site-packages/torch/nn/modules/module.py:1527\u001b[0m, in \u001b[0;36mModule._call_impl\u001b[0;34m(self, *args, **kwargs)\u001b[0m\n\u001b[1;32m   1522\u001b[0m \u001b[38;5;66;03m# If we don't have any hooks, we want to skip the rest of the logic in\u001b[39;00m\n\u001b[1;32m   1523\u001b[0m \u001b[38;5;66;03m# this function, and just call forward.\u001b[39;00m\n\u001b[1;32m   1524\u001b[0m \u001b[38;5;28;01mif\u001b[39;00m \u001b[38;5;129;01mnot\u001b[39;00m (\u001b[38;5;28mself\u001b[39m\u001b[38;5;241m.\u001b[39m_backward_hooks \u001b[38;5;129;01mor\u001b[39;00m \u001b[38;5;28mself\u001b[39m\u001b[38;5;241m.\u001b[39m_backward_pre_hooks \u001b[38;5;129;01mor\u001b[39;00m \u001b[38;5;28mself\u001b[39m\u001b[38;5;241m.\u001b[39m_forward_hooks \u001b[38;5;129;01mor\u001b[39;00m \u001b[38;5;28mself\u001b[39m\u001b[38;5;241m.\u001b[39m_forward_pre_hooks\n\u001b[1;32m   1525\u001b[0m         \u001b[38;5;129;01mor\u001b[39;00m _global_backward_pre_hooks \u001b[38;5;129;01mor\u001b[39;00m _global_backward_hooks\n\u001b[1;32m   1526\u001b[0m         \u001b[38;5;129;01mor\u001b[39;00m _global_forward_hooks \u001b[38;5;129;01mor\u001b[39;00m _global_forward_pre_hooks):\n\u001b[0;32m-> 1527\u001b[0m     \u001b[38;5;28;01mreturn\u001b[39;00m \u001b[43mforward_call\u001b[49m\u001b[43m(\u001b[49m\u001b[38;5;241;43m*\u001b[39;49m\u001b[43margs\u001b[49m\u001b[43m,\u001b[49m\u001b[43m \u001b[49m\u001b[38;5;241;43m*\u001b[39;49m\u001b[38;5;241;43m*\u001b[39;49m\u001b[43mkwargs\u001b[49m\u001b[43m)\u001b[49m\n\u001b[1;32m   1529\u001b[0m \u001b[38;5;28;01mtry\u001b[39;00m:\n\u001b[1;32m   1530\u001b[0m     result \u001b[38;5;241m=\u001b[39m \u001b[38;5;28;01mNone\u001b[39;00m\n",
      "Cell \u001b[0;32mIn[20], line 16\u001b[0m, in \u001b[0;36mGPTModel.forward\u001b[0;34m(self, in_idx)\u001b[0m\n\u001b[1;32m     14\u001b[0m \u001b[38;5;28;01mdef\u001b[39;00m \u001b[38;5;21mforward\u001b[39m(\u001b[38;5;28mself\u001b[39m, in_idx):\n\u001b[1;32m     15\u001b[0m     batch_size, seq_len \u001b[38;5;241m=\u001b[39m in_idx\u001b[38;5;241m.\u001b[39mshape\n\u001b[0;32m---> 16\u001b[0m     tok_embeds \u001b[38;5;241m=\u001b[39m \u001b[38;5;28;43mself\u001b[39;49m\u001b[38;5;241;43m.\u001b[39;49m\u001b[43mtok_emb\u001b[49m\u001b[43m(\u001b[49m\u001b[43min_idx\u001b[49m\u001b[43m)\u001b[49m\n\u001b[1;32m     17\u001b[0m     pos_embeds \u001b[38;5;241m=\u001b[39m \u001b[38;5;28mself\u001b[39m\u001b[38;5;241m.\u001b[39mpos_emb(torch\u001b[38;5;241m.\u001b[39marange(seq_len, device\u001b[38;5;241m=\u001b[39min_idx\u001b[38;5;241m.\u001b[39mdevice))\n\u001b[1;32m     18\u001b[0m     x \u001b[38;5;241m=\u001b[39m tok_embeds \u001b[38;5;241m+\u001b[39m pos_embeds  \u001b[38;5;66;03m# Shape [batch_size, num_tokens, emb_size]\u001b[39;00m\n",
      "File \u001b[0;32m/opt/conda/lib/python3.10/site-packages/torch/nn/modules/module.py:1518\u001b[0m, in \u001b[0;36mModule._wrapped_call_impl\u001b[0;34m(self, *args, **kwargs)\u001b[0m\n\u001b[1;32m   1516\u001b[0m     \u001b[38;5;28;01mreturn\u001b[39;00m \u001b[38;5;28mself\u001b[39m\u001b[38;5;241m.\u001b[39m_compiled_call_impl(\u001b[38;5;241m*\u001b[39margs, \u001b[38;5;241m*\u001b[39m\u001b[38;5;241m*\u001b[39mkwargs)  \u001b[38;5;66;03m# type: ignore[misc]\u001b[39;00m\n\u001b[1;32m   1517\u001b[0m \u001b[38;5;28;01melse\u001b[39;00m:\n\u001b[0;32m-> 1518\u001b[0m     \u001b[38;5;28;01mreturn\u001b[39;00m \u001b[38;5;28;43mself\u001b[39;49m\u001b[38;5;241;43m.\u001b[39;49m\u001b[43m_call_impl\u001b[49m\u001b[43m(\u001b[49m\u001b[38;5;241;43m*\u001b[39;49m\u001b[43margs\u001b[49m\u001b[43m,\u001b[49m\u001b[43m \u001b[49m\u001b[38;5;241;43m*\u001b[39;49m\u001b[38;5;241;43m*\u001b[39;49m\u001b[43mkwargs\u001b[49m\u001b[43m)\u001b[49m\n",
      "File \u001b[0;32m/opt/conda/lib/python3.10/site-packages/torch/nn/modules/module.py:1527\u001b[0m, in \u001b[0;36mModule._call_impl\u001b[0;34m(self, *args, **kwargs)\u001b[0m\n\u001b[1;32m   1522\u001b[0m \u001b[38;5;66;03m# If we don't have any hooks, we want to skip the rest of the logic in\u001b[39;00m\n\u001b[1;32m   1523\u001b[0m \u001b[38;5;66;03m# this function, and just call forward.\u001b[39;00m\n\u001b[1;32m   1524\u001b[0m \u001b[38;5;28;01mif\u001b[39;00m \u001b[38;5;129;01mnot\u001b[39;00m (\u001b[38;5;28mself\u001b[39m\u001b[38;5;241m.\u001b[39m_backward_hooks \u001b[38;5;129;01mor\u001b[39;00m \u001b[38;5;28mself\u001b[39m\u001b[38;5;241m.\u001b[39m_backward_pre_hooks \u001b[38;5;129;01mor\u001b[39;00m \u001b[38;5;28mself\u001b[39m\u001b[38;5;241m.\u001b[39m_forward_hooks \u001b[38;5;129;01mor\u001b[39;00m \u001b[38;5;28mself\u001b[39m\u001b[38;5;241m.\u001b[39m_forward_pre_hooks\n\u001b[1;32m   1525\u001b[0m         \u001b[38;5;129;01mor\u001b[39;00m _global_backward_pre_hooks \u001b[38;5;129;01mor\u001b[39;00m _global_backward_hooks\n\u001b[1;32m   1526\u001b[0m         \u001b[38;5;129;01mor\u001b[39;00m _global_forward_hooks \u001b[38;5;129;01mor\u001b[39;00m _global_forward_pre_hooks):\n\u001b[0;32m-> 1527\u001b[0m     \u001b[38;5;28;01mreturn\u001b[39;00m \u001b[43mforward_call\u001b[49m\u001b[43m(\u001b[49m\u001b[38;5;241;43m*\u001b[39;49m\u001b[43margs\u001b[49m\u001b[43m,\u001b[49m\u001b[43m \u001b[49m\u001b[38;5;241;43m*\u001b[39;49m\u001b[38;5;241;43m*\u001b[39;49m\u001b[43mkwargs\u001b[49m\u001b[43m)\u001b[49m\n\u001b[1;32m   1529\u001b[0m \u001b[38;5;28;01mtry\u001b[39;00m:\n\u001b[1;32m   1530\u001b[0m     result \u001b[38;5;241m=\u001b[39m \u001b[38;5;28;01mNone\u001b[39;00m\n",
      "File \u001b[0;32m/opt/conda/lib/python3.10/site-packages/torch/nn/modules/sparse.py:162\u001b[0m, in \u001b[0;36mEmbedding.forward\u001b[0;34m(self, input)\u001b[0m\n\u001b[1;32m    161\u001b[0m \u001b[38;5;28;01mdef\u001b[39;00m \u001b[38;5;21mforward\u001b[39m(\u001b[38;5;28mself\u001b[39m, \u001b[38;5;28minput\u001b[39m: Tensor) \u001b[38;5;241m-\u001b[39m\u001b[38;5;241m>\u001b[39m Tensor:\n\u001b[0;32m--> 162\u001b[0m     \u001b[38;5;28;01mreturn\u001b[39;00m \u001b[43mF\u001b[49m\u001b[38;5;241;43m.\u001b[39;49m\u001b[43membedding\u001b[49m\u001b[43m(\u001b[49m\n\u001b[1;32m    163\u001b[0m \u001b[43m        \u001b[49m\u001b[38;5;28;43minput\u001b[39;49m\u001b[43m,\u001b[49m\u001b[43m \u001b[49m\u001b[38;5;28;43mself\u001b[39;49m\u001b[38;5;241;43m.\u001b[39;49m\u001b[43mweight\u001b[49m\u001b[43m,\u001b[49m\u001b[43m \u001b[49m\u001b[38;5;28;43mself\u001b[39;49m\u001b[38;5;241;43m.\u001b[39;49m\u001b[43mpadding_idx\u001b[49m\u001b[43m,\u001b[49m\u001b[43m \u001b[49m\u001b[38;5;28;43mself\u001b[39;49m\u001b[38;5;241;43m.\u001b[39;49m\u001b[43mmax_norm\u001b[49m\u001b[43m,\u001b[49m\n\u001b[1;32m    164\u001b[0m \u001b[43m        \u001b[49m\u001b[38;5;28;43mself\u001b[39;49m\u001b[38;5;241;43m.\u001b[39;49m\u001b[43mnorm_type\u001b[49m\u001b[43m,\u001b[49m\u001b[43m \u001b[49m\u001b[38;5;28;43mself\u001b[39;49m\u001b[38;5;241;43m.\u001b[39;49m\u001b[43mscale_grad_by_freq\u001b[49m\u001b[43m,\u001b[49m\u001b[43m \u001b[49m\u001b[38;5;28;43mself\u001b[39;49m\u001b[38;5;241;43m.\u001b[39;49m\u001b[43msparse\u001b[49m\u001b[43m)\u001b[49m\n",
      "File \u001b[0;32m/opt/conda/lib/python3.10/site-packages/torch/nn/functional.py:2233\u001b[0m, in \u001b[0;36membedding\u001b[0;34m(input, weight, padding_idx, max_norm, norm_type, scale_grad_by_freq, sparse)\u001b[0m\n\u001b[1;32m   2227\u001b[0m     \u001b[38;5;66;03m# Note [embedding_renorm set_grad_enabled]\u001b[39;00m\n\u001b[1;32m   2228\u001b[0m     \u001b[38;5;66;03m# XXX: equivalent to\u001b[39;00m\n\u001b[1;32m   2229\u001b[0m     \u001b[38;5;66;03m# with torch.no_grad():\u001b[39;00m\n\u001b[1;32m   2230\u001b[0m     \u001b[38;5;66;03m#   torch.embedding_renorm_\u001b[39;00m\n\u001b[1;32m   2231\u001b[0m     \u001b[38;5;66;03m# remove once script supports set_grad_enabled\u001b[39;00m\n\u001b[1;32m   2232\u001b[0m     _no_grad_embedding_renorm_(weight, \u001b[38;5;28minput\u001b[39m, max_norm, norm_type)\n\u001b[0;32m-> 2233\u001b[0m \u001b[38;5;28;01mreturn\u001b[39;00m \u001b[43mtorch\u001b[49m\u001b[38;5;241;43m.\u001b[39;49m\u001b[43membedding\u001b[49m\u001b[43m(\u001b[49m\u001b[43mweight\u001b[49m\u001b[43m,\u001b[49m\u001b[43m \u001b[49m\u001b[38;5;28;43minput\u001b[39;49m\u001b[43m,\u001b[49m\u001b[43m \u001b[49m\u001b[43mpadding_idx\u001b[49m\u001b[43m,\u001b[49m\u001b[43m \u001b[49m\u001b[43mscale_grad_by_freq\u001b[49m\u001b[43m,\u001b[49m\u001b[43m \u001b[49m\u001b[43msparse\u001b[49m\u001b[43m)\u001b[49m\n",
      "\u001b[0;31mRuntimeError\u001b[0m: Expected all tensors to be on the same device, but found at least two devices, cpu and cuda:0! (when checking argument for argument index in method wrapper_CUDA__index_select)"
     ]
    }
   ],
   "source": [
    "num_epochs = 4\n",
    "train_losses, val_losses, tokens_seen = train_model_simple(\n",
    "    model, train_loader, val_loader, optimizer, device,\n",
    "    num_epochs=num_epochs, eval_freq=10, eval_iter=10,\n",
    "    start_context=\"The included lumbar and\", tokenizer=tokenizer\n",
    ")"
   ]
  },
  {
   "cell_type": "code",
   "execution_count": 111,
   "id": "58abed9c-21fc-4da4-a958-74f17b3d8793",
   "metadata": {},
   "outputs": [
    {
     "data": {
      "image/png": "[encoded data removed]",
      "text/plain": [
       "<Figure size 500x300 with 2 Axes>"
      ]
     },
     "metadata": {},
     "output_type": "display_data"
    }
   ],
   "source": [
    "import matplotlib.pyplot as plt\n",
    "from matplotlib.ticker import MaxNLocator\n",
    "\n",
    "\n",
    "def plot_losses(epochs_seen, tokens_seen, train_losses, val_losses):\n",
    "    fig, ax1 = plt.subplots(figsize=(5, 3))\n",
    "\n",
    "    # Plot training and validation loss against epochs\n",
    "    ax1.plot(epochs_seen, train_losses, label=\"Training loss\")\n",
    "    ax1.plot(epochs_seen, val_losses, linestyle=\"-.\", label=\"Validation loss\")\n",
    "    ax1.set_xlabel(\"Epochs\")\n",
    "    ax1.set_ylabel(\"Loss\")\n",
    "    ax1.legend(loc=\"upper right\")\n",
    "    ax1.xaxis.set_major_locator(MaxNLocator(integer=True))  # only show integer labels on x-axis\n",
    "\n",
    "    # Create a second x-axis for tokens seen\n",
    "    ax2 = ax1.twiny()  # Create a second x-axis that shares the same y-axis\n",
    "    ax2.plot(tokens_seen, train_losses, alpha=0)  # Invisible plot for aligning ticks\n",
    "    ax2.set_xlabel(\"Tokens seen\")\n",
    "\n",
    "    fig.tight_layout()  # Adjust layout to make room\n",
    "    plt.savefig(\"loss-plot.pdf\")\n",
    "    plt.show()\n",
    "\n",
    "epochs_tensor = torch.linspace(0, num_epochs, len(train_losses))\n",
    "plot_losses(epochs_tensor, tokens_seen, train_losses, val_losses)"
   ]
  },
  {
   "cell_type": "markdown",
   "id": "53fc53b6-d9d9-41b1-aed7-f021f61dccf4",
   "metadata": {},
   "source": [
    "# Controlling randomness in the text generation"
   ]
  },
  {
   "cell_type": "code",
   "execution_count": 112,
   "id": "5ceab935-0231-4870-8f05-57d99b64562e",
   "metadata": {},
   "outputs": [
    {
     "name": "stdout",
     "output_type": "stream",
     "text": [
      "Output text:\n",
      " The included lumbar and lumbar spine. The remainder of the osseous structures are normal. Conclusions and recommendations: The appearance of the\n"
     ]
    }
   ],
   "source": [
    "model.to(\"cpu\")\n",
    "model.eval()\n",
    "\n",
    "tokenizer = tiktoken.get_encoding(\"gpt2\")\n",
    "\n",
    "token_ids = generate_text_simple(\n",
    "    model=model,\n",
    "    idx=text_to_token_ids(\"The included lumbar and\", tokenizer),\n",
    "    max_new_tokens=25,\n",
    "    context_size=CONFIG[\"context_length\"]\n",
    ")\n",
    "\n",
    "print(\"Output text:\\n\", token_ids_to_text(token_ids, tokenizer))"
   ]
  },
  {
   "cell_type": "markdown",
   "id": "3e5043d3-cba3-4f16-bbab-106da11c4024",
   "metadata": {},
   "source": [
    "- Even if we execute the `generate_text_simple` function above multiple times, the LLM will always generate the same outputs\n",
    "- We now introduce two concepts, so-called decoding strategies, to modify the `generate_text_simple`: *temperature scaling* and *top-k* sampling\n",
    "- These will allow the model to control the randomness and diversity of the generated text"
   ]
  },
  {
   "cell_type": "markdown",
   "id": "b2e4e833-79f5-4eb8-a5e9-d6d2e2a4c863",
   "metadata": {},
   "source": [
    "## Temperature scaling"
   ]
  },
  {
   "cell_type": "markdown",
   "id": "f60efaba-b972-4113-8cef-f6d335fdb977",
   "metadata": {},
   "source": [
    "- Previously, we always sampled the token with the highest probability as the next token using `torch.argmax`\n",
    "- To add variety, we can sample the next token using The `torch.multinomial(probs, num_samples=1)`, sampling from a probability distribution\n",
    "- Here, each index's chance of being picked corresponds to its probability in the input tensor"
   ]
  },
  {
   "cell_type": "markdown",
   "id": "4a4374da-38b5-4e60-9dcc-e7d3587f7527",
   "metadata": {},
   "source": [
    "- Here's a little recap of generating the next token, assuming a very small vocabulary for illustration purposes:"
   ]
  },
  {
   "cell_type": "code",
   "execution_count": 113,
   "id": "3043c278-6240-4b7a-99a8-9617ebb51e66",
   "metadata": {},
   "outputs": [
    {
     "name": "stdout",
     "output_type": "stream",
     "text": [
      "forward\n"
     ]
    }
   ],
   "source": [
    "vocab = { \n",
    "    \"closer\": 0,\n",
    "    \"every\": 1, \n",
    "    \"effort\": 2, \n",
    "    \"forward\": 3,\n",
    "    \"inches\": 4,\n",
    "    \"moves\": 5, \n",
    "    \"pizza\": 6,\n",
    "    \"toward\": 7,\n",
    "    \"you\": 8,\n",
    "} \n",
    "\n",
    "inverse_vocab = {v: k for k, v in vocab.items()}\n",
    "\n",
    "# Suppose input is \"every effort moves you\", and the LLM\n",
    "# returns the following logits for the next token:\n",
    "next_token_logits = torch.tensor(\n",
    "    [4.51, 0.89, -1.90, 6.75, 1.63, -1.62, -1.89, 6.28, 1.79]\n",
    ")\n",
    "\n",
    "probas = torch.softmax(next_token_logits, dim=0)\n",
    "next_token_id = torch.argmax(probas).item()\n",
    "\n",
    "# The next generated token is then as follows:\n",
    "print(inverse_vocab[next_token_id])"
   ]
  },
  {
   "cell_type": "code",
   "execution_count": 114,
   "id": "a786d62d-cffa-4d3f-8612-0639133de230",
   "metadata": {},
   "outputs": [
    {
     "name": "stdout",
     "output_type": "stream",
     "text": [
      "toward\n"
     ]
    }
   ],
   "source": [
    "torch.manual_seed(123)\n",
    "next_token_id = torch.multinomial(probas, num_samples=1).item()\n",
    "print(inverse_vocab[next_token_id])"
   ]
  },
  {
   "cell_type": "code",
   "execution_count": 115,
   "id": "64bc8c8d-7a20-4ee0-a291-3bf262131b6d",
   "metadata": {},
   "outputs": [
    {
     "name": "stdout",
     "output_type": "stream",
     "text": [
      "71 x closer\n",
      "2 x every\n",
      "0 x effort\n",
      "544 x forward\n",
      "2 x inches\n",
      "1 x moves\n",
      "0 x pizza\n",
      "376 x toward\n",
      "4 x you\n"
     ]
    }
   ],
   "source": [
    "def print_sampled_tokens(probas):\n",
    "    torch.manual_seed(123) # Manual seed for reproducibility\n",
    "    sample = [torch.multinomial(probas, num_samples=1).item() for i in range(1_000)]\n",
    "    sampled_ids = torch.bincount(torch.tensor(sample))\n",
    "    for i, freq in enumerate(sampled_ids):\n",
    "        print(f\"{freq} x {inverse_vocab[i]}\")\n",
    "\n",
    "print_sampled_tokens(probas)"
   ]
  },
  {
   "cell_type": "markdown",
   "id": "c43f173f-122f-4e2b-b136-bd1595a818eb",
   "metadata": {},
   "source": [
    "- We can control the distribution and selection process via a concept called temperature scaling\n",
    "- \"Temperature scaling\" is just a fancy word for dividing the logits by a number greater than 0\n",
    "- Temperatures greater than 1 will result in more uniformly distributed token probabilities after applying the softmax\n",
    "- Temperatures smaller than 1 will result in more confident (sharper or more peaky) distributions after applying the softmax"
   ]
  },
  {
   "cell_type": "code",
   "execution_count": 116,
   "id": "540a62b1-64f9-43c8-b6b7-11c5fc8d4046",
   "metadata": {},
   "outputs": [],
   "source": [
    "def softmax_with_temperature(logits, temperature):\n",
    "    scaled_logits = logits / temperature\n",
    "    return torch.softmax(scaled_logits, dim=0)\n",
    "\n",
    "# Temperature values\n",
    "temperatures = [1, 0.1, 5]  # Original, higher confidence, and lower confidence\n",
    "\n",
    "# Calculate scaled probabilities\n",
    "scaled_probas = [softmax_with_temperature(next_token_logits, T) for T in temperatures]"
   ]
  },
  {
   "cell_type": "code",
   "execution_count": 117,
   "id": "33dbfccd-ff42-437f-8699-7e341878c587",
   "metadata": {},
   "outputs": [
    {
     "data": {
      "image/png": "[encoded data removed]",
      "text/plain": [
       "<Figure size 500x300 with 1 Axes>"
      ]
     },
     "metadata": {},
     "output_type": "display_data"
    }
   ],
   "source": [
    "# Plotting\n",
    "x = torch.arange(len(vocab))\n",
    "bar_width = 0.15\n",
    "\n",
    "fig, ax = plt.subplots(figsize=(5, 3))\n",
    "for i, T in enumerate(temperatures):\n",
    "    rects = ax.bar(x + i * bar_width, scaled_probas[i], bar_width, label=f'Temperature = {T}')\n",
    "\n",
    "ax.set_ylabel('Probability')\n",
    "ax.set_xticks(x)\n",
    "ax.set_xticklabels(vocab.keys(), rotation=90)\n",
    "ax.legend()\n",
    "\n",
    "plt.tight_layout()\n",
    "plt.savefig(\"temperature-plot.pdf\")\n",
    "plt.show()"
   ]
  },
  {
   "cell_type": "code",
   "execution_count": 118,
   "id": "c9be97fb-8db1-4e6c-b43f-53854888062b",
   "metadata": {},
   "outputs": [
    {
     "name": "stdout",
     "output_type": "stream",
     "text": [
      "0 x closer\n",
      "0 x every\n",
      "0 x effort\n",
      "992 x forward\n",
      "0 x inches\n",
      "0 x moves\n",
      "0 x pizza\n",
      "8 x toward\n"
     ]
    }
   ],
   "source": [
    "print_sampled_tokens(scaled_probas[1])"
   ]
  },
  {
   "cell_type": "markdown",
   "id": "7bcc4a61-8f82-44d5-a3d6-013d97f6e64c",
   "metadata": {},
   "source": [
    "The rescaled probabilities via temperature 5 are more uniformly distributed"
   ]
  },
  {
   "cell_type": "code",
   "execution_count": 119,
   "id": "b17fea1a-c9ae-4f24-9397-ccbd77fee9a7",
   "metadata": {},
   "outputs": [
    {
     "name": "stdout",
     "output_type": "stream",
     "text": [
      "153 x closer\n",
      "68 x every\n",
      "55 x effort\n",
      "223 x forward\n",
      "102 x inches\n",
      "50 x moves\n",
      "43 x pizza\n",
      "218 x toward\n",
      "88 x you\n"
     ]
    }
   ],
   "source": [
    "print_sampled_tokens(scaled_probas[2])"
   ]
  },
  {
   "cell_type": "markdown",
   "id": "27d3c9fd-866a-41fc-aa16-875b1bec695a",
   "metadata": {},
   "source": [
    "## Top k sampling\n",
    "\n",
    "To be able to use higher temperatures to increase output diversity and to reduce the probability of nonsensical sentences, we can restrict the sampled tokens to the top-k most likely tokens"
   ]
  },
  {
   "cell_type": "code",
   "execution_count": 120,
   "id": "335251bc-3926-4207-91d6-68e43e09bee0",
   "metadata": {},
   "outputs": [
    {
     "name": "stdout",
     "output_type": "stream",
     "text": [
      "Top logits: tensor([6.7500, 6.2800, 4.5100])\n",
      "Top positions: tensor([3, 7, 0])\n"
     ]
    }
   ],
   "source": [
    "top_k = 3\n",
    "top_logits, top_pos = torch.topk(next_token_logits, top_k)\n",
    "\n",
    "print(\"Top logits:\", top_logits)\n",
    "print(\"Top positions:\", top_pos)"
   ]
  },
  {
   "cell_type": "code",
   "execution_count": 121,
   "id": "c90fa381-2360-49ed-92d2-146eb6eb578a",
   "metadata": {},
   "outputs": [
    {
     "name": "stdout",
     "output_type": "stream",
     "text": [
      "tensor([4.5100,   -inf,   -inf, 6.7500,   -inf,   -inf,   -inf, 6.2800,   -inf])\n"
     ]
    }
   ],
   "source": [
    "new_logits = torch.where(\n",
    "    condition=next_token_logits < top_logits[-1],\n",
    "    input=torch.tensor(float('-inf')), \n",
    "    other=next_token_logits\n",
    ")\n",
    "\n",
    "print(new_logits)"
   ]
  },
  {
   "cell_type": "code",
   "execution_count": 122,
   "id": "48f648c9-edac-4e80-af11-2e39fdc4a34e",
   "metadata": {},
   "outputs": [
    {
     "name": "stdout",
     "output_type": "stream",
     "text": [
      "tensor([0.0615, 0.0000, 0.0000, 0.5775, 0.0000, 0.0000, 0.0000, 0.3610, 0.0000])\n"
     ]
    }
   ],
   "source": [
    "topk_probas = torch.softmax(new_logits, dim=0)\n",
    "print(topk_probas)"
   ]
  },
  {
   "cell_type": "markdown",
   "id": "4a9720a9-e163-40b8-8240-c168770d9683",
   "metadata": {},
   "source": [
    "## Modifying the text generation function\n",
    "\n",
    "- The previous two subsections introduced temperature sampling and top-k sampling\n",
    "- Let's use these two concepts to modify the `generate_simple` function we used to generate text via the LLM earlier, creating a new `generate` function:"
   ]
  },
  {
   "cell_type": "code",
   "execution_count": 123,
   "id": "6f587008-1bb7-46c3-9435-1042e595d8f8",
   "metadata": {},
   "outputs": [],
   "source": [
    "def generate(model, idx, max_new_tokens, context_size, temperature=0.0, top_k=None, eos_id=None):\n",
    "\n",
    "    # For-loop is the same as before: Get logits, and only focus on last time step\n",
    "    for _ in range(max_new_tokens):\n",
    "        idx_cond = idx[:, -context_size:]\n",
    "        with torch.no_grad():\n",
    "            logits = model(idx_cond)\n",
    "        logits = logits[:, -1, :]\n",
    "\n",
    "        # New: Filter logits with top_k sampling\n",
    "        if top_k is not None:\n",
    "            # Keep only top_k values\n",
    "            top_logits, _ = torch.topk(logits, top_k)\n",
    "            min_val = top_logits[:, -1]\n",
    "            logits = torch.where(logits < min_val, torch.tensor(float('-inf')).to(logits.device), logits)\n",
    "\n",
    "        # New: Apply temperature scaling\n",
    "        if temperature > 0.0:\n",
    "            logits = logits / temperature\n",
    "\n",
    "            # Apply softmax to get probabilities\n",
    "            probs = torch.softmax(logits, dim=-1)  # (batch_size, context_len)\n",
    "\n",
    "            # Sample from the distribution\n",
    "            idx_next = torch.multinomial(probs, num_samples=1)  # (batch_size, 1)\n",
    "\n",
    "        # Otherwise same as before: get idx of the vocab entry with the highest logits value\n",
    "        else:\n",
    "            idx_next = torch.argmax(logits, dim=-1, keepdim=True)  # (batch_size, 1)\n",
    "\n",
    "        if idx_next == eos_id:  # Stop generating early if end-of-sequence token is encountered and eos_id is specified\n",
    "            break\n",
    "\n",
    "        # Same as before: append sampled index to the running sequence\n",
    "        idx = torch.cat((idx, idx_next), dim=1)  # (batch_size, num_tokens+1)\n",
    "\n",
    "    return idx"
   ]
  },
  {
   "cell_type": "code",
   "execution_count": 124,
   "id": "9c3250ce-b65a-4b58-a6d6-2d93fc906473",
   "metadata": {},
   "outputs": [
    {
     "name": "stdout",
     "output_type": "stream",
     "text": [
      "Output text:\n",
      " The included lumbar and thoracic spine for evaluation would be considered. Left lateral thoracic\n"
     ]
    }
   ],
   "source": [
    "torch.manual_seed(123)\n",
    "\n",
    "token_ids = generate(\n",
    "    model=model,\n",
    "    idx=text_to_token_ids(\"The included lumbar and\", tokenizer),\n",
    "    max_new_tokens=15,\n",
    "    context_size=CONFIG[\"context_length\"],\n",
    "    top_k=25,\n",
    "    temperature=1.4\n",
    ")\n",
    "\n",
    "print(\"Output text:\\n\", token_ids_to_text(token_ids, tokenizer))"
   ]
  },
  {
   "cell_type": "markdown",
   "id": "342ea726-bd1c-4f51-9960-5d5ea0d24211",
   "metadata": {},
   "source": [
    "## Loading and saving model weights in PyTorch\n",
    "\n",
    "The recommended way in PyTorch is to save the model weights, the so-called `state_dict` via by applying the `torch.save` function to the `.state_dict()` method"
   ]
  },
  {
   "cell_type": "code",
   "execution_count": 125,
   "id": "fdb8f544-65b8-4586-af18-85e5d98bccf8",
   "metadata": {},
   "outputs": [],
   "source": [
    "torch.save(model.state_dict(), f\"../../models/model_{MODEL_SIZE}.pth\")"
   ]
  },
  {
   "cell_type": "code",
   "execution_count": null,
   "id": "42211c64-eb7e-4daf-86b3-f3a596a9cb20",
   "metadata": {},
   "outputs": [],
   "source": [
    "model = GPTModel(CONFIG)\n",
    "device = torch.device(\"cuda\" if torch.cuda.is_available() else \"cpu\")\n",
    "model.load_state_dict(torch.load(f\"../../models/model_{MODEL_SIZE}.pth\", map_location=device, weights_only=True))\n",
    "model.eval();"
   ]
  },
  {
   "cell_type": "markdown",
   "id": "f1dd4623-325c-4479-91df-5430847500ba",
   "metadata": {},
   "source": [
    "- It's common to train LLMs with adaptive optimizers like Adam or AdamW instead of regular SGD\n",
    "- These adaptive optimizers store additional parameters for each model weight, so it makes sense to save them as well in case we plan to continue the pretraining later"
   ]
  },
  {
   "cell_type": "code",
   "execution_count": null,
   "id": "25c608bf-fe1c-45a2-8e92-c22d41921ef4",
   "metadata": {},
   "outputs": [],
   "source": [
    "torch.save({\n",
    "    \"model_state_dict\": model.state_dict(),\n",
    "    \"optimizer_state_dict\": optimizer.state_dict(),\n",
    "    }, \n",
    "    \"../models/model_and_optimizer.pth\"\n",
    ")"
   ]
  },
  {
   "cell_type": "code",
   "execution_count": null,
   "id": "5fe0dfd7-6a24-4ba2-9a15-c6e606b64f69",
   "metadata": {},
   "outputs": [],
   "source": [
    "checkpoint = torch.load(\"../models/model_and_optimizer.pth\", weights_only=True)\n",
    "\n",
    "model = GPTModel(CONFIG)\n",
    "model.load_state_dict(checkpoint[\"model_state_dict\"])\n",
    "\n",
    "optimizer = torch.optim.AdamW(model.parameters(), lr=0.0005, weight_decay=0.1)\n",
    "optimizer.load_state_dict(checkpoint[\"optimizer_state_dict\"])\n",
    "model.train();"
   ]
  }
 ],
 "metadata": {
  "kernelspec": {
   "display_name": "Python 3 (ipykernel)",
   "language": "python",
   "name": "python3"
  },
  "language_info": {
   "codemirror_mode": {
    "name": "ipython",
    "version": 3
   },
   "file_extension": ".py",
   "mimetype": "text/x-python",
   "name": "python",
   "nbconvert_exporter": "python",
   "pygments_lexer": "ipython3",
   "version": "3.10.10"
  }
 },
 "nbformat": 4,
 "nbformat_minor": 5
}
