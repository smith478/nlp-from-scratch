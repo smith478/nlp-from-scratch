{
 "cells": [
  {
   "cell_type": "markdown",
   "metadata": {},
   "source": [
    "Here we will explore the ideas from `EFFICIENTLY LEARNING AT TEST-TIME: ACTIVE FINE-TUNING OF LLMS` from Jonas Hubotter, Sascha Bongni, Ido Hakimi, and Andreas Krause. The paper is [here](https://arxiv.org/pdf/2410.08020) and repo is [here](https://github.com/jonhue/activeft). The idea is to fine tune at test time on a small sample of data. Of particular interest is the sample of data that is used. Rather than typical retrieval where nearest neighbors are selected from the embedding space, they introduce a more data efficient method of selecting data. This is useful not only for retraining, but also for RAG type applications."
   ]
  },
  {
   "cell_type": "code",
   "execution_count": null,
   "metadata": {
    "vscode": {
     "languageId": "plaintext"
    }
   },
   "outputs": [],
   "source": []
  }
 ],
 "metadata": {
  "language_info": {
   "name": "python"
  }
 },
 "nbformat": 4,
 "nbformat_minor": 2
}
