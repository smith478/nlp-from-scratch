{
 "cells": [
  {
   "cell_type": "markdown",
   "metadata": {},
   "source": [
    "The idea is to focus on just the generative portion of the model and test new models as they are available. We will start by testing Marco o1"
   ]
  },
  {
   "cell_type": "code",
   "execution_count": null,
   "metadata": {
    "vscode": {
     "languageId": "plaintext"
    }
   },
   "outputs": [],
   "source": [
    "import json\n",
    "from typing import Dict, List, Optional, Tuple\n",
    "\n",
    "def extract_examples(data: List[Dict], index: int) -> Tuple[str, List[Tuple[str, str]]]:\n",
    "    \"\"\"\n",
    "    Extract the base finding and reference examples from the evaluation results.\n",
    "    \n",
    "    Args:\n",
    "        data: List of dictionaries containing the evaluation results\n",
    "        index: Index of the item to extract\n",
    "        \n",
    "    Returns:\n",
    "        Tuple containing:\n",
    "            - Base finding string\n",
    "            - List of tuples, each containing (finding, conclusion) pairs from reference examples\n",
    "    \"\"\"\n",
    "    item = data[index]\n",
    "    base_finding = item['finding']\n",
    "    \n",
    "    reference_examples = [\n",
    "        (example['finding'], example['conclusion'])\n",
    "        for example in item['reference_examples']\n",
    "    ]\n",
    "    \n",
    "    return base_finding, reference_examples\n",
    "\n",
    "def create_prompt(\n",
    "    base_finding: str,\n",
    "    reference_examples: List[Tuple[str, str]],\n",
    "    base_prompt: Optional[str] = None\n",
    ") -> str:\n",
    "    \"\"\"\n",
    "    Create a formatted prompt combining the base finding and reference examples.\n",
    "    \n",
    "    Args:\n",
    "        base_finding: The primary finding to generate conclusions for\n",
    "        reference_examples: List of (finding, conclusion) pairs to use as examples\n",
    "        base_prompt: Optional custom instructions for the prompt\n",
    "        \n",
    "    Returns:\n",
    "        Formatted prompt string\n",
    "    \"\"\"\n",
    "    if base_prompt is None:\n",
    "        base_prompt = \"\"\"Please generate the \"Conclusions\" section of a medical report based on the provided \"Findings\" section. \n",
    "Below are several example pairs of \"Findings\" and their corresponding \"Conclusions\" to help guide the format and style of your response.\n",
    "\n",
    "After reviewing these examples, please generate an appropriate conclusion for the new finding provided at the end.\"\"\"\n",
    "\n",
    "    # Format reference examples\n",
    "    examples_text = \"\\n\\n\".join([\n",
    "        f\"Example {i+1}:\\n\"\n",
    "        f\"Findings:\\n{finding}\\n\\n\"\n",
    "        f\"Conclusion:\\n{conclusion}\"\n",
    "        for i, (finding, conclusion) in enumerate(reference_examples)\n",
    "    ])\n",
    "    \n",
    "    # Combine all parts\n",
    "    full_prompt = f\"\"\"{base_prompt}\n",
    "\n",
    "{examples_text}\n",
    "\n",
    "New Finding to generate conclusion for:\n",
    "{base_finding}\"\"\"\n",
    "    \n",
    "    return full_prompt\n",
    "\n",
    "# Example usage:\n",
    "if __name__ == \"__main__\":\n",
    "    # Load data from file\n",
    "    with open(\"evaluation_results.json\", \"r\") as f:\n",
    "        data = json.load(f)\n",
    "    \n",
    "    # Extract examples for index 0\n",
    "    base_finding, reference_examples = extract_examples(data, 0)\n",
    "    \n",
    "    # Create prompt\n",
    "    prompt = create_prompt(base_finding, reference_examples)\n",
    "    print(prompt)"
   ]
  },
  {
   "cell_type": "markdown",
   "metadata": {},
   "source": []
  }
 ],
 "metadata": {
  "language_info": {
   "name": "python"
  }
 },
 "nbformat": 4,
 "nbformat_minor": 2
}
