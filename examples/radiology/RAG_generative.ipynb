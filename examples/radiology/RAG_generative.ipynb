{
 "cells": [
  {
   "cell_type": "markdown",
   "metadata": {},
   "source": [
    "The idea is to focus on just the generative portion of the model and test new models as they are available. We will start by testing Marco o1"
   ]
  },
  {
   "cell_type": "code",
   "execution_count": 1,
   "metadata": {},
   "outputs": [],
   "source": [
    "import json\n",
    "from typing import Any, Dict, List, Optional, Tuple\n",
    "import requests"
   ]
  },
  {
   "cell_type": "code",
   "execution_count": 2,
   "metadata": {},
   "outputs": [],
   "source": [
    "def extract_examples(data: List[Dict], index: int) -> Tuple[str, List[Tuple[str, str]]]:\n",
    "    \"\"\"\n",
    "    Extract the base finding and reference examples from the evaluation results.\n",
    "    \n",
    "    Args:\n",
    "        data: List of dictionaries containing the evaluation results\n",
    "        index: Index of the item to extract\n",
    "        \n",
    "    Returns:\n",
    "        Tuple containing:\n",
    "            - Base finding string\n",
    "            - List of tuples, each containing (finding, conclusion) pairs from reference examples\n",
    "    \"\"\"\n",
    "    item = data[index]\n",
    "    base_finding = item['finding']\n",
    "    \n",
    "    reference_examples = [\n",
    "        (example['finding'], example['conclusion'])\n",
    "        for example in item['reference_examples']\n",
    "    ]\n",
    "    \n",
    "    return base_finding, reference_examples\n",
    "\n",
    "def create_prompt(\n",
    "    base_finding: str,\n",
    "    reference_examples: List[Tuple[str, str]],\n",
    "    base_prompt: Optional[str] = None\n",
    ") -> str:\n",
    "    \"\"\"\n",
    "    Create a formatted prompt combining the base finding and reference examples.\n",
    "    \n",
    "    Args:\n",
    "        base_finding: The primary finding to generate conclusions for\n",
    "        reference_examples: List of (finding, conclusion) pairs to use as examples\n",
    "        base_prompt: Optional custom instructions for the prompt\n",
    "        \n",
    "    Returns:\n",
    "        Formatted prompt string\n",
    "    \"\"\"\n",
    "    if base_prompt is None:\n",
    "        base_prompt = \"\"\"Please generate the \"Conclusions\" section of a medical report based on the provided \"Findings\" section. \n",
    "Below are several example pairs of \"Findings\" and their corresponding \"Conclusions\" to help guide the format and style of your response.\n",
    "\n",
    "After reviewing these examples, please generate an appropriate conclusion for the new finding provided at the end.\"\"\"\n",
    "\n",
    "    # Format reference examples\n",
    "    examples_text = \"\\n\\n\".join([\n",
    "        f\"Example {i+1}:\\n\"\n",
    "        f\"Findings:\\n{finding}\\n\\n\"\n",
    "        f\"Conclusion:\\n{conclusion}\"\n",
    "        for i, (finding, conclusion) in enumerate(reference_examples)\n",
    "    ])\n",
    "    \n",
    "    # Combine all parts\n",
    "    full_prompt = f\"\"\"{base_prompt}\n",
    "\n",
    "{examples_text}\n",
    "\n",
    "New Finding to generate conclusion for:\n",
    "{base_finding}\"\"\"\n",
    "    \n",
    "    return full_prompt"
   ]
  },
  {
   "cell_type": "code",
   "execution_count": 3,
   "metadata": {},
   "outputs": [],
   "source": [
    "with open(\"evaluation_results.json\", \"r\") as f:\n",
    "    data = json.load(f)"
   ]
  },
  {
   "cell_type": "code",
   "execution_count": 4,
   "metadata": {},
   "outputs": [],
   "source": [
    "base_finding, reference_examples = extract_examples(data, 0)"
   ]
  },
  {
   "cell_type": "code",
   "execution_count": 5,
   "metadata": {},
   "outputs": [
    {
     "data": {
      "text/plain": [
       "'Orthogonal view whole body images dated May 11, 2023 are provided for review (total of 2 images). The cardiac silhouette is generally broad on both images, measuring above the limits of normal. This is most notable in the apex on the ventrodorsal image, with a broad-point of contact with the diaphragm. No distinct chamber enlargement is identified. No aortic bulge is noted. No pulmonary vasculature dilation is identified. The lungs are well-inflated and normal in appearance. No esophageal dilation is noted. The trachea is normal in diameter and position. The stomach and small intestine contain moderate granular mixed mineral and opaque ingesta and are within normal limits for a juvenile. The hepatic silhouette is within normal limits for a juvenile patient. The visible abdomen is normal. The surrounding osseous structures are normal.'"
      ]
     },
     "execution_count": 5,
     "metadata": {},
     "output_type": "execute_result"
    }
   ],
   "source": [
    "base_finding"
   ]
  },
  {
   "cell_type": "code",
   "execution_count": 6,
   "metadata": {},
   "outputs": [
    {
     "name": "stdout",
     "output_type": "stream",
     "text": [
      "Please generate the \"Conclusions\" section of a medical report based on the provided \"Findings\" section. \n",
      "Below are several example pairs of \"Findings\" and their corresponding \"Conclusions\" to help guide the format and style of your response.\n",
      "\n",
      "After reviewing these examples, please generate an appropriate conclusion for the new finding provided at the end.\n",
      "\n",
      "Example 1:\n",
      "Findings:\n",
      "Orthogonal whole body images dated May 30, 2024 are provided for review (total of 2 images). The three images dated May 22, 2021 are not evaluated. The cardiac silhouette margins are generally rounded. There is right-sided axial rotation on the ventrodorsal image, inhibiting evaluation in the region of the left atrium and left auricle. The axial rotation also causes artifactual more severe rounding of the right side of the cardiac silhouette. The visible cardiac silhouette margins are otherwise normal. The pulmonary vasculature are normal in size and margin. A longitudinal soft tissue opacity overlies the dorsal cervical trachea on the lateral image. The trachea remains normal in diameter. The visible pulmonary parenchyma and pleural space is normal. The hepatic silhouette is markedly enlarged, extending to the mid-abdomen, with rounded margins, causing rounding to the ventral abdominal body wall. The walls of the small intestine are uniformly subjectively thickened, and the small intestine is mildly gas-filled. The colon contains mild fecal material and moderate gas. The remainder of the abdomen is within normal limits. The peritoneal serosal detail is adequate. The right acetabulum is severely shallow without overlap of the right femoral head. Marked remodeling and osteophytosis surrounds the right acetabulum and femoral head. The right patella is medially luxated, and the proximal right femur is rotated laterally, with thinning of the right pelvic limb musculature. Narrowing is present of the mid-thoracic spine and caudal thoracic spine intervertebal disc spaces with ventral spondylosis deformans present.\n",
      "\n",
      "Conclusion:\n",
      "Suspected mild left and possibly concurrent mild right-sided cardiomegaly. There is a limited evaluation of the cardiac silhouette on this study due to lack of collimation to the thorax and lack of a three-view series. For future evaluation of the thorax, three-view series collimated to the thorax are necessary for proper evaluation. Consideration could be given to repeating the series, centered over the cardiac silhouette, collimated, and three-view. No evidence of pulmonary hypertension is identified, though radiographs are poorly sensitive for detection. Mitral and tricuspid valve degenerative disease is highly suspected though would require echocardiogram for diagnosis and long-term therapeutic recommendations. Marked hepatomegaly, likely vacuolar degeneration/regeneration (possibly iatrogenic if the patient receives or has received glucocorticoids rather than naturally occurring). Hepatic infiltrative or metastatic neoplasia or congestion are considered less likely. Chronic severe right coxofemoral luxation and degenerative change, with chronic right medial patellar luxation. Subjective small intestinal mural thickening. Consider inflammatory bowel disease, acute enteritis, or slightly less likely, infiltrative neoplasia. Abdominal ultrasound would be necessary to determine if wall thickening and alterations of wall layering is present, and if so, biopsy may be indicated. Multifocal thoracic spinal degenerative change.\n",
      "\n",
      "Example 2:\n",
      "Findings:\n",
      "Three view whole body images dated 12/16/2023 are provided for review (total of 3 images). The cardiac silhouette and pulmonary vasculature are normal in size and margin. The lungs are well-inflated and normal in appearance. The hepatic silhouette is moderately enlarged and rounded ventrally. The stomach is moderately distended with amorphous soft tissue opaque material and gas. The small intestine is moderately filled with fluid and gas. The urinary bladder is small and obscured by the gastrointestinal structures. The renal silhouettes are also partially obscured and the visible margins are normal. The osseous structures are normal.\n",
      "\n",
      "Conclusion:\n",
      "Moderate hepatomegaly with an otherwise normal study. The hepatomegaly is likely unrelated to the presenting complaint, possibly vacuolar degeneration/regeneration rather than hepatitis or hepatic infiltrative neoplasia. A cause for the clinical signs is not apparent, though the urinary bladder is incompletely evaluated on this study. Cystitis, developing bladder neoplasia, and/or mild mineralized urinary bladder debris remains possible. Consider ultrasound of the bladder for complete evaluation.\n",
      "\n",
      "Example 3:\n",
      "Findings:\n",
      "Three view thorax and three view abdomen images dated 08/07/2024 are provided for review (total of 6 images). Thorax: A mild diffuse bronchial pattern is present. The lungs are well-inflated and otherwise within normal limits. A moderate amount of adipose tissue is present in the ventral pleural space and mediastinum. This partially effaces margins of the cardiac silhouette on the ventrodorsal image. The visible cardiac silhouette margins are normal, with normal associated vasculature. The trachea and bronchi are normal in diameter. The pleural space is normal. Abdomen: hepatic silhouette is moderately enlarged with rounded ventral margins. the stomach and small intestine are mildly diffusely gas filled. The colon contains multiple volume of fecal material mixed with moderate gas. The peritoneal serosal detail is adequate. The visible splenic and renal silhouette margins are normal. The urinary bladder is moderately filled. The surrounding osseous structures are normal.\n",
      "\n",
      "Conclusion:\n",
      "The mild bronchial pattern is nonspecific and may represent incidental age-related change or thickening in response to chronic lower airway inflammation. A definitive cause for chronic cough is not identified. No bronchopneumonia is identified. Transient airway collapse remains possible as well as an immune-mediated bronchitis, less likely infectious given the chronicity and lack of response to antibiotic therapy. Correlate to the nature of cough insensitivity to tracheal palpation and consider lower airway wash with culture and cytology for further workup. Moderate non-specific hepatomegaly, likely to represent benign vacuolar degeneration/regeneration, with acute hepatitis or infiltrative or metastatic hepatic neoplasia possible but less likely given the lack of other changes. Correlate to the biochemistry and examination to determine if abdominal ultrasound would be indicated in addition to further evaluation for underlying causes such as endocrine testing. The presence of fluid in the caudal thoracic esophagus on both lateral projections is typically clinically incidental finding, though may be also associated with reflux/regurgitation. If representing pathology, chronic microaspiration could also result in a chronic or recurrent cough.\n",
      "\n",
      "New Finding to generate conclusion for:\n",
      "Orthogonal view whole body images dated May 11, 2023 are provided for review (total of 2 images). The cardiac silhouette is generally broad on both images, measuring above the limits of normal. This is most notable in the apex on the ventrodorsal image, with a broad-point of contact with the diaphragm. No distinct chamber enlargement is identified. No aortic bulge is noted. No pulmonary vasculature dilation is identified. The lungs are well-inflated and normal in appearance. No esophageal dilation is noted. The trachea is normal in diameter and position. The stomach and small intestine contain moderate granular mixed mineral and opaque ingesta and are within normal limits for a juvenile. The hepatic silhouette is within normal limits for a juvenile patient. The visible abdomen is normal. The surrounding osseous structures are normal.\n"
     ]
    }
   ],
   "source": [
    "prompt = create_prompt(base_finding, reference_examples)\n",
    "print(prompt)"
   ]
  },
  {
   "cell_type": "code",
   "execution_count": 7,
   "metadata": {},
   "outputs": [],
   "source": [
    "def run_ollama_inference(\n",
    "    prompt: str,\n",
    "    model: str = \"mistral\",\n",
    "    system_prompt: Optional[str] = None,\n",
    "    temperature: float = 0.7,\n",
    "    max_tokens: Optional[int] = None\n",
    ") -> str:\n",
    "    \"\"\"\n",
    "    Run inference using an Ollama model.\n",
    "    \n",
    "    Args:\n",
    "        prompt: The input text to process\n",
    "        model: Name of the Ollama model to use (default: \"mistral\")\n",
    "        system_prompt: Optional system prompt to set context\n",
    "        temperature: Sampling temperature (default: 0.7)\n",
    "        max_tokens: Maximum tokens to generate (optional)\n",
    "        \n",
    "    Returns:\n",
    "        Generated text response\n",
    "        \n",
    "    Raises:\n",
    "        requests.exceptions.RequestException: If the API call fails\n",
    "    \"\"\"\n",
    "    url = \"http://localhost:11434/api/generate\"\n",
    "    \n",
    "    payload = {\n",
    "        \"model\": model,\n",
    "        \"prompt\": prompt,\n",
    "        \"stream\": False,\n",
    "        \"temperature\": temperature\n",
    "    }\n",
    "    \n",
    "    if system_prompt:\n",
    "        payload[\"system\"] = system_prompt\n",
    "    if max_tokens:\n",
    "        payload[\"max_tokens\"] = max_tokens\n",
    "\n",
    "    try:\n",
    "        response = requests.post(url, json=payload)\n",
    "        response.raise_for_status()\n",
    "        return response.json()[\"response\"]\n",
    "    except requests.exceptions.RequestException as e:\n",
    "        raise Exception(f\"Failed to get response from Ollama: {str(e)}\")"
   ]
  },
  {
   "cell_type": "code",
   "execution_count": 8,
   "metadata": {},
   "outputs": [
    {
     "name": "stdout",
     "output_type": "stream",
     "text": [
      "NAME                    ID              SIZE      MODIFIED          \n",
      "opencoder:latest        cd882db52297    4.7 GB    About an hour ago    \n",
      "smollm2:latest          cef4a1e09247    1.8 GB    About an hour ago    \n",
      "marco-o1:latest         007603b83a96    4.7 GB    2 days ago           \n",
      "qwen2.5:latest          845dbda0ea48    4.7 GB    3 weeks ago          \n",
      "gemma2:latest           ff02c3702f32    5.4 GB    3 weeks ago          \n",
      "qwen2.5-coder:latest    4a26c19c376e    4.7 GB    5 weeks ago          \n",
      "internlm2:latest        5050e36678ab    4.5 GB    4 months ago         \n",
      "llama3:latest           365c0bd3c000    4.7 GB    4 months ago         \n"
     ]
    }
   ],
   "source": [
    "!ollama list"
   ]
  },
  {
   "cell_type": "code",
   "execution_count": 9,
   "metadata": {},
   "outputs": [],
   "source": [
    "system_prompt = \"You are an AI radiology assistant, helping to generate conclusions from findings in radiology reports. Please make sure that all output is in english.\"\n"
   ]
  },
  {
   "cell_type": "code",
   "execution_count": null,
   "metadata": {},
   "outputs": [],
   "source": [
    "# response = run_ollama_inference(prompt=prompt, model='qwen2.5', system_prompt=system_prompt)\n",
    "# response = run_ollama_inference(prompt=prompt, model='gemma2', system_prompt=system_prompt)\n",
    "response = run_ollama_inference(prompt=prompt, model='smollm2', system_prompt=system_prompt)\n",
    "response = run_ollama_inference(prompt=prompt, model='qwq', system_prompt=system_prompt)\n",
    "# response = run_ollama_inference(prompt=prompt, model='marco-o1', system_prompt=system_prompt) # This one doesn't seem to work well"
   ]
  },
  {
   "cell_type": "code",
   "execution_count": 12,
   "metadata": {},
   "outputs": [
    {
     "data": {
      "text/plain": [
       "'Orthogonal view whole body images dated May 11, 2023 are provided for review (total of 2 images). The cardiac silhouette is generally broad on both images, measuring above the limits of normal. This is most notable in the apex on the ventrodorsal image, with a broad-point of contact with the diaphragm. No distinct chamber enlargement is identified. No aortic bulge is noted. No pulmonary vasculature dilation is identified. The lungs are well-inflated and normal in appearance. No esophageal dilation is noted. The trachea is normal in diameter and position. The stomach and small intestine contain moderate granular mixed mineral and opaque ingesta and are within normal limits for a juvenile. The hepatic silhouette is within normal limits for a juvenile patient. The visible abdomen is normal. The surrounding osseous structures are normal.'"
      ]
     },
     "execution_count": 12,
     "metadata": {},
     "output_type": "execute_result"
    }
   ],
   "source": [
    "base_finding"
   ]
  },
  {
   "cell_type": "code",
   "execution_count": 11,
   "metadata": {},
   "outputs": [
    {
     "name": "stdout",
     "output_type": "stream",
     "text": [
      "Based on the provided findings, there is mild to moderately broad cardiac enlargement with an otherwise normal study. This could be related to cardiomegaly or possible vacuolar degeneration/regeneration in the heart muscles and may require further evaluation through echocardiogram for a definitive diagnosis and appropriate therapeutic recommendations. Additionally, considering the clinical signs of a cough that persists despite antibiotic treatment, consider further workup with thoracic and abdominal ultrasound, as well as follow-up blood work to correlate with biochemical results to determine if there are any underlying causes contributing to this condition.\n"
     ]
    }
   ],
   "source": [
    "print(response)"
   ]
  },
  {
   "cell_type": "code",
   "execution_count": null,
   "metadata": {},
   "outputs": [],
   "source": [
    "# Alternative implementation using the ollama package\n",
    "def run_ollama_client(\n",
    "    prompt: str,\n",
    "    model: str = \"mistral\",\n",
    "    system_prompt: Optional[str] = None,\n",
    "    temperature: float = 0.7\n",
    ") -> str:\n",
    "    \"\"\"\n",
    "    Run inference using the Ollama client package.\n",
    "    \n",
    "    Args:\n",
    "        prompt: The input text to process\n",
    "        model: Name of the Ollama model to use (default: \"mistral\")\n",
    "        system_prompt: Optional system prompt to set context\n",
    "        temperature: Sampling temperature (default: 0.7)\n",
    "        \n",
    "    Returns:\n",
    "        Generated text response\n",
    "    \"\"\"\n",
    "    try:\n",
    "        import ollama\n",
    "    except ImportError:\n",
    "        raise ImportError(\"Please install ollama package: pip install ollama\")\n",
    "    \n",
    "    try:\n",
    "        response = ollama.generate(\n",
    "            model=model,\n",
    "            prompt=prompt,\n",
    "            system=system_prompt if system_prompt else None,\n",
    "            temperature=temperature\n",
    "        )\n",
    "        return response['response']\n",
    "    except Exception as e:\n",
    "        raise Exception(f\"Failed to get response from Ollama: {str(e)}\")"
   ]
  }
 ],
 "metadata": {
  "kernelspec": {
   "display_name": "Python 3 (ipykernel)",
   "language": "python",
   "name": "python3"
  },
  "language_info": {
   "codemirror_mode": {
    "name": "ipython",
    "version": 3
   },
   "file_extension": ".py",
   "mimetype": "text/x-python",
   "name": "python",
   "nbconvert_exporter": "python",
   "pygments_lexer": "ipython3",
   "version": "3.11.0"
  }
 },
 "nbformat": 4,
 "nbformat_minor": 4
}
