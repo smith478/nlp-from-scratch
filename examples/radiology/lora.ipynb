{
 "cells": [
  {
   "cell_type": "markdown",
   "id": "bf3a7a6e-5a10-4cab-aa36-befaccdc0f29",
   "metadata": {},
   "source": [
    "Resources:\n",
    "- [Medium blog post](https://medium.com/@tejpal.abhyuday/optimizing-language-model-fine-tuning-with-peft-qlora-integration-and-training-time-reduction-04df39dca72b)"
   ]
  },
  {
   "cell_type": "code",
   "execution_count": 3,
   "id": "9fca083f-1438-471a-8c71-50979590c2bb",
   "metadata": {},
   "outputs": [],
   "source": [
    "!pip install -q -U bitsandbytes peft accelerate einops"
   ]
  },
  {
   "cell_type": "code",
   "execution_count": null,
   "id": "990bfe3e-a30f-426b-978a-d035d1a98b99",
   "metadata": {},
   "outputs": [],
   "source": []
  }
 ],
 "metadata": {
  "kernelspec": {
   "display_name": "Python 3 (ipykernel)",
   "language": "python",
   "name": "python3"
  },
  "language_info": {
   "codemirror_mode": {
    "name": "ipython",
    "version": 3
   },
   "file_extension": ".py",
   "mimetype": "text/x-python",
   "name": "python",
   "nbconvert_exporter": "python",
   "pygments_lexer": "ipython3",
   "version": "3.11.9"
  }
 },
 "nbformat": 4,
 "nbformat_minor": 5
}
